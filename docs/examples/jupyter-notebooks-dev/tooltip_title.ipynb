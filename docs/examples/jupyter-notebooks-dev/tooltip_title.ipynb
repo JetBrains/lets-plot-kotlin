{
 "cells": [
  {
   "cell_type": "markdown",
   "metadata": {},
   "source": [
    "## Tooltip Customization"
   ]
  },
  {
   "cell_type": "code",
   "execution_count": null,
   "metadata": {},
   "outputs": [],
   "source": [
    "%useLatestDescriptors\n",
    "%use lets-plot\n",
    "%use krangl"
   ]
  },
  {
   "cell_type": "code",
   "execution_count": null,
   "metadata": {},
   "outputs": [],
   "source": [
    "var mpg_df = DataFrame.readCSV(\"https://raw.githubusercontent.com/JetBrains/lets-plot-kotlin/master/docs/examples/data/mpg.csv\")\n",
    "mpg_df.head()"
   ]
  },
  {
   "cell_type": "code",
   "execution_count": null,
   "metadata": {},
   "outputs": [],
   "source": [
    "val mpg_dat = mpg_df.toMap()"
   ]
  },
  {
   "cell_type": "code",
   "execution_count": null,
   "metadata": {},
   "outputs": [],
   "source": [
    "val p = letsPlot(mpg_dat) {x=\"displ\"; y=\"cty\"} + \n",
    "    scale_size(range = 5 to 15, breaks = listOf(15, 40)) + ggsize(600, 350)"
   ]
  },
  {
   "cell_type": "code",
   "execution_count": null,
   "metadata": {},
   "outputs": [],
   "source": [
    "// Tooltips: split a line using '\\n'\n",
    "\n",
    "p + geomPoint(shape=21, color=\"white\",\n",
    "                   tooltips=layerTooltips()\n",
    "                          .line(\"@manufacturer \\n@model\")\n",
    "                          .line(\"@|@class\")\n",
    "                          .line(\"@|@year\")) {fill=\"drv\"; size=\"hwy\"}"
   ]
  },
  {
   "cell_type": "code",
   "execution_count": null,
   "metadata": {},
   "outputs": [],
   "source": [
    "// Use '\\n' in 'format'\n",
    "\n",
    "p + geomPoint(shape=21,\n",
    "              color=\"white\",\n",
    "              tooltips=layerTooltips().format(\"^size\", \"{.0f} \\n(mpg)\")) {fill=\"drv\"; size=\"hwy\"}"
   ]
  },
  {
   "cell_type": "code",
   "execution_count": null,
   "metadata": {},
   "outputs": [],
   "source": [
    "// Tooltip title\n",
    "\n",
    "// Add title to default tooltip lines\n",
    "\n",
    "p + geomPoint(shape=21, \n",
    "              color=\"white\", \n",
    "              tooltips=layerTooltips().title(\"@manufacturer @model\")) {fill=\"drv\"; size=\"hwy\"}"
   ]
  },
  {
   "cell_type": "code",
   "execution_count": null,
   "metadata": {},
   "outputs": [],
   "source": [
    "// Add title to user specified multiline tooltip \n",
    "\n",
    "p + geomPoint(shape=21, \n",
    "              color=\"white\",\n",
    "              tooltips=layerTooltips(\"class\", \"year\").title(\"@manufacturer @model\")\n",
    "             ) {fill=\"drv\"; size=\"hwy\"}"
   ]
  },
  {
   "cell_type": "code",
   "execution_count": null,
   "metadata": {},
   "outputs": [],
   "source": [
    "// Multi-line title \n",
    "\n",
    "p + geomPoint(shape=21,\n",
    "              color=\"white\",\n",
    "              tooltips=layerTooltips()\n",
    "                          .title(\"Car info: \\n@manufacturer @model\")\n",
    "                          .line(\"@|@class\")\n",
    "                          .line(\"drive train|@drv\")\n",
    "                          .line(\"@|@year\")) {fill=\"drv\"; size=\"hwy\"}\n"
   ]
  },
  {
   "cell_type": "code",
   "execution_count": null,
   "metadata": {},
   "outputs": [],
   "source": []
  },
  {
   "cell_type": "code",
   "execution_count": null,
   "metadata": {},
   "outputs": [],
   "source": [
    "// Initialize Lets-Plot GeoTools extension. \n",
    "%use lets-plot-gt(gt=\"[23,)\")\n",
    "@file:DependsOn(\"org.geotools:gt-shapefile:[23,)\")\n",
    "@file:DependsOn(\"org.geotools:gt-cql:[23,)\")"
   ]
  },
  {
   "cell_type": "code",
   "execution_count": null,
   "metadata": {},
   "outputs": [],
   "source": [
    "import org.geotools.data.shapefile.ShapefileDataStoreFactory\n",
    "import org.geotools.data.simple.SimpleFeatureCollection\n",
    "import java.net.URL\n",
    "import org.geotools.filter.text.cql2.CQL\n",
    "\n",
    "val factory = ShapefileDataStoreFactory()\n",
    "\n",
    "val worldFeatures : SimpleFeatureCollection = with(\"naturalearth_lowres\") {\n",
    "    val url = \"https://raw.githubusercontent.com/JetBrains/lets-plot-kotlin/master/docs/examples/shp/${this}/${this}.shp\"\n",
    "    factory.createDataStore(URL(url)).featureSource.features\n",
    "}\n",
    "\n",
    "// Convert Feature Collection to SpatialDataset.\n",
    "// Use 10 decimals to encode floating point numbers (this is the default).\n",
    "val world = worldFeatures.toSpatialDataset(10)"
   ]
  },
  {
   "cell_type": "code",
   "execution_count": null,
   "metadata": {},
   "outputs": [],
   "source": [
    "// Add long descriptions \n",
    "\n",
    "val dataWithDescr = mapOf(\n",
    "    \"region\" to listOf(\"Europe\", \"Asia\", \"North America\", \"Africa\", \"Australia\", \"Oceania\"),\n",
    "    \"description\" to listOf(\n",
    "       \"A continent located entirely in the Northern Hemisphere and mostly in the Eastern Hemisphere. It shares the continental landmass of Afro-Eurasia with both Asia and Africa. It is bordered by the Arctic Ocean to the north, the Atlantic Ocean to the west, the Mediterranean Sea to the south and Asia to the east.\", \n",
    "       \"Earth's largest and most populous continent. It shares the continental landmass of Eurasia with the continent of Europe, and the continental landmass of Afro-Eurasia with Africa and Europe. Asia covers an area of 44,579,000 square kilometres, about 30% of Earth's total land area and 8.7% of the Earth's total surface area.\",\n",
    "       \"A continent in the Northern Hemisphere and almost entirely within the Western Hemisphere. It is bordered to the north by the Arctic Ocean, to the east by the Atlantic Ocean, to the southeast by South America and the Caribbean Sea, and to the west and south by the Pacific Ocean.\",\n",
    "       \"The world's second-largest and second-most populous continent, after Asia in both cases. At about 30.3 million km2 including adjacent islands, it covers 6% of Earth's total surface area and 20% of its land area. With 1.3 billion people as of 2018, it accounts for about 16% of the world's human population.\", \n",
    "       \"A sovereign transcontinental country comprising the mainland of the Australian continent, the island of Tasmania, and numerous smaller islands. With an area of 7,617,930 square kilometres, Australia is the largest country by area in Oceania and the world's sixth-largest country. Australia is the oldest, flattest, and driest inhabited continent, with the least fertile soils.\", \n",
    "       \"A geographic region that includes Australasia, Melanesia, Micronesia and Polynesia. Spanning the Eastern and Western Hemispheres, Oceania has a land area of 8,525,989 square kilometres and a population of over 41 million. When compared with the continents, the region of Oceania is the smallest in land area and the second smallest in population after Antarctica.\"\n",
    "    )\n",
    ")"
   ]
  },
  {
   "cell_type": "code",
   "execution_count": null,
   "metadata": {},
   "outputs": [],
   "source": [
    "// Example to demonstrate automatic word wrap\n",
    "\n",
    "letsPlot() + geomMap(data = dataWithDescr,\n",
    "                     map = world,\n",
    "                     mapJoin = \"region\" to \"continent\",\n",
    "                     color = \"white\",\n",
    "                     tooltips = layerTooltips().title(\"@region\").line(\"@|@description\")) { fill = \"region\" } + \n",
    "    theme(axis=\"blank\", panelGrid=\"blank\").legendPositionNone() +\n",
    "    coordMap(ylim = -70 to 85) + \n",
    "    ggsize(800,500)"
   ]
  }
 ],
 "metadata": {
  "kernelspec": {
   "display_name": "Kotlin",
   "language": "kotlin",
   "name": "kotlin"
  },
  "language_info": {
   "codemirror_mode": "kotlin",
   "file_extension": ".kt",
   "mimetype": "text/x-kotlin",
   "name": "kotlin",
   "nbconvert_exporter": "",
   "pygments_lexer": "kotlin",
   "version": "1.6.0-dev-1733"
  }
 },
 "nbformat": 4,
 "nbformat_minor": 4
}