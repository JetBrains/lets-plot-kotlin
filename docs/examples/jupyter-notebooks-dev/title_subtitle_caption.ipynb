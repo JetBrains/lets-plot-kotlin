{
 "cells": [
  {
   "cell_type": "code",
   "execution_count": null,
   "metadata": {},
   "outputs": [],
   "source": [
    "%useLatestDescriptors\n",
    "%use lets-plot\n",
    "%use krangl"
   ]
  },
  {
   "cell_type": "code",
   "execution_count": null,
   "metadata": {},
   "outputs": [],
   "source": [
    "var mpg_df = DataFrame.readCSV(\"https://raw.githubusercontent.com/JetBrains/lets-plot-kotlin/master/docs/examples/data/mpg.csv\")\n",
    "mpg_df.head()"
   ]
  },
  {
   "cell_type": "code",
   "execution_count": null,
   "metadata": {},
   "outputs": [],
   "source": [
    "val mpg_dat = mpg_df.toMap()"
   ]
  },
  {
   "cell_type": "code",
   "execution_count": null,
   "metadata": {},
   "outputs": [],
   "source": [
    "val p = letsPlot(mpg_dat) + geomPoint { x=\"displ\"; y=\"hwy\"; color=\"drv\" } \n",
    "p"
   ]
  },
  {
   "cell_type": "code",
   "execution_count": null,
   "metadata": {},
   "outputs": [],
   "source": [
    "p + ggtitle(\"The plot title using 'ggtitle()'\")"
   ]
  },
  {
   "cell_type": "code",
   "execution_count": null,
   "metadata": {},
   "outputs": [],
   "source": [
    "p + labs(title = \"The plot title using 'labs()'\")"
   ]
  },
  {
   "cell_type": "code",
   "execution_count": null,
   "metadata": {},
   "outputs": [],
   "source": [
    "// Add subtitle using ggtitle()\n",
    "\n",
    "p + ggtitle(\"The plot title\", subtitle = \"The plot subtitle\")"
   ]
  },
  {
   "cell_type": "code",
   "execution_count": null,
   "metadata": {},
   "outputs": [],
   "source": [
    "// Add subtitle using labs()\n",
    "\n",
    "p + labs(title = \"The plot title\", subtitle = \"The plot subtitle\")"
   ]
  },
  {
   "cell_type": "code",
   "execution_count": null,
   "metadata": {},
   "outputs": [],
   "source": [
    "// Add caption\n",
    "\n",
    "val p2 = p + labs(title = \"The plot title\", subtitle = \"The plot subtitle\", caption = \"The plot caption\")\n",
    "p2"
   ]
  },
  {
   "cell_type": "code",
   "execution_count": null,
   "metadata": {},
   "outputs": [],
   "source": [
    "// Add color for titles\n",
    "\n",
    "// 'title' applies to plot's title, subtitle, caption\n",
    "p2 + theme(title = elementText(color=\"blue\"))"
   ]
  },
  {
   "cell_type": "code",
   "execution_count": null,
   "metadata": {},
   "outputs": [],
   "source": [
    "// 'plot_title' will also apply to the subtitle\n",
    "\n",
    "p2 + theme(plotTitle = elementText(color=\"blue\"))"
   ]
  },
  {
   "cell_type": "code",
   "execution_count": null,
   "metadata": {},
   "outputs": [],
   "source": [
    "// Set own colors\n",
    "\n",
    "p2 + theme(\n",
    "    plotTitle = elementText(color=\"blue\"), \n",
    "    plotSubtitle = elementText(color=\"red\"),\n",
    "    plotCaption = elementText(color=\"dark_green\"))"
   ]
  },
  {
   "cell_type": "code",
   "execution_count": null,
   "metadata": {},
   "outputs": [],
   "source": [
    "// Multiple lines - using `\\n`\n",
    "\n",
    "p + labs(\n",
    "        title = \"The plot title:\\nFuel efficiency for most popular models of car\", \n",
    "        subtitle = \"The plot subtitle:\\nPoints are colored by the type of drive train\",\n",
    "        caption = \"The plot caption:\\nmpg dataset\"\n",
    "    ) + theme(plotSubtitle = elementText(color=\"gray\"), plotCaption = elementText(color=\"light_gray\"))"
   ]
  },
  {
   "cell_type": "code",
   "execution_count": null,
   "metadata": {},
   "outputs": [],
   "source": [
    "// Legend title\n",
    "\n",
    "val p1 = letsPlot(mpg_dat) + geomPoint(size=4) { x=\"displ\"; y=\"hwy\"; color=\"cty\"; shape=\"drv\" } \n",
    "p1 + labs(color=\"City mileage\", shape=\"Drive type\")"
   ]
  },
  {
   "cell_type": "code",
   "execution_count": null,
   "metadata": {},
   "outputs": [],
   "source": [
    "// Change legend position\n",
    "\n",
    "p1 + labs(color=\"City mileage\", shape=\"Drive type\") + theme().legendPositionBottom()"
   ]
  },
  {
   "cell_type": "code",
   "execution_count": null,
   "metadata": {},
   "outputs": [],
   "source": [
    "// Use multiple lines in legend titles\n",
    "\n",
    "p1 + labs(color=\"City mileage\\n(mpg)\", \n",
    "          shape=\"Drive type\\n(front/4/rear wheel)\") "
   ]
  },
  {
   "cell_type": "code",
   "execution_count": null,
   "metadata": {},
   "outputs": [],
   "source": [
    "p1 + theme().legendPositionBottom() +\n",
    "   labs(color=\"City mileage\\n(mpg)\", shape=\"Drive type\\n(front/4/rear wheel)\") "
   ]
  },
  {
   "cell_type": "code",
   "execution_count": null,
   "metadata": {},
   "outputs": [],
   "source": [
    "p1 + theme().legendPositionBottom() +\n",
    "   labs(color=\"City mileage\\n(mpg)\", shape=\"Drive type\\n(front/4/rear wheel)\") +\n",
    "   scaleShape(guide=guideLegend(nrow=3))"
   ]
  }
 ],
 "metadata": {
  "kernelspec": {
   "display_name": "Kotlin",
   "language": "kotlin",
   "name": "kotlin"
  },
  "language_info": {
   "codemirror_mode": "kotlin",
   "file_extension": ".kt",
   "mimetype": "text/x-kotlin",
   "name": "kotlin",
   "nbconvert_exporter": "",
   "pygments_lexer": "kotlin",
   "version": "1.6.0-dev-1733"
  }
 },
 "nbformat": 4,
 "nbformat_minor": 4
}