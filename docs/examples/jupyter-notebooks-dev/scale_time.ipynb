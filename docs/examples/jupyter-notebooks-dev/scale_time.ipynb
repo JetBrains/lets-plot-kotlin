{
 "cells": [
  {
   "cell_type": "code",
   "execution_count": null,
   "id": "starting-sentence",
   "metadata": {},
   "outputs": [],
   "source": [
    "%useLatestDescriptors\n",
    "%use lets-plot"
   ]
  },
  {
   "cell_type": "code",
   "execution_count": null,
   "id": "precise-rough",
   "metadata": {},
   "outputs": [],
   "source": [
    "import kotlin.random.Random\n",
    "\n",
    "fun timePlot(\n",
    "    title: String,\n",
    "    entries: Iterable<Int>,\n",
    "    duration: Long,\n",
    "    yTimeAxis: Boolean = false\n",
    "): jetbrains.letsPlot.intern.Plot {\n",
    "    val rnd = Random(0)\n",
    "    val time = entries.map { it * duration }\n",
    "    val values = time.indices.map { rnd.nextDouble(0.0, 20.0) }\n",
    "\n",
    "    val data = mapOf<String, Any>(\n",
    "        \"time\" to time,\n",
    "        \"values\" to values\n",
    "    )\n",
    "    return ggplot(data) + ggtitle(title) + if (yTimeAxis) {\n",
    "        geomLine { x = \"values\"; y = \"time\" } + scaleYTime()\n",
    "    } else {\n",
    "        geomLine { x = \"time\"; y = \"values\" } + scaleXTime()\n",
    "    }\n",
    "}\n",
    "\n",
    "val MS: Long = 1\n",
    "val SECOND: Long = 1000 * MS\n",
    "val MINUTE: Long = 60 * SECOND\n",
    "val HOUR: Long = 60 * MINUTE"
   ]
  },
  {
   "cell_type": "code",
   "execution_count": null,
   "id": "proprietary-value",
   "metadata": {},
   "outputs": [],
   "source": [
    "val plots = listOf(\n",
    "    timePlot(\"5 seconds\", 0..5000 step 5, MS),\n",
    "    timePlot(\"24 hours\", 0..24, HOUR),\n",
    "    timePlot(\"5 days\", 0..120, HOUR),\n",
    "    timePlot(\"30 days\", 0..720, HOUR),\n",
    "    timePlot(\"-30..30, MINUTE\", -30..30, MINUTE),\n",
    "    timePlot(\"-30..30, MINUTE\", -30..30, MINUTE, yTimeAxis = true)\n",
    ")\n",
    "\n",
    "gggrid(plots, ncol = 2, cellWidth = 470, cellHeight = 300).show()"
   ]
  }
 ],
 "metadata": {
  "kernelspec": {
   "display_name": "Kotlin",
   "language": "kotlin",
   "name": "kotlin"
  },
  "language_info": {
   "codemirror_mode": "kotlin",
   "file_extension": ".kt",
   "mimetype": "text/x-kotlin",
   "name": "kotlin",
   "nbconvert_exporter": "",
   "pygments_lexer": "kotlin",
   "version": "1.6.0-dev-1733"
  }
 },
 "nbformat": 4,
 "nbformat_minor": 5
}
