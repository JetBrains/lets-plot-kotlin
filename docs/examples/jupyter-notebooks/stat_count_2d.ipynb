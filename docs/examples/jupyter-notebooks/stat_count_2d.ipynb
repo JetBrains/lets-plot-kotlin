{
 "cells": [
  {
   "cell_type": "markdown",
   "id": "4fc94f03",
   "metadata": {},
   "source": [
    "# New variables computed by `'count'` and  `'count2d'` statistics\n",
    "\n",
    "`geomBar()` uses `'count'` statistical transformation. In addition to `'..count..'` variable, the statistics now provide additional variables related to sum (`'..sum..'`), `'..prop..'` (proportion) and `'..proppct..'` (proportion in percent).\n",
    "\n",
    "`geomPie()` uses `'count2d'` statistical transformation. It allows to make a slice sizes proportional to the number of cases in each group (or if the weight aesthetic is supplied, the sum of the weights). Also `'count2d'` provides variables for proportion (`'..prop..'`) and proportion in percent (`'..proppct..'`)."
   ]
  },
  {
   "cell_type": "code",
   "execution_count": 1,
   "id": "4b7169bc",
   "metadata": {},
   "outputs": [
    {
     "data": {
      "text/html": [
       "   <div id=\"tz5B17\"></div>\n",
       "   <script type=\"text/javascript\" data-lets-plot-script=\"library\">\n",
       "       if(!window.letsPlotCallQueue) {\n",
       "           window.letsPlotCallQueue = [];\n",
       "       }; \n",
       "       window.letsPlotCall = function(f) {\n",
       "           window.letsPlotCallQueue.push(f);\n",
       "       };\n",
       "       (function() {\n",
       "           var script = document.createElement(\"script\");\n",
       "           script.type = \"text/javascript\";\n",
       "           script.src = \"https://cdn.jsdelivr.net/gh/JetBrains/lets-plot@v3.0.0/js-package/distr/lets-plot.min.js\";\n",
       "           script.onload = function() {\n",
       "               window.letsPlotCall = function(f) {f();};\n",
       "               window.letsPlotCallQueue.forEach(function(f) {f();});\n",
       "               window.letsPlotCallQueue = [];\n",
       "               \n",
       "               \n",
       "           };\n",
       "           script.onerror = function(event) {\n",
       "               window.letsPlotCall = function(f) {};\n",
       "               window.letsPlotCallQueue = [];\n",
       "               var div = document.createElement(\"div\");\n",
       "               div.style.color = 'darkred';\n",
       "               div.textContent = 'Error loading Lets-Plot JS';\n",
       "               document.getElementById(\"tz5B17\").appendChild(div);\n",
       "           };\n",
       "           var e = document.getElementById(\"tz5B17\");\n",
       "           e.appendChild(script);\n",
       "       })();\n",
       "   </script>"
      ]
     },
     "metadata": {},
     "output_type": "display_data"
    }
   ],
   "source": [
    "%useLatestDescriptors\n",
    "%use lets-plot"
   ]
  },
  {
   "cell_type": "code",
   "execution_count": 2,
   "id": "1595f4ce",
   "metadata": {},
   "outputs": [
    {
     "data": {
      "text/plain": [
       "Lets-Plot Kotlin API v.4.1.2-alpha1. Frontend: Notebook with dynamically loaded JS. Lets-Plot JS v.3.0.0."
      ]
     },
     "execution_count": 2,
     "metadata": {},
     "output_type": "execute_result"
    }
   ],
   "source": [
    "LetsPlot.getInfo()"
   ]
  },
  {
   "cell_type": "code",
   "execution_count": 3,
   "id": "df3f50b1",
   "metadata": {},
   "outputs": [],
   "source": [
    "%use krangl"
   ]
  },
  {
   "cell_type": "markdown",
   "id": "8b3ba4a8",
   "metadata": {},
   "source": [
    "### 1. Data preparation"
   ]
  },
  {
   "cell_type": "code",
   "execution_count": 4,
   "id": "417bc215",
   "metadata": {},
   "outputs": [
    {
     "data": {
      "text/html": [
       "<html><body><table><tr><th style=\"text-align:left\"></th><th style=\"text-align:left\">manufacturer</th><th style=\"text-align:left\">model</th><th style=\"text-align:left\">displ</th><th style=\"text-align:left\">year</th><th style=\"text-align:left\">cyl</th><th style=\"text-align:left\">trans</th><th style=\"text-align:left\">drv</th><th style=\"text-align:left\">cty</th><th style=\"text-align:left\">hwy</th><th style=\"text-align:left\">fl</th><th style=\"text-align:left\">class</th></tr><tr><td style=\"text-align:left\" title=\"1\">1</td><td style=\"text-align:left\" title=\"audi\">audi</td><td style=\"text-align:left\" title=\"a4\">a4</td><td style=\"text-align:left\" title=\"1.8\">1.8</td><td style=\"text-align:left\" title=\"1999\">1999</td><td style=\"text-align:left\" title=\"4\">4</td><td style=\"text-align:left\" title=\"auto(l5)\">auto(l5)</td><td style=\"text-align:left\" title=\"f\">f</td><td style=\"text-align:left\" title=\"18\">18</td><td style=\"text-align:left\" title=\"29\">29</td><td style=\"text-align:left\" title=\"p\">p</td><td style=\"text-align:left\" title=\"compact\">compact</td></tr><tr><td style=\"text-align:left\" title=\"2\">2</td><td style=\"text-align:left\" title=\"audi\">audi</td><td style=\"text-align:left\" title=\"a4\">a4</td><td style=\"text-align:left\" title=\"1.8\">1.8</td><td style=\"text-align:left\" title=\"1999\">1999</td><td style=\"text-align:left\" title=\"4\">4</td><td style=\"text-align:left\" title=\"manual(m5)\">manual(m5)</td><td style=\"text-align:left\" title=\"f\">f</td><td style=\"text-align:left\" title=\"21\">21</td><td style=\"text-align:left\" title=\"29\">29</td><td style=\"text-align:left\" title=\"p\">p</td><td style=\"text-align:left\" title=\"compact\">compact</td></tr><tr><td style=\"text-align:left\" title=\"3\">3</td><td style=\"text-align:left\" title=\"audi\">audi</td><td style=\"text-align:left\" title=\"a4\">a4</td><td style=\"text-align:left\" title=\"2.0\">2.0</td><td style=\"text-align:left\" title=\"2008\">2008</td><td style=\"text-align:left\" title=\"4\">4</td><td style=\"text-align:left\" title=\"manual(m6)\">manual(m6)</td><td style=\"text-align:left\" title=\"f\">f</td><td style=\"text-align:left\" title=\"20\">20</td><td style=\"text-align:left\" title=\"31\">31</td><td style=\"text-align:left\" title=\"p\">p</td><td style=\"text-align:left\" title=\"compact\">compact</td></tr><tr><td style=\"text-align:left\" title=\"4\">4</td><td style=\"text-align:left\" title=\"audi\">audi</td><td style=\"text-align:left\" title=\"a4\">a4</td><td style=\"text-align:left\" title=\"2.0\">2.0</td><td style=\"text-align:left\" title=\"2008\">2008</td><td style=\"text-align:left\" title=\"4\">4</td><td style=\"text-align:left\" title=\"auto(av)\">auto(av)</td><td style=\"text-align:left\" title=\"f\">f</td><td style=\"text-align:left\" title=\"21\">21</td><td style=\"text-align:left\" title=\"30\">30</td><td style=\"text-align:left\" title=\"p\">p</td><td style=\"text-align:left\" title=\"compact\">compact</td></tr><tr><td style=\"text-align:left\" title=\"5\">5</td><td style=\"text-align:left\" title=\"audi\">audi</td><td style=\"text-align:left\" title=\"a4\">a4</td><td style=\"text-align:left\" title=\"2.8\">2.8</td><td style=\"text-align:left\" title=\"1999\">1999</td><td style=\"text-align:left\" title=\"6\">6</td><td style=\"text-align:left\" title=\"auto(l5)\">auto(l5)</td><td style=\"text-align:left\" title=\"f\">f</td><td style=\"text-align:left\" title=\"16\">16</td><td style=\"text-align:left\" title=\"26\">26</td><td style=\"text-align:left\" title=\"p\">p</td><td style=\"text-align:left\" title=\"compact\">compact</td></tr></table><p>Shape: 5 x 12. \n",
       "</p></body></html>"
      ]
     },
     "execution_count": 4,
     "metadata": {},
     "output_type": "execute_result"
    }
   ],
   "source": [
    "var mpgDf = DataFrame.readCSV(\"https://raw.githubusercontent.com/JetBrains/lets-plot-kotlin/master/docs/examples/data/mpg.csv\")\n",
    "mpgDf.head()"
   ]
  },
  {
   "cell_type": "code",
   "execution_count": 5,
   "id": "362a49d7",
   "metadata": {},
   "outputs": [],
   "source": [
    "val mpgData = mpgDf.toMap()"
   ]
  },
  {
   "cell_type": "code",
   "execution_count": 6,
   "id": "c0ca3a3e",
   "metadata": {},
   "outputs": [],
   "source": [
    "val blankTheme = theme(line = elementBlank(), axis = elementBlank())"
   ]
  },
  {
   "cell_type": "markdown",
   "id": "ec0e815f",
   "metadata": {},
   "source": [
    "Prepare the tooltips content to show the variables calculated by the statistics"
   ]
  },
  {
   "cell_type": "code",
   "execution_count": 7,
   "id": "4769236b",
   "metadata": {},
   "outputs": [],
   "source": [
    "val tooltipContent = layerTooltips()\n",
    "                        .title(\"^fill\")\n",
    "                        .line(\"count of records in group|@{..count..} (@{..prop..})\")\n",
    "                        .line(\"total count of records|@{..sum..}\")\n",
    "                        .format(\"..prop..\", \".0%\")\n",
    "                        .format(\"..count..\", \".1f\")\n",
    "                        .format(\"..sum..\", \".1f\")"
   ]
  },
  {
   "cell_type": "markdown",
   "id": "b741fe7f",
   "metadata": {},
   "source": [
    "### 2. Default presentation"
   ]
  },
  {
   "cell_type": "markdown",
   "id": "91e9ad66",
   "metadata": {},
   "source": [
    "Let's show the variables computed by the in the tooltips."
   ]
  },
  {
   "cell_type": "code",
   "execution_count": 8,
   "id": "c707c39a",
   "metadata": {},
   "outputs": [
    {
     "data": {
      "text/html": [
       "   <div id=\"DRkmvp\"></div>\n",
       "   <script type=\"text/javascript\" data-lets-plot-script=\"plot\">\n",
       "       (function() {\n",
       "           var plotSpec={\n",
       "\"mapping\":{\n",
       "},\n",
       "\"data\":{\n",
       "},\n",
       "\"kind\":\"plot\",\n",
       "\"scales\":[],\n",
       "\"layers\":[{\n",
       "\"mapping\":{\n",
       "\"x\":\"manufacturer\",\n",
       "\"fill\":\"class\"\n",
       "},\n",
       "\"stat\":\"count\",\n",
       "\"position\":\"stack\",\n",
       "\"geom\":\"bar\",\n",
       "\"tooltips\":{\n",
       "\"formats\":[{\n",
       "\"field\":\"..prop..\",\n",
       "\"format\":\".0%\"\n",
       "},{\n",
       "\"field\":\"..count..\",\n",
       "\"format\":\".1f\"\n",
       "},{\n",
       "\"field\":\"..sum..\",\n",
       "\"format\":\".1f\"\n",
       "}],\n",
       "\"title\":\"^fill\",\n",
       "\"lines\":[\"count of records in group|@{..count..} (@{..prop..})\",\"total count of records|@{..sum..}\"]\n",
       "},\n",
       "\"data\":{\n",
       "\"..sum..\":[18.0,13.0,14.0,34.0,27.0,18.0,19.0,14.0,13.0,5.0,34.0,27.0,19.0,37.0,25.0,8.0,4.0,3.0,4.0,13.0,14.0,34.0,19.0,37.0,37.0,25.0,34.0,25.0,9.0,14.0,14.0,27.0],\n",
       "\"..count..\":[15.0,2.0,4.0,12.0,14.0,3.0,5.0,7.0,7.0,5.0,7.0,7.0,9.0,7.0,9.0,8.0,4.0,3.0,4.0,4.0,6.0,8.0,5.0,11.0,19.0,7.0,7.0,9.0,9.0,7.0,4.0,6.0],\n",
       "\"..prop..\":[0.8333333333333334,0.15384615384615385,0.2857142857142857,0.35294117647058826,0.5185185185185185,0.16666666666666666,0.2631578947368421,0.5,0.5384615384615384,1.0,0.20588235294117646,0.25925925925925924,0.47368421052631576,0.1891891891891892,0.36,1.0,1.0,1.0,1.0,0.3076923076923077,0.42857142857142855,0.23529411764705882,0.2631578947368421,0.2972972972972973,0.5135135135135135,0.28,0.20588235294117646,0.36,1.0,0.5,0.2857142857142857,0.2222222222222222],\n",
       "\"class\":[\"compact\",\"compact\",\"compact\",\"compact\",\"compact\",\"midsize\",\"midsize\",\"midsize\",\"midsize\",\"midsize\",\"midsize\",\"midsize\",\"suv\",\"suv\",\"suv\",\"suv\",\"suv\",\"suv\",\"suv\",\"suv\",\"suv\",\"suv\",\"2seater\",\"minivan\",\"pickup\",\"pickup\",\"pickup\",\"subcompact\",\"subcompact\",\"subcompact\",\"subcompact\",\"subcompact\"],\n",
       "\"manufacturer\":[\"audi\",\"nissan\",\"subaru\",\"toyota\",\"volkswagen\",\"audi\",\"chevrolet\",\"hyundai\",\"nissan\",\"pontiac\",\"toyota\",\"volkswagen\",\"chevrolet\",\"dodge\",\"ford\",\"jeep\",\"land rover\",\"lincoln\",\"mercury\",\"nissan\",\"subaru\",\"toyota\",\"chevrolet\",\"dodge\",\"dodge\",\"ford\",\"toyota\",\"ford\",\"honda\",\"hyundai\",\"subaru\",\"volkswagen\"]\n",
       "}\n",
       "}]\n",
       "};\n",
       "           var plotContainer = document.getElementById(\"DRkmvp\");\n",
       "           window.letsPlotCall(function() {{\n",
       "               LetsPlot.buildPlotFromProcessedSpecs(plotSpec, -1, -1, plotContainer);\n",
       "           }});\n",
       "       })();    \n",
       "   </script>"
      ]
     },
     "execution_count": 8,
     "metadata": {},
     "output_type": "execute_result"
    }
   ],
   "source": [
    "ggplot(mpgData) +\n",
    "    geomBar(tooltips = tooltipContent) { x = \"manufacturer\"; fill = \"class\" }"
   ]
  },
  {
   "cell_type": "markdown",
   "id": "c525cb5b",
   "metadata": {},
   "source": [
    "Let's build a pie chart where the sector will correspond to the car class.\n",
    "All statistical information is shown in tooltips."
   ]
  },
  {
   "cell_type": "code",
   "execution_count": 9,
   "id": "4a2856c9",
   "metadata": {},
   "outputs": [
    {
     "data": {
      "text/html": [
       "   <div id=\"h1cpJI\"></div>\n",
       "   <script type=\"text/javascript\" data-lets-plot-script=\"plot\">\n",
       "       (function() {\n",
       "           var plotSpec={\n",
       "\"mapping\":{\n",
       "},\n",
       "\"data\":{\n",
       "},\n",
       "\"kind\":\"plot\",\n",
       "\"scales\":[],\n",
       "\"layers\":[{\n",
       "\"hole\":0.2,\n",
       "\"mapping\":{\n",
       "\"fill\":\"class\"\n",
       "},\n",
       "\"stat\":\"count2d\",\n",
       "\"size\":24.0,\n",
       "\"position\":\"identity\",\n",
       "\"geom\":\"pie\",\n",
       "\"stroke\":1.0,\n",
       "\"tooltips\":{\n",
       "\"formats\":[{\n",
       "\"field\":\"..prop..\",\n",
       "\"format\":\".0%\"\n",
       "},{\n",
       "\"field\":\"..count..\",\n",
       "\"format\":\".1f\"\n",
       "},{\n",
       "\"field\":\"..sum..\",\n",
       "\"format\":\".1f\"\n",
       "}],\n",
       "\"title\":\"^fill\",\n",
       "\"lines\":[\"count of records in group|@{..count..} (@{..prop..})\",\"total count of records|@{..sum..}\"]\n",
       "},\n",
       "\"data\":{\n",
       "\"..sum..\":[234.0,234.0,234.0,234.0,234.0,234.0,234.0],\n",
       "\"..count..\":[47.0,41.0,62.0,5.0,11.0,33.0,35.0],\n",
       "\"..x..\":[0.0,0.0,0.0,0.0,0.0,0.0,0.0],\n",
       "\"..y..\":[0.0,0.0,0.0,0.0,0.0,0.0,0.0],\n",
       "\"..prop..\":[0.20085470085470086,0.1752136752136752,0.26495726495726496,0.021367521367521368,0.04700854700854701,0.14102564102564102,0.14957264957264957],\n",
       "\"class\":[\"compact\",\"midsize\",\"suv\",\"2seater\",\"minivan\",\"pickup\",\"subcompact\"]\n",
       "}\n",
       "}],\n",
       "\"theme\":{\n",
       "\"axis\":{\n",
       "\"blank\":true\n",
       "},\n",
       "\"line\":{\n",
       "\"blank\":true\n",
       "}\n",
       "}\n",
       "};\n",
       "           var plotContainer = document.getElementById(\"h1cpJI\");\n",
       "           window.letsPlotCall(function() {{\n",
       "               LetsPlot.buildPlotFromProcessedSpecs(plotSpec, -1, -1, plotContainer);\n",
       "           }});\n",
       "       })();    \n",
       "   </script>"
      ]
     },
     "execution_count": 9,
     "metadata": {},
     "output_type": "execute_result"
    }
   ],
   "source": [
    "ggplot(mpgData) +\n",
    "    geomPie(size=24, hole=0.2, stroke=1.0, tooltips = tooltipContent) { fill = \"class\" } +\n",
    "    blankTheme"
   ]
  },
  {
   "cell_type": "markdown",
   "id": "664e6b9f",
   "metadata": {},
   "source": [
    "### 3. Compute weighted sum"
   ]
  },
  {
   "cell_type": "markdown",
   "id": "b10fc659",
   "metadata": {},
   "source": [
    "Compute weighted sum instead of simple count: let's use total engine displacement of each class."
   ]
  },
  {
   "cell_type": "code",
   "execution_count": 10,
   "id": "21c837af",
   "metadata": {},
   "outputs": [
    {
     "data": {
      "text/html": [
       "   <div id=\"xDJnTp\"></div>\n",
       "   <script type=\"text/javascript\" data-lets-plot-script=\"plot\">\n",
       "       (function() {\n",
       "           var plotSpec={\n",
       "\"mapping\":{\n",
       "},\n",
       "\"data\":{\n",
       "},\n",
       "\"kind\":\"plot\",\n",
       "\"scales\":[],\n",
       "\"layers\":[{\n",
       "\"hole\":0.2,\n",
       "\"mapping\":{\n",
       "\"size\":\"..sum..\",\n",
       "\"fill\":\"class\"\n",
       "},\n",
       "\"stat\":\"count2d\",\n",
       "\"size\":24.0,\n",
       "\"position\":\"identity\",\n",
       "\"geom\":\"pie\",\n",
       "\"stroke\":1.0,\n",
       "\"tooltips\":{\n",
       "\"formats\":[{\n",
       "\"field\":\"..prop..\",\n",
       "\"format\":\".0%\"\n",
       "},{\n",
       "\"field\":\"..count..\",\n",
       "\"format\":\".1f\"\n",
       "},{\n",
       "\"field\":\"..sum..\",\n",
       "\"format\":\".1f\"\n",
       "}],\n",
       "\"title\":\"^fill\",\n",
       "\"lines\":[\"count of records in group|@{..count..} (@{..prop..})\",\"total count of records|@{..sum..}\"]\n",
       "},\n",
       "\"data\":{\n",
       "\"..sum..\":[234.0,234.0,234.0,234.0,234.0,234.0,234.0],\n",
       "\"..count..\":[47.0,41.0,62.0,5.0,11.0,33.0,35.0],\n",
       "\"..x..\":[0.0,0.0,0.0,0.0,0.0,0.0,0.0],\n",
       "\"..y..\":[0.0,0.0,0.0,0.0,0.0,0.0,0.0],\n",
       "\"class\":[\"compact\",\"midsize\",\"suv\",\"2seater\",\"minivan\",\"pickup\",\"subcompact\"],\n",
       "\"..prop..\":[0.20085470085470086,0.1752136752136752,0.26495726495726496,0.021367521367521368,0.04700854700854701,0.14102564102564102,0.14957264957264957]\n",
       "}\n",
       "}],\n",
       "\"theme\":{\n",
       "\"axis\":{\n",
       "\"blank\":true\n",
       "},\n",
       "\"line\":{\n",
       "\"blank\":true\n",
       "}\n",
       "}\n",
       "};\n",
       "           var plotContainer = document.getElementById(\"xDJnTp\");\n",
       "           window.letsPlotCall(function() {{\n",
       "               LetsPlot.buildPlotFromProcessedSpecs(plotSpec, -1, -1, plotContainer);\n",
       "           }});\n",
       "       })();    \n",
       "   </script>"
      ]
     },
     "execution_count": 10,
     "metadata": {},
     "output_type": "execute_result"
    }
   ],
   "source": [
    "ggplot(mpgData) +\n",
    "    geomPie(size=24, hole=0.2, stroke=1.0, tooltips = tooltipContent) { fill = \"class\"; size = \"..sum..\" } +\n",
    "    blankTheme"
   ]
  },
  {
   "cell_type": "markdown",
   "id": "ce251ba0",
   "metadata": {},
   "source": [
    "Then let's order sectors by `'..count..'`:"
   ]
  },
  {
   "cell_type": "code",
   "execution_count": 11,
   "id": "17be9143",
   "metadata": {},
   "outputs": [
    {
     "data": {
      "text/html": [
       "   <div id=\"wMDviy\"></div>\n",
       "   <script type=\"text/javascript\" data-lets-plot-script=\"plot\">\n",
       "       (function() {\n",
       "           var plotSpec={\n",
       "\"mapping\":{\n",
       "},\n",
       "\"data\":{\n",
       "},\n",
       "\"kind\":\"plot\",\n",
       "\"scales\":[],\n",
       "\"layers\":[{\n",
       "\"hole\":0.2,\n",
       "\"mapping\":{\n",
       "\"fill\":\"@as_discrete@class\",\n",
       "\"weight\":\"displ\"\n",
       "},\n",
       "\"stat\":\"count2d\",\n",
       "\"size\":24.0,\n",
       "\"position\":\"identity\",\n",
       "\"geom\":\"pie\",\n",
       "\"stroke\":1.0,\n",
       "\"data_meta\":{\n",
       "\"mapping_annotations\":[{\n",
       "\"aes\":\"fill\",\n",
       "\"annotation\":\"as_discrete\",\n",
       "\"parameters\":{\n",
       "\"label\":\"class\",\n",
       "\"order_by\":\"..count..\"\n",
       "}\n",
       "}]\n",
       "},\n",
       "\"tooltips\":{\n",
       "\"formats\":[{\n",
       "\"field\":\"..prop..\",\n",
       "\"format\":\".0%\"\n",
       "},{\n",
       "\"field\":\"..count..\",\n",
       "\"format\":\".1f\"\n",
       "},{\n",
       "\"field\":\"..sum..\",\n",
       "\"format\":\".1f\"\n",
       "}],\n",
       "\"title\":\"^fill\",\n",
       "\"lines\":[\"count of records in group|@{..count..} (@{..prop..})\",\"total count of records|@{..sum..}\"]\n",
       "},\n",
       "\"data\":{\n",
       "\"..sum..\":[812.3999999999997,812.3999999999997,812.3999999999997,812.3999999999997,812.3999999999997,812.3999999999997,812.3999999999997],\n",
       "\"..count..\":[276.2999999999999,145.80000000000004,119.79999999999998,109.29999999999998,93.10000000000002,37.300000000000004,30.8],\n",
       "\"..x..\":[0.0,0.0,0.0,0.0,0.0,0.0,0.0],\n",
       "\"..y..\":[0.0,0.0,0.0,0.0,0.0,0.0,0.0],\n",
       "\"@as_discrete@class\":[\"suv\",\"pickup\",\"midsize\",\"compact\",\"subcompact\",\"minivan\",\"2seater\"],\n",
       "\"..prop..\":[0.3401033973412112,0.1794682422451995,0.1474643032988676,0.13453963564746432,0.11459871984244221,0.04591334318069918,0.03791235844411621]\n",
       "}\n",
       "}],\n",
       "\"theme\":{\n",
       "\"axis\":{\n",
       "\"blank\":true\n",
       "},\n",
       "\"line\":{\n",
       "\"blank\":true\n",
       "}\n",
       "}\n",
       "};\n",
       "           var plotContainer = document.getElementById(\"wMDviy\");\n",
       "           window.letsPlotCall(function() {{\n",
       "               LetsPlot.buildPlotFromProcessedSpecs(plotSpec, -1, -1, plotContainer);\n",
       "           }});\n",
       "       })();    \n",
       "   </script>"
      ]
     },
     "execution_count": 11,
     "metadata": {},
     "output_type": "execute_result"
    }
   ],
   "source": [
    "ggplot(mpgData) +\n",
    "    geomPie(size=24, hole=0.2, stroke=1.0, tooltips = tooltipContent) { \n",
    "        fill = asDiscrete(\"class\", orderBy = \"..count..\")\n",
    "        weight = \"displ\"\n",
    "    } +\n",
    "    blankTheme"
   ]
  },
  {
   "cell_type": "markdown",
   "id": "224e352f",
   "metadata": {},
   "source": [
    "Map `size` to computed variable `'..sum..'`:"
   ]
  },
  {
   "cell_type": "code",
   "execution_count": 12,
   "id": "b384e38d",
   "metadata": {},
   "outputs": [
    {
     "data": {
      "text/html": [
       "   <div id=\"SLfxCN\"></div>\n",
       "   <script type=\"text/javascript\" data-lets-plot-script=\"plot\">\n",
       "       (function() {\n",
       "           var plotSpec={\n",
       "\"mapping\":{\n",
       "},\n",
       "\"guides\":{\n",
       "\"size\":\"none\"\n",
       "},\n",
       "\"data\":{\n",
       "},\n",
       "\"kind\":\"plot\",\n",
       "\"scales\":[{\n",
       "\"aesthetic\":\"size\",\n",
       "\"range\":[4.0,10.0]\n",
       "}],\n",
       "\"layers\":[{\n",
       "\"mapping\":{\n",
       "\"size\":\"..sum..\",\n",
       "\"fill\":\"class\"\n",
       "},\n",
       "\"stat\":\"count2d\",\n",
       "\"position\":\"identity\",\n",
       "\"geom\":\"pie\",\n",
       "\"tooltips\":{\n",
       "\"formats\":[{\n",
       "\"field\":\"..prop..\",\n",
       "\"format\":\".0%\"\n",
       "},{\n",
       "\"field\":\"..count..\",\n",
       "\"format\":\".1f\"\n",
       "},{\n",
       "\"field\":\"..sum..\",\n",
       "\"format\":\".1f\"\n",
       "}],\n",
       "\"title\":\"^fill\",\n",
       "\"lines\":[\"count of records in group|@{..count..} (@{..prop..})\",\"total count of records|@{..sum..}\"]\n",
       "},\n",
       "\"data\":{\n",
       "\"..sum..\":[18.0,18.0,19.0,19.0,19.0,37.0,37.0,37.0,25.0,25.0,25.0,9.0,14.0,14.0,8.0,4.0,3.0,4.0,13.0,13.0,13.0,5.0,14.0,14.0,14.0,34.0,34.0,34.0,34.0,27.0,27.0,27.0],\n",
       "\"..count..\":[15.0,3.0,9.0,5.0,5.0,11.0,19.0,7.0,9.0,7.0,9.0,9.0,7.0,7.0,8.0,4.0,3.0,4.0,2.0,7.0,4.0,5.0,6.0,4.0,4.0,8.0,7.0,12.0,7.0,14.0,6.0,7.0],\n",
       "\"..x..\":[0.0,0.0,0.0,0.0,0.0,0.0,0.0,0.0,0.0,0.0,0.0,0.0,0.0,0.0,0.0,0.0,0.0,0.0,0.0,0.0,0.0,0.0,0.0,0.0,0.0,0.0,0.0,0.0,0.0,0.0,0.0,0.0],\n",
       "\"..y..\":[0.0,0.0,0.0,0.0,0.0,0.0,0.0,0.0,0.0,0.0,0.0,0.0,0.0,0.0,0.0,0.0,0.0,0.0,0.0,0.0,0.0,0.0,0.0,0.0,0.0,0.0,0.0,0.0,0.0,0.0,0.0,0.0],\n",
       "\"class\":[\"compact\",\"midsize\",\"suv\",\"2seater\",\"midsize\",\"minivan\",\"pickup\",\"suv\",\"suv\",\"pickup\",\"subcompact\",\"subcompact\",\"midsize\",\"subcompact\",\"suv\",\"suv\",\"suv\",\"suv\",\"compact\",\"midsize\",\"suv\",\"midsize\",\"suv\",\"subcompact\",\"compact\",\"suv\",\"midsize\",\"compact\",\"pickup\",\"compact\",\"subcompact\",\"midsize\"],\n",
       "\"..prop..\":[0.8333333333333334,0.16666666666666666,0.47368421052631576,0.2631578947368421,0.2631578947368421,0.2972972972972973,0.5135135135135135,0.1891891891891892,0.36,0.28,0.36,1.0,0.5,0.5,1.0,1.0,1.0,1.0,0.15384615384615385,0.5384615384615384,0.3076923076923077,1.0,0.42857142857142855,0.2857142857142857,0.2857142857142857,0.23529411764705882,0.20588235294117646,0.35294117647058826,0.20588235294117646,0.5185185185185185,0.2222222222222222,0.25925925925925924],\n",
       "\"manufacturer\":[\"audi\",\"audi\",\"chevrolet\",\"chevrolet\",\"chevrolet\",\"dodge\",\"dodge\",\"dodge\",\"ford\",\"ford\",\"ford\",\"honda\",\"hyundai\",\"hyundai\",\"jeep\",\"land rover\",\"lincoln\",\"mercury\",\"nissan\",\"nissan\",\"nissan\",\"pontiac\",\"subaru\",\"subaru\",\"subaru\",\"toyota\",\"toyota\",\"toyota\",\"toyota\",\"volkswagen\",\"volkswagen\",\"volkswagen\"]\n",
       "}\n",
       "}],\n",
       "\"theme\":{\n",
       "\"axis\":{\n",
       "\"blank\":true\n",
       "},\n",
       "\"line\":{\n",
       "\"blank\":true\n",
       "}\n",
       "},\n",
       "\"facet\":{\n",
       "\"name\":\"wrap\",\n",
       "\"ncol\":5.0,\n",
       "\"dir\":\"h\",\n",
       "\"facets\":\"manufacturer\",\n",
       "\"order\":1.0\n",
       "}\n",
       "};\n",
       "           var plotContainer = document.getElementById(\"SLfxCN\");\n",
       "           window.letsPlotCall(function() {{\n",
       "               LetsPlot.buildPlotFromProcessedSpecs(plotSpec, -1, -1, plotContainer);\n",
       "           }});\n",
       "       })();    \n",
       "   </script>"
      ]
     },
     "execution_count": 12,
     "metadata": {},
     "output_type": "execute_result"
    }
   ],
   "source": [
    "ggplot(mpgData) +\n",
    "    geomPie(tooltips = tooltipContent) { fill = \"class\"; size = \"..sum..\" } +\n",
    "    facetWrap(facets = \"manufacturer\", ncol = 5, order = 1) +\n",
    "    scaleSize(range = 4 to 10) +\n",
    "    guides(size = \"none\") +\n",
    "    blankTheme"
   ]
  }
 ],
 "metadata": {
  "kernelspec": {
   "display_name": "Kotlin",
   "language": "kotlin",
   "name": "kotlin"
  },
  "language_info": {
   "codemirror_mode": "text/x-kotlin",
   "file_extension": ".kt",
   "mimetype": "text/x-kotlin",
   "name": "kotlin",
   "nbconvert_exporter": "",
   "pygments_lexer": "kotlin",
   "version": "1.8.0-dev-3517"
  }
 },
 "nbformat": 4,
 "nbformat_minor": 5
}
