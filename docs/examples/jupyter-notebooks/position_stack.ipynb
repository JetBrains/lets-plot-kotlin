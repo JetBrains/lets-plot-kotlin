{
 "cells": [
  {
   "cell_type": "code",
   "execution_count": null,
   "id": "laughing-rotation",
   "metadata": {},
   "outputs": [],
   "source": [
    "%useLatestDescriptors\n",
    "%use lets-plot"
   ]
  },
  {
   "cell_type": "code",
   "execution_count": null,
   "id": "everyday-cheese",
   "metadata": {},
   "outputs": [],
   "source": [
    "val data = mapOf(\n",
    "    \"x\" to listOf(1, 1, 2, 2, 2),\n",
    "    \"y\" to listOf(1, 3, 2, 1, -3),\n",
    "    \"grp\" to listOf(\"a\", \"b\", \"a\", \"b\", \"c\")\n",
    ")\n",
    "\n",
    "val p = letsPlot(data) { x = \"x\"; y = \"y\"; group = \"grp\" } + \n",
    "    geomBar(stat = Stat.identity, color = \"black\") { fill = \"grp\" }  + \n",
    "    scaleFillBrewer(palette = \"Pastel1\")\n"
   ]
  },
  {
   "cell_type": "code",
   "execution_count": null,
   "id": "exterior-gamma",
   "metadata": {},
   "outputs": [],
   "source": [
    "val w = 600\n",
    "val h = 400\n",
    "\n",
    "GGBunch()\n",
    "    .addPlot(p + geomLabel(position = positionStack) { label = \"y\" } + ggtitle(\"Default\"), 0, 0)\n",
    "    .addPlot(p + geomLabel(position = positionStack(0.0)) { label = \"y\" } + ggtitle(\"vjust = 0.0\"), w, 0)\n",
    "    .addPlot(p + geomLabel(position = positionStack(0.3)) { label = \"y\" } + ggtitle(\"vjust = 0.3\"), 0, h)\n",
    "    .addPlot(p + geomLabel(position = positionStack(0.5)) { label = \"y\" } + ggtitle(\"vjust = 0.5\"), w, h)\n",
    "    .addPlot(p + geomLabel(position = positionStack(0.7)) { label = \"y\" } + ggtitle(\"vjust = 0.7\"), 0, 2*h)\n",
    "    .addPlot(p + geomLabel(position = positionStack(1.0)) { label = \"y\" } + ggtitle(\"vjust = 1.0\"), w, 2*h)\n",
    "    .show()"
   ]
  },
  {
   "cell_type": "code",
   "execution_count": null,
   "id": "injured-exchange",
   "metadata": {},
   "outputs": [],
   "source": [
    "// position = \"fill\"\n",
    "\n",
    "letsPlot(data) { x = \"x\"; y = \"y\"; group = \"grp\" } + \n",
    "    geomBar(stat = Stat.identity, position = positionFill, color = \"black\") { fill = \"grp\" }  + \n",
    "    scaleFillBrewer(palette = \"Pastel1\") +\n",
    "    geomText(position = positionFill(0.5)) { label = \"y\" }"
   ]
  }
 ],
 "metadata": {
  "kernelspec": {
   "display_name": "Kotlin",
   "language": "kotlin",
   "name": "kotlin"
  },
  "language_info": {
   "codemirror_mode": "kotlin",
   "file_extension": ".kt",
   "mimetype": "text/x-kotlin",
   "name": "kotlin",
   "nbconvert_exporter": "",
   "pygments_lexer": "kotlin",
   "version": "1.6.0-dev-1733"
  }
 },
 "nbformat": 4,
 "nbformat_minor": 5
}
