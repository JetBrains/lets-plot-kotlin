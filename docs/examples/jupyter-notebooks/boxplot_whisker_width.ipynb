{
 "cells": [
  {
   "cell_type": "code",
   "execution_count": 1,
   "id": "developed-feeling",
   "metadata": {},
   "outputs": [
    {
     "data": {
      "text/html": [
       "   <div id=\"B3sWXX\"></div>\n",
       "   <script type=\"text/javascript\" data-lets-plot-script=\"library\">\n",
       "       if(!window.letsPlotCallQueue) {\n",
       "           window.letsPlotCallQueue = [];\n",
       "       }; \n",
       "       window.letsPlotCall = function(f) {\n",
       "           window.letsPlotCallQueue.push(f);\n",
       "       };\n",
       "       (function() {\n",
       "           var script = document.createElement(\"script\");\n",
       "           script.type = \"text/javascript\";\n",
       "           script.src = \"https://cdn.jsdelivr.net/gh/JetBrains/lets-plot@v2.5.0rc1/js-package/distr/lets-plot.min.js\";\n",
       "           script.onload = function() {\n",
       "               window.letsPlotCall = function(f) {f();};\n",
       "               window.letsPlotCallQueue.forEach(function(f) {f();});\n",
       "               window.letsPlotCallQueue = [];\n",
       "               \n",
       "               \n",
       "           };\n",
       "           script.onerror = function(event) {\n",
       "               window.letsPlotCall = function(f) {};\n",
       "               window.letsPlotCallQueue = [];\n",
       "               var div = document.createElement(\"div\");\n",
       "               div.style.color = 'darkred';\n",
       "               div.textContent = 'Error loading Lets-Plot JS';\n",
       "               document.getElementById(\"B3sWXX\").appendChild(div);\n",
       "           };\n",
       "           var e = document.getElementById(\"B3sWXX\");\n",
       "           e.appendChild(script);\n",
       "       })();\n",
       "   </script>"
      ]
     },
     "metadata": {},
     "output_type": "display_data"
    }
   ],
   "source": [
    "%useLatestDescriptors\n",
    "%use lets-plot"
   ]
  },
  {
   "cell_type": "code",
   "execution_count": 2,
   "id": "composite-liver",
   "metadata": {},
   "outputs": [
    {
     "data": {
      "text/plain": [
       "Lets-Plot Kotlin API v.4.1.0-alpha2. Frontend: Notebook with dynamically loaded JS. Lets-Plot JS v.2.5.0rc1."
      ]
     },
     "execution_count": 2,
     "metadata": {},
     "output_type": "execute_result"
    }
   ],
   "source": [
    "LetsPlot.getInfo()"
   ]
  },
  {
   "cell_type": "code",
   "execution_count": 3,
   "id": "global-lease",
   "metadata": {},
   "outputs": [
    {
     "data": {
      "text/html": [
       "   <div id=\"5WMsOg\"></div>\n",
       "   <script type=\"text/javascript\" data-lets-plot-script=\"plot\">\n",
       "       (function() {\n",
       "           var plotSpec={\n",
       "\"mapping\":{\n",
       "\"x\":\"x\",\n",
       "\"y\":\"y\"\n",
       "},\n",
       "\"data\":{\n",
       "},\n",
       "\"kind\":\"plot\",\n",
       "\"scales\":[],\n",
       "\"layers\":[{\n",
       "\"mapping\":{\n",
       "},\n",
       "\"stat\":\"boxplot\",\n",
       "\"whisker_width\":0.2,\n",
       "\"position\":{\n",
       "\"name\":\"dodge\",\n",
       "\"width\":0.95,\n",
       "\"kind\":\"pos\"\n",
       "},\n",
       "\"geom\":\"boxplot\",\n",
       "\"data\":{\n",
       "\"..middle..\":[-0.18464044740277102,0.1470107348344196,0.17103931515029824],\n",
       "\"..upper..\":[0.7783617519424696,0.5973740018824532,0.7056211525507573],\n",
       "\"..ymax..\":[2.527659578337915,1.4260603226414463,2.343717950468129],\n",
       "\"..lower..\":[-0.7382324847643291,-0.48620785128126254,-0.7179403187365779],\n",
       "\"x\":[\"c\",\"b\",\"a\"],\n",
       "\"..ymin..\":[-2.441438207735434,-1.9859268180950462,-2.5881990501149694],\n",
       "\"y\":[NaN,NaN,NaN]\n",
       "}\n",
       "}]\n",
       "};\n",
       "           var plotContainer = document.getElementById(\"5WMsOg\");\n",
       "           window.letsPlotCall(function() {{\n",
       "               LetsPlot.buildPlotFromProcessedSpecs(plotSpec, -1, -1, plotContainer);\n",
       "           }});\n",
       "       })();    \n",
       "   </script>"
      ]
     },
     "metadata": {},
     "output_type": "display_data"
    }
   ],
   "source": [
    "val n = 100\n",
    "val rand = java.util.Random()\n",
    "val data = mapOf<String, Any>(\n",
    "    \"x\" to List(n) { listOf(\"a\", \"b\", \"c\").random() },\n",
    "    \"y\" to List(n) { rand.nextGaussian() }\n",
    ")\n",
    "\n",
    "val p = letsPlot(data) { x = \"x\"; y = \"y\" }  + geomBoxplot(whiskerWidth = 0.2)\n",
    "p.show()  "
   ]
  }
 ],
 "metadata": {
  "kernelspec": {
   "display_name": "Kotlin",
   "language": "kotlin",
   "name": "kotlin"
  },
  "language_info": {
   "codemirror_mode": "kotlin",
   "file_extension": ".kt",
   "mimetype": "text/x-kotlin",
   "name": "kotlin",
   "nbconvert_exporter": "",
   "pygments_lexer": "kotlin",
   "version": "1.6.0-dev-1733"
  }
 },
 "nbformat": 4,
 "nbformat_minor": 5
}