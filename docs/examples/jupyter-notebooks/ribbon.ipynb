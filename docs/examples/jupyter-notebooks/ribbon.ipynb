{
 "cells": [
  {
   "cell_type": "code",
   "execution_count": 1,
   "id": "b8e434bf",
   "metadata": {},
   "outputs": [
    {
     "data": {
      "text/html": [
       "   <div id=\"CWW2hU\"></div>\n",
       "   <script type=\"text/javascript\" data-lets-plot-script=\"library\">\n",
       "       if(!window.letsPlotCallQueue) {\n",
       "           window.letsPlotCallQueue = [];\n",
       "       }; \n",
       "       window.letsPlotCall = function(f) {\n",
       "           window.letsPlotCallQueue.push(f);\n",
       "       };\n",
       "       (function() {\n",
       "           var script = document.createElement(\"script\");\n",
       "           script.type = \"text/javascript\";\n",
       "           script.src = \"https://cdn.jsdelivr.net/gh/JetBrains/lets-plot@v2.4.0/js-package/distr/lets-plot.min.js\";\n",
       "           script.onload = function() {\n",
       "               window.letsPlotCall = function(f) {f();};\n",
       "               window.letsPlotCallQueue.forEach(function(f) {f();});\n",
       "               window.letsPlotCallQueue = [];\n",
       "               \n",
       "               \n",
       "           };\n",
       "           script.onerror = function(event) {\n",
       "               window.letsPlotCall = function(f) {};\n",
       "               window.letsPlotCallQueue = [];\n",
       "               var div = document.createElement(\"div\");\n",
       "               div.style.color = 'darkred';\n",
       "               div.textContent = 'Error loading Lets-Plot JS';\n",
       "               document.getElementById(\"CWW2hU\").appendChild(div);\n",
       "           };\n",
       "           var e = document.getElementById(\"CWW2hU\");\n",
       "           e.appendChild(script);\n",
       "       })();\n",
       "   </script>"
      ]
     },
     "metadata": {},
     "output_type": "display_data"
    }
   ],
   "source": [
    "%useLatestDescriptors\n",
    "%use lets-plot"
   ]
  },
  {
   "cell_type": "code",
   "execution_count": 2,
   "id": "57bc3477",
   "metadata": {},
   "outputs": [],
   "source": [
    "fun generateDataMap(n: Int = 15, a: Double = 1.0): Map<String, List<Any>> {\n",
    "    val rand = java.util.Random(42)\n",
    "    val x = List(2 * n + 1) { i -> a * (i - n).toDouble() / n }\n",
    "    val tMin = x.map { a * a - it.pow(2) - abs(rand.nextGaussian()) }\n",
    "    val tMax = x.map { a * a - it.pow(2) + abs(rand.nextGaussian()) }\n",
    "    return mapOf(\"day\" to (1..x.size).toList(), \"minTemp\" to tMin, \"maxTemp\" to tMax)\n",
    "}\n",
    "\n",
    "val dataMap = generateDataMap(a = 2.0)"
   ]
  },
  {
   "cell_type": "code",
   "execution_count": 3,
   "id": "d76818b0",
   "metadata": {},
   "outputs": [
    {
     "data": {
      "text/html": [
       "   <div id=\"qBpNnM\"></div>\n",
       "   <script type=\"text/javascript\" data-lets-plot-script=\"plot\">\n",
       "       (function() {\n",
       "           var plotSpec={\n",
       "\"mapping\":{\n",
       "},\n",
       "\"data\":{\n",
       "\"maxTemp\":[1.363726024075023,2.4802216543094335,1.9141503994897446,3.9888873933848057,3.4798495467308195,2.344226996842114,3.8491590718015773,3.1313610778782155,3.3863802973979773,3.6799143760045325,5.324055414806862,4.199005868414801,4.34999046538937,5.0455622658550885,4.023169423739505,5.10767151692008,5.844543639869417,5.074630026598041,4.898677204893092,4.788154689495623,5.487299707585221,3.66102521611535,3.3764120471693153,4.268379071471309,4.080220720356926,2.493151634914312,2.4101381737026664,1.9698295780368602,1.5345777470543829,2.7278957697342796,0.6329335687728442],\n",
       "\"day\":[1.0,2.0,3.0,4.0,5.0,6.0,7.0,8.0,9.0,10.0,11.0,12.0,13.0,14.0,15.0,16.0,17.0,18.0,19.0,20.0,21.0,22.0,23.0,24.0,25.0,26.0,27.0,28.0,29.0,30.0,31.0],\n",
       "\"minTemp\":[-1.1419053154730547,-0.40385239342723256,0.045688918664659406,0.3330097136006618,1.5679112508161097,1.537599426589567,1.7427785926012733,1.4655788195441786,2.9379443758180135,1.8737866076093497,2.7532484058681925,3.594042630890062,2.4294937760561375,3.2886561066753153,2.7725777629689308,3.646242302127971,3.4918725730232145,3.378167350614526,2.6364489980349166,3.394539474913914,2.004407916688372,2.9214697137528947,2.64729082806435,1.3425911432541537,2.2831682708126753,2.138283243727359,0.5930558831000932,1.1147272061334224,0.8222652224944716,-1.3430295890308974,-1.4238069456328435]\n",
       "},\n",
       "\"kind\":\"plot\",\n",
       "\"scales\":[{\n",
       "\"aesthetic\":\"x\",\n",
       "\"name\":\"time\"\n",
       "},{\n",
       "\"aesthetic\":\"y\",\n",
       "\"name\":\"temperature\"\n",
       "}],\n",
       "\"layers\":[{\n",
       "\"mapping\":{\n",
       "\"x\":\"day\",\n",
       "\"ymin\":\"minTemp\",\n",
       "\"ymax\":\"maxTemp\"\n",
       "},\n",
       "\"stat\":\"identity\",\n",
       "\"position\":\"identity\",\n",
       "\"geom\":\"ribbon\",\n",
       "\"data\":{\n",
       "}\n",
       "}]\n",
       "};\n",
       "           var plotContainer = document.getElementById(\"qBpNnM\");\n",
       "           window.letsPlotCall(function() {{\n",
       "               LetsPlot.buildPlotFromProcessedSpecs(plotSpec, -1, -1, plotContainer);\n",
       "           }});\n",
       "       })();    \n",
       "   </script>"
      ]
     },
     "execution_count": 3,
     "metadata": {},
     "output_type": "execute_result"
    }
   ],
   "source": [
    "letsPlot(dataMap) +\n",
    "    geomRibbon() { x = \"day\"; ymin = \"minTemp\"; ymax = \"maxTemp\" } +\n",
    "    xlab(\"time\") + ylab(\"temperature\")"
   ]
  }
 ],
 "metadata": {
  "kernelspec": {
   "display_name": "Kotlin",
   "language": "kotlin",
   "name": "kotlin"
  },
  "language_info": {
   "codemirror_mode": "text/x-kotlin",
   "file_extension": ".kt",
   "mimetype": "text/x-kotlin",
   "name": "kotlin",
   "nbconvert_exporter": "",
   "pygments_lexer": "kotlin",
   "version": "1.7.20-dev-1299"
  }
 },
 "nbformat": 4,
 "nbformat_minor": 5
}
