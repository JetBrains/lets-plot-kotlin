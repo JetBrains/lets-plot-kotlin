{
 "cells": [
  {
   "cell_type": "markdown",
   "source": [
    "<em><sub>This page is available as an executable or viewable <strong>Jupyter Notebook</strong>:</sub></em>\n",
    "<br/><br/>\n",
    "<a href=\"https://mybinder.org/v2/gh/JetBrains/lets-plot-kotlin/v1.0.0demos1?filepath=docs%2Fexamples%2Fjupyter-notebooks%2Flabel_format.ipynb\"\n",
    "   target=\"_parent\">\n",
    "   <img align=\"left\"\n",
    "        src=\"https://mybinder.org/badge_logo.svg\">\n",
    "</a>\n",
    "<a href=\"https://nbviewer.jupyter.org/github/JetBrains/lets-plot-kotlin/blob/master/docs/examples/jupyter-notebooks/label_format.ipynb\"\n",
    "   target=\"_parent\">\n",
    "   <img align=\"right\"\n",
    "        src=\"https://raw.githubusercontent.com/jupyter/design/master/logos/Badges/nbviewer_badge.png\"\n",
    "        width=\"109\" height=\"20\">\n",
    "</a>\n",
    "<br/>\n",
    "<br/>"
   ],
   "metadata": {
    "collapsed": false
   }
  },
  {
   "cell_type": "markdown",
   "metadata": {},
   "source": [
    "### The `label_format` parameter in `geom_text()`\n",
    "\n",
    "The `labelFormat` parameter specifies template for transforming value of the `label` aesthetic to a string."
   ]
  },
  {
   "cell_type": "code",
   "execution_count": 1,
   "metadata": {},
   "outputs": [
    {
     "data": {
      "text/html": [
       "   <div id=\"uSzgjl\"></div>\n",
       "   <script type=\"text/javascript\" data-lets-plot-script=\"library\">\n",
       "       if(!window.letsPlotCallQueue) {\n",
       "           window.letsPlotCallQueue = [];\n",
       "       }; \n",
       "       window.letsPlotCall = function(f) {\n",
       "           window.letsPlotCallQueue.push(f);\n",
       "       };\n",
       "       (function() {\n",
       "           var script = document.createElement(\"script\");\n",
       "           script.type = \"text/javascript\";\n",
       "           script.src = \"https://dl.bintray.com/jetbrains/lets-plot/lets-plot-1.5.4.min.js\";\n",
       "           script.onload = function() {\n",
       "               window.letsPlotCall = function(f) {f();};\n",
       "               window.letsPlotCallQueue.forEach(function(f) {f();});\n",
       "               window.letsPlotCallQueue = [];\n",
       "               \n",
       "               \n",
       "           };\n",
       "           script.onerror = function(event) {\n",
       "               window.letsPlotCall = function(f) {};\n",
       "               window.letsPlotCallQueue = [];\n",
       "               var div = document.createElement(\"div\");\n",
       "               div.style.color = 'darkred';\n",
       "               div.textContent = 'Error loading Lets-Plot JS';\n",
       "               document.getElementById(\"uSzgjl\").appendChild(div);\n",
       "           };\n",
       "           var e = document.getElementById(\"uSzgjl\");\n",
       "           e.appendChild(script);\n",
       "       })();\n",
       "   </script>"
      ]
     },
     "metadata": {},
     "output_type": "display_data"
    }
   ],
   "source": [
    "%use lets-plot(api=1.1.0-alpha5, lib=1.5.4, js=1.5.4)"
   ]
  },
  {
   "cell_type": "code",
   "execution_count": 2,
   "metadata": {},
   "outputs": [],
   "source": [
    "val df = mapOf<String, Any>(\n",
    "    \"y\" to (0 until 5),\n",
    "    \"z\" to listOf(1.0/3, 12.5/7, -22.5/11, 2.5/7, 31.67/1.77),\n",
    "    \"s\" to listOf(\"one\", \"two\", \"three\", \"four\", \"five\"))\n"
   ]
  },
  {
   "cell_type": "code",
   "execution_count": 3,
   "metadata": {},
   "outputs": [
    {
     "data": {
      "text/html": [
       "   <div id=\"oHtj7z\"></div>\n",
       "   <script type=\"text/javascript\" data-lets-plot-script=\"plot\">\n",
       "       (function() {\n",
       "           var plotSpec={\n",
       "'mapping':{\n",
       "},\n",
       "'data':{\n",
       "'y':[0.0,1.0,2.0,3.0,4.0],\n",
       "'z':[0.3333333333333333,1.7857142857142858,-2.0454545454545454,0.35714285714285715,17.89265536723164]\n",
       "},\n",
       "'kind':\"plot\",\n",
       "'scales':[],\n",
       "'layers':[{\n",
       "'mapping':{\n",
       "'y':\"y\",\n",
       "'label':\"z\"\n",
       "},\n",
       "'stat':\"identity\",\n",
       "'data':{\n",
       "},\n",
       "'position':\"identity\",\n",
       "'geom':\"text\"\n",
       "}]\n",
       "};\n",
       "           var plotContainer = document.getElementById(\"oHtj7z\");\n",
       "           window.letsPlotCall(function() {{\n",
       "               LetsPlot.buildPlotFromProcessedSpecs(plotSpec, -1, -1, plotContainer);\n",
       "           }});\n",
       "       })();    \n",
       "   </script>"
      ]
     },
     "execution_count": 3,
     "metadata": {
      "new_classpath": []
     },
     "output_type": "execute_result"
    }
   ],
   "source": [
    "// Floating point numbers without formatting.\n",
    "lets_plot(df) + geom_text {y = \"y\"; label = \"z\"}"
   ]
  },
  {
   "cell_type": "code",
   "execution_count": 4,
   "metadata": {},
   "outputs": [
    {
     "data": {
      "text/html": [
       "   <div id=\"TxJth3\"></div>\n",
       "   <script type=\"text/javascript\" data-lets-plot-script=\"plot\">\n",
       "       (function() {\n",
       "           var plotSpec={\n",
       "'mapping':{\n",
       "},\n",
       "'data':{\n",
       "'y':[0.0,1.0,2.0,3.0,4.0],\n",
       "'z':[0.3333333333333333,1.7857142857142858,-2.0454545454545454,0.35714285714285715,17.89265536723164]\n",
       "},\n",
       "'kind':\"plot\",\n",
       "'scales':[],\n",
       "'layers':[{\n",
       "'mapping':{\n",
       "'y':\"y\",\n",
       "'label':\"z\"\n",
       "},\n",
       "'stat':\"identity\",\n",
       "'data':{\n",
       "},\n",
       "'label_format':\".3f\",\n",
       "'position':\"identity\",\n",
       "'geom':\"text\"\n",
       "}]\n",
       "};\n",
       "           var plotContainer = document.getElementById(\"TxJth3\");\n",
       "           window.letsPlotCall(function() {{\n",
       "               LetsPlot.buildPlotFromProcessedSpecs(plotSpec, -1, -1, plotContainer);\n",
       "           }});\n",
       "       })();    \n",
       "   </script>"
      ]
     },
     "execution_count": 4,
     "metadata": {
      "new_classpath": []
     },
     "output_type": "execute_result"
    }
   ],
   "source": [
    "// Floating point numbers with formatting.\n",
    "lets_plot(df) + geom_text(labelFormat = \".3f\") {y = \"y\"; label = \"z\"; }"
   ]
  },
  {
   "cell_type": "code",
   "execution_count": 5,
   "metadata": {},
   "outputs": [
    {
     "data": {
      "text/html": [
       "   <div id=\"3UISVr\"></div>\n",
       "   <script type=\"text/javascript\" data-lets-plot-script=\"plot\">\n",
       "       (function() {\n",
       "           var plotSpec={\n",
       "'mapping':{\n",
       "},\n",
       "'data':{\n",
       "'y':[0.0,1.0,2.0,3.0,4.0],\n",
       "'z':[0.3333333333333333,1.7857142857142858,-2.0454545454545454,0.35714285714285715,17.89265536723164]\n",
       "},\n",
       "'kind':\"plot\",\n",
       "'scales':[],\n",
       "'layers':[{\n",
       "'mapping':{\n",
       "'y':\"y\",\n",
       "'label':\"z\"\n",
       "},\n",
       "'stat':\"identity\",\n",
       "'data':{\n",
       "},\n",
       "'label_format':\"Ttl: ${.2f} (B)\",\n",
       "'position':\"identity\",\n",
       "'geom':\"text\"\n",
       "}]\n",
       "};\n",
       "           var plotContainer = document.getElementById(\"3UISVr\");\n",
       "           window.letsPlotCall(function() {{\n",
       "               LetsPlot.buildPlotFromProcessedSpecs(plotSpec, -1, -1, plotContainer);\n",
       "           }});\n",
       "       })();    \n",
       "   </script>"
      ]
     },
     "execution_count": 5,
     "metadata": {
      "new_classpath": []
     },
     "output_type": "execute_result"
    }
   ],
   "source": [
    "// Number format as a part of a string pattern.\n",
    "lets_plot(df) + geom_text(labelFormat = \"Ttl: \\${.2f} (B)\") {y = \"y\"; label = \"z\"; }"
   ]
  },
  {
   "cell_type": "code",
   "execution_count": 6,
   "metadata": {},
   "outputs": [
    {
     "data": {
      "text/html": [
       "   <div id=\"J3mLQn\"></div>\n",
       "   <script type=\"text/javascript\" data-lets-plot-script=\"plot\">\n",
       "       (function() {\n",
       "           var plotSpec={\n",
       "'mapping':{\n",
       "},\n",
       "'data':{\n",
       "'s':[\"one\",\"two\",\"three\",\"four\",\"five\"],\n",
       "'y':[0.0,1.0,2.0,3.0,4.0]\n",
       "},\n",
       "'kind':\"plot\",\n",
       "'scales':[],\n",
       "'layers':[{\n",
       "'mapping':{\n",
       "'y':\"y\",\n",
       "'label':\"s\"\n",
       "},\n",
       "'stat':\"identity\",\n",
       "'data':{\n",
       "},\n",
       "'label_format':\"--{}--\",\n",
       "'position':\"identity\",\n",
       "'geom':\"text\"\n",
       "}]\n",
       "};\n",
       "           var plotContainer = document.getElementById(\"J3mLQn\");\n",
       "           window.letsPlotCall(function() {{\n",
       "               LetsPlot.buildPlotFromProcessedSpecs(plotSpec, -1, -1, plotContainer);\n",
       "           }});\n",
       "       })();    \n",
       "   </script>"
      ]
     },
     "execution_count": 6,
     "metadata": {
      "new_classpath": []
     },
     "output_type": "execute_result"
    }
   ],
   "source": [
    "// String pattern without value formatting. \"{}\"\n",
    "lets_plot(df) + geom_text(labelFormat = \"--{}--\") {y = \"y\"; label = \"s\"; }"
   ]
  }
 ],
 "metadata": {
  "kernelspec": {
   "display_name": "Kotlin",
   "language": "kotlin",
   "name": "kotlin"
  },
  "language_info": {
   "codemirror_mode": "text/x-kotlin",
   "file_extension": ".kt",
   "mimetype": "text/x-kotlin",
   "name": "kotlin",
   "pygments_lexer": "kotlin",
   "version": "1.4.30-dev-2223"
  }
 },
 "nbformat": 4,
 "nbformat_minor": 2
}