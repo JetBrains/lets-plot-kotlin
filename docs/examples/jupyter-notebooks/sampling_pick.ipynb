{
 "cells": [
  {
   "cell_type": "markdown",
   "metadata": {},
   "source": [
    "### Pick Sampling"
   ]
  },
  {
   "cell_type": "code",
   "execution_count": 1,
   "metadata": {},
   "outputs": [
    {
     "data": {
      "text/html": [
       "   <div id=\"MuN9SP\"></div>\n",
       "   <script type=\"text/javascript\" data-lets-plot-script=\"library\">\n",
       "       if(!window.letsPlotCallQueue) {\n",
       "           window.letsPlotCallQueue = [];\n",
       "       }; \n",
       "       window.letsPlotCall = function(f) {\n",
       "           window.letsPlotCallQueue.push(f);\n",
       "       };\n",
       "       (function() {\n",
       "           var script = document.createElement(\"script\");\n",
       "           script.type = \"text/javascript\";\n",
       "           script.src = \"https://cdn.jsdelivr.net/gh/JetBrains/lets-plot@v4.0.0/js-package/distr/lets-plot.min.js\";\n",
       "           script.onload = function() {\n",
       "               window.letsPlotCall = function(f) {f();};\n",
       "               window.letsPlotCallQueue.forEach(function(f) {f();});\n",
       "               window.letsPlotCallQueue = [];\n",
       "               \n",
       "               \n",
       "           };\n",
       "           script.onerror = function(event) {\n",
       "               window.letsPlotCall = function(f) {};\n",
       "               window.letsPlotCallQueue = [];\n",
       "               var div = document.createElement(\"div\");\n",
       "               div.style.color = 'darkred';\n",
       "               div.textContent = 'Error loading Lets-Plot JS';\n",
       "               document.getElementById(\"MuN9SP\").appendChild(div);\n",
       "           };\n",
       "           var e = document.getElementById(\"MuN9SP\");\n",
       "           e.appendChild(script);\n",
       "       })();\n",
       "   </script>"
      ]
     },
     "metadata": {},
     "output_type": "display_data"
    }
   ],
   "source": [
    "%useLatestDescriptors\n",
    "%use lets-plot"
   ]
  },
  {
   "cell_type": "code",
   "execution_count": 2,
   "metadata": {},
   "outputs": [],
   "source": [
    "fun genWord(length:Int):String {\n",
    "    val letters = ('a'..'z')\n",
    "    return List(length) { letters.random() }.joinToString(\"\")\n",
    "}    \n",
    "\n",
    "fun genWordSet(n:Int):Set<String> {\n",
    "    val words = HashSet<String>()\n",
    "    while(words.size < n) {\n",
    "        words.add(genWord(5))\n",
    "    }\n",
    "    return words\n",
    "}\n",
    "\n",
    "fun data(n:Int, words:Set<String>):Map<String, *> {\n",
    "    return mapOf(\n",
    "            \"word\" to List(n) { words.random() },\n",
    "            \"g\" to List(n) { listOf('a','b','c').random() }\n",
    "        )\n",
    "}"
   ]
  },
  {
   "cell_type": "code",
   "execution_count": 3,
   "metadata": {},
   "outputs": [],
   "source": [
    "// Number of unique words exceeds threshold (50) of default 'pick' sampling on bar chart.\n",
    "val words = genWordSet(500)\n",
    "val dat = data(1000, words)\n",
    "val p = ggplot(dat) { x = \"word\" }"
   ]
  },
  {
   "cell_type": "code",
   "execution_count": 4,
   "metadata": {},
   "outputs": [
    {
     "data": {
      "text/html": [
       "   <div id=\"D5sfeH\"></div>\n",
       "   <script type=\"text/javascript\" data-lets-plot-script=\"plot\">\n",
       "       (function() {\n",
       "           var plotSpec={\n",
       "\"mapping\":{\n",
       "\"x\":\"word\"\n",
       "},\n",
       "\"data\":{\n",
       "},\n",
       "\"kind\":\"plot\",\n",
       "\"scales\":[],\n",
       "\"layers\":[{\n",
       "\"mapping\":{\n",
       "},\n",
       "\"stat\":\"count\",\n",
       "\"sampling\":\"none\",\n",
       "\"position\":\"stack\",\n",
       "\"geom\":\"bar\",\n",
       "\"data\":{\n",
       "\"..count..\":[3.0,3.0,2.0,1.0,2.0,2.0,5.0,3.0,1.0,2.0,1.0,5.0,3.0,5.0,2.0,4.0,4.0,4.0,4.0,4.0,6.0,3.0,3.0,3.0,3.0,5.0,6.0,2.0,1.0,3.0,2.0,2.0,3.0,6.0,4.0,3.0,2.0,2.0,4.0,2.0,2.0,1.0,1.0,2.0,4.0,3.0,5.0,2.0,2.0,2.0,1.0,2.0,2.0,2.0,3.0,7.0,3.0,3.0,2.0,4.0,2.0,3.0,3.0,3.0,2.0,4.0,4.0,4.0,5.0,2.0,3.0,1.0,5.0,4.0,3.0,1.0,3.0,2.0,3.0,2.0,6.0,2.0,3.0,1.0,3.0,4.0,6.0,3.0,4.0,4.0,2.0,3.0,3.0,3.0,3.0,2.0,1.0,1.0,3.0,3.0,2.0,1.0,3.0,2.0,1.0,3.0,3.0,4.0,1.0,2.0,5.0,2.0,2.0,2.0,2.0,2.0,2.0,3.0,4.0,5.0,3.0,5.0,2.0,2.0,2.0,2.0,4.0,7.0,2.0,3.0,4.0,1.0,4.0,3.0,5.0,3.0,1.0,4.0,2.0,2.0,2.0,2.0,2.0,2.0,1.0,6.0,3.0,1.0,1.0,1.0,2.0,2.0,2.0,2.0,4.0,3.0,4.0,5.0,2.0,1.0,7.0,3.0,4.0,1.0,1.0,1.0,4.0,1.0,2.0,3.0,3.0,3.0,3.0,6.0,2.0,2.0,3.0,2.0,2.0,1.0,2.0,2.0,1.0,2.0,1.0,3.0,1.0,1.0,1.0,2.0,1.0,4.0,1.0,2.0,4.0,2.0,2.0,4.0,3.0,1.0,2.0,4.0,2.0,1.0,1.0,1.0,4.0,2.0,3.0,1.0,3.0,3.0,1.0,2.0,3.0,2.0,1.0,4.0,2.0,2.0,2.0,2.0,5.0,1.0,1.0,2.0,2.0,3.0,1.0,2.0,4.0,1.0,4.0,3.0,1.0,3.0,1.0,3.0,2.0,3.0,2.0,4.0,1.0,4.0,1.0,3.0,4.0,1.0,3.0,3.0,2.0,2.0,2.0,2.0,4.0,2.0,2.0,3.0,1.0,3.0,4.0,2.0,2.0,1.0,3.0,1.0,2.0,1.0,2.0,2.0,1.0,2.0,3.0,3.0,1.0,1.0,2.0,3.0,4.0,1.0,3.0,2.0,3.0,1.0,1.0,2.0,3.0,1.0,1.0,3.0,2.0,1.0,1.0,2.0,2.0,1.0,2.0,1.0,2.0,1.0,1.0,3.0,2.0,2.0,3.0,2.0,1.0,1.0,3.0,1.0,3.0,6.0,3.0,3.0,2.0,3.0,2.0,3.0,3.0,3.0,1.0,1.0,3.0,2.0,2.0,3.0,2.0,3.0,1.0,2.0,2.0,2.0,4.0,1.0,1.0,2.0,2.0,2.0,3.0,2.0,2.0,1.0,2.0,1.0,3.0,1.0,1.0,1.0,2.0,2.0,1.0,1.0,3.0,3.0,2.0,1.0,1.0,1.0,1.0,1.0,4.0,2.0,1.0,1.0,2.0,1.0,1.0,1.0,2.0,1.0,1.0,1.0,1.0,1.0,2.0,2.0,1.0,2.0,1.0,1.0,3.0,1.0,3.0,1.0,2.0,3.0,2.0,1.0,3.0,1.0,3.0,3.0,2.0,1.0,1.0,2.0,1.0,1.0,1.0,1.0,2.0,1.0,3.0,1.0,1.0,1.0,1.0,1.0,1.0,1.0,1.0,1.0,1.0,1.0,1.0,1.0,1.0,1.0,2.0,2.0,1.0,2.0,1.0,1.0,1.0,1.0,1.0,2.0,1.0,1.0,1.0,2.0,1.0,1.0,1.0,1.0,2.0,1.0],\n",
       "\"word\":[\"ozrsg\",\"hvqki\",\"dvyjg\",\"xobal\",\"ocykd\",\"kscga\",\"mljtq\",\"pmcgu\",\"qfrsr\",\"amwna\",\"ljumk\",\"sskrs\",\"kpxih\",\"ycpvz\",\"nzbhu\",\"fjmef\",\"kbpok\",\"ymvvz\",\"vxuwj\",\"oznho\",\"dxrkm\",\"aibwf\",\"ubzil\",\"usrpk\",\"bfipk\",\"ddxuj\",\"dfesf\",\"obdjn\",\"usqwe\",\"njvez\",\"khxgn\",\"hgbnf\",\"gkltg\",\"tvfor\",\"fydhi\",\"mbaeo\",\"kezhu\",\"dipxf\",\"yprov\",\"mlvfq\",\"uhjfx\",\"scqsm\",\"zkeyx\",\"uivfp\",\"iafgf\",\"qdbfy\",\"tipjf\",\"vilkd\",\"jjhcw\",\"hzjvi\",\"mbjhc\",\"wopgp\",\"cfqvy\",\"hmuug\",\"vgcuq\",\"oiinm\",\"yzrmp\",\"giijr\",\"kylra\",\"eerco\",\"mortf\",\"hfruv\",\"pcrgi\",\"kzvxl\",\"ubasz\",\"mtvcd\",\"juqwe\",\"glwnw\",\"tcpon\",\"pbqif\",\"yfuvj\",\"bowfa\",\"kzrld\",\"pgimk\",\"yphwn\",\"fcnxe\",\"tpggv\",\"mtanu\",\"gotfz\",\"dirar\",\"qzoec\",\"ychvf\",\"cdlpr\",\"dxaen\",\"kbbij\",\"fhxbg\",\"smjrc\",\"pyjsz\",\"ougky\",\"xiccy\",\"iemsw\",\"juugt\",\"tknsh\",\"tfith\",\"vhzus\",\"knnrp\",\"dxens\",\"oopya\",\"fohnj\",\"ipwiw\",\"xrvrl\",\"mcxjt\",\"rhuvx\",\"oojnm\",\"gvzij\",\"occbh\",\"tpwom\",\"cwpks\",\"ntfva\",\"ybhft\",\"iqpxo\",\"ogfle\",\"shkwl\",\"ravfz\",\"bwzus\",\"jhjvr\",\"oyylj\",\"emxbf\",\"hecqx\",\"vsrpt\",\"wpldb\",\"chcdc\",\"pbciu\",\"mlbch\",\"xrxfx\",\"vnzep\",\"wmqga\",\"yjbki\",\"trkxl\",\"dndnc\",\"zirjx\",\"cvrik\",\"rfpbz\",\"rojeh\",\"jfzrs\",\"ojmtd\",\"fuyxg\",\"fngxu\",\"qyfbs\",\"riujl\",\"sxwqx\",\"frpgv\",\"nltmf\",\"auxkf\",\"jpufe\",\"yvlal\",\"erxuy\",\"mloib\",\"fydii\",\"ffaud\",\"dveyp\",\"agjpc\",\"lpngj\",\"xzths\",\"pbokp\",\"uwqza\",\"gvkxv\",\"nrztw\",\"qnzih\",\"wsybo\",\"aguqu\",\"ruvfb\",\"dtqyn\",\"jubog\",\"lgqvj\",\"wvgrb\",\"jneue\",\"mnwvv\",\"tvapv\",\"lwxnb\",\"oqwgc\",\"huozi\",\"yqbpx\",\"ipiau\",\"oebqp\",\"ckwqp\",\"nrddi\",\"zewjv\",\"toipx\",\"irmqk\",\"ahwmc\",\"woszu\",\"lvxfs\",\"qtqol\",\"zpvyj\",\"hzmiu\",\"gtxvd\",\"hskwt\",\"szpgc\",\"mkfwv\",\"ojjfg\",\"nsjdm\",\"vhexm\",\"botsq\",\"mdkce\",\"zqnmx\",\"dclzk\",\"bqxvd\",\"ngzlm\",\"meqho\",\"zphhu\",\"otwqd\",\"jmbcu\",\"jsgqj\",\"jufbn\",\"clzmw\",\"biemw\",\"aihgg\",\"jldes\",\"sjtce\",\"whwyc\",\"kngem\",\"araon\",\"dwpbd\",\"vbgdu\",\"qikkp\",\"ciddh\",\"ebqqv\",\"ugnvi\",\"eqhyn\",\"swdky\",\"yhgks\",\"hplar\",\"kclhv\",\"tmtdx\",\"fsqdc\",\"whsmr\",\"tzxwm\",\"crkii\",\"svwud\",\"crzaq\",\"ysrbe\",\"fkeaa\",\"lfjhz\",\"rcrvt\",\"kafkw\",\"rsaog\",\"csuxm\",\"ibhrn\",\"jvscb\",\"mlayx\",\"aurmx\",\"ddgho\",\"evspj\",\"fhpkd\",\"jkhsy\",\"qkxkj\",\"lrqdw\",\"klurm\",\"whbzq\",\"wyjaf\",\"zditf\",\"ifvst\",\"jityp\",\"xgtce\",\"roevt\",\"ymnkl\",\"ggvjc\",\"vmwoc\",\"cliyv\",\"llwzz\",\"qznbn\",\"tmqyc\",\"mqakq\",\"lknrf\",\"zefyq\",\"lugmp\",\"mnkqu\",\"nrbfm\",\"nwnov\",\"micmm\",\"rikpg\",\"uqhom\",\"sfnpm\",\"ydszz\",\"cncnl\",\"atdml\",\"mtqab\",\"asvqk\",\"ndvjs\",\"jlmhd\",\"sintu\",\"bakkn\",\"dsymh\",\"yrxfo\",\"lpdln\",\"dbnkb\",\"yoqtx\",\"eajqu\",\"urwkb\",\"wvsxl\",\"lhrmh\",\"qogaz\",\"cuhfi\",\"roext\",\"kmmkg\",\"fisus\",\"bxozo\",\"rqhvu\",\"sozrd\",\"axevb\",\"ztyas\",\"asjtk\",\"bsqtn\",\"mnhfj\",\"vhqxe\",\"toask\",\"vazcm\",\"mrtpf\",\"zsgco\",\"acjph\",\"djaqc\",\"omtkr\",\"fqkgy\",\"xydsv\",\"plctm\",\"flbxk\",\"dlcji\",\"elnri\",\"pteyl\",\"ezjdz\",\"rqats\",\"vivkz\",\"avrvj\",\"ayakk\",\"btvuz\",\"unqwf\",\"klmil\",\"jjdvq\",\"baaxn\",\"hfhrd\",\"rhjxy\",\"tbhjs\",\"hapic\",\"numvp\",\"yjaci\",\"vnqso\",\"yivct\",\"jlmax\",\"nevur\",\"onfoy\",\"hixuj\",\"bexbo\",\"sfftz\",\"tmqbh\",\"qvplr\",\"aurdd\",\"srrox\",\"likit\",\"qhnjh\",\"jhvpj\",\"lyace\",\"skprz\",\"odiqm\",\"qbfrn\",\"vjaiv\",\"awwbs\",\"zewoa\",\"qpkjw\",\"kktrs\",\"lruwt\",\"kgcsb\",\"ynbeb\",\"elfwv\",\"wqooy\",\"doyym\",\"yzwhn\",\"xzohq\",\"xhsue\",\"cawtp\",\"rlomu\",\"vykxi\",\"qcmuk\",\"nsoga\",\"fmzvh\",\"kelmv\",\"vnnag\",\"tuxgp\",\"mbayr\",\"kvxvb\",\"vyvil\",\"fidag\",\"hkrco\",\"ecxza\",\"xcnty\",\"tttzw\",\"hfyon\",\"kfaxh\",\"pphbk\",\"fdihd\",\"dijso\",\"orhgw\",\"kibnl\",\"drcqb\",\"tcmhj\",\"ostbr\",\"jpvaj\",\"nwdwd\",\"zdore\",\"xnlxg\",\"ubjec\",\"fyqgb\",\"inman\",\"yqaad\",\"ptvgx\",\"aocfj\",\"ywljt\",\"dbblr\",\"daqoi\",\"rffyn\",\"woykr\",\"qwgcv\",\"yvzcx\",\"grxch\",\"uvcqs\",\"hqqfp\",\"yowjo\",\"wwhvj\",\"tkfcx\",\"hzixu\",\"cimdp\",\"jkljd\",\"wgxke\",\"csmze\",\"wexqo\",\"xjmav\",\"ykrsq\",\"ziqmt\",\"nkkgw\",\"pxsmd\",\"ztjiq\",\"tkdxo\",\"orslh\",\"lyono\",\"misku\",\"dfmwr\",\"rsger\",\"nmllw\"]\n",
       "}\n",
       "}]\n",
       "};\n",
       "           var plotContainer = document.getElementById(\"D5sfeH\");\n",
       "           window.letsPlotCall(function() {{\n",
       "               LetsPlot.buildPlotFromProcessedSpecs(plotSpec, -1, -1, plotContainer);\n",
       "           }});\n",
       "       })();    \n",
       "   </script>"
      ]
     },
     "execution_count": 4,
     "metadata": {},
     "output_type": "execute_result"
    }
   ],
   "source": [
    "// Disable sampling to see the overplotting.\n",
    "p + geomBar(sampling = samplingNone)"
   ]
  },
  {
   "cell_type": "code",
   "execution_count": 5,
   "metadata": {},
   "outputs": [
    {
     "data": {
      "text/html": [
       "   <div id=\"zePxXs\"></div>\n",
       "   <script type=\"text/javascript\" data-lets-plot-script=\"plot\">\n",
       "       (function() {\n",
       "           var plotSpec={\n",
       "\"mapping\":{\n",
       "\"x\":\"word\"\n",
       "},\n",
       "\"data\":{\n",
       "},\n",
       "\"kind\":\"plot\",\n",
       "\"scales\":[],\n",
       "\"layers\":[{\n",
       "\"mapping\":{\n",
       "},\n",
       "\"stat\":\"count\",\n",
       "\"position\":\"stack\",\n",
       "\"geom\":\"bar\",\n",
       "\"data\":{\n",
       "\"..count..\":[3.0,3.0,2.0,1.0,2.0,2.0,5.0,3.0,1.0,2.0,1.0,5.0,3.0,5.0,2.0,4.0,4.0,4.0,4.0,4.0,6.0,3.0,3.0,3.0,3.0,5.0,6.0,2.0,1.0,3.0,2.0,2.0,3.0,6.0,4.0,3.0,2.0,2.0,4.0,2.0,2.0,1.0,1.0,2.0,4.0,3.0,5.0,2.0,2.0,2.0,1.0,2.0,2.0,2.0,3.0,7.0,3.0,3.0,2.0,4.0,2.0,3.0,3.0,3.0,2.0,4.0,4.0,4.0,5.0,2.0,3.0,1.0,5.0,4.0,3.0,1.0,3.0,2.0,3.0,2.0,6.0,2.0,3.0,1.0,3.0,4.0,6.0,3.0,4.0,4.0,2.0,3.0,3.0,3.0,3.0,2.0,1.0,1.0,3.0,3.0,2.0,1.0,3.0,2.0,1.0,3.0,3.0,4.0,1.0,2.0,5.0,2.0,2.0,2.0,2.0,2.0,2.0,3.0,4.0,5.0,3.0,5.0,2.0,2.0,2.0,2.0,4.0,7.0,2.0,3.0,4.0,1.0,4.0,3.0,5.0,3.0,1.0,4.0,2.0,2.0,2.0,2.0,2.0,2.0,1.0,6.0,3.0,1.0,1.0,1.0,2.0,2.0,2.0,2.0,4.0,3.0,4.0,5.0,2.0,1.0,7.0,3.0,4.0,1.0,1.0,1.0,4.0,1.0,2.0,3.0,3.0,3.0,3.0,6.0,2.0,2.0,3.0,2.0,2.0,1.0,2.0,2.0,1.0,2.0,1.0,3.0,1.0,1.0,1.0,2.0,1.0,4.0,1.0,2.0,4.0,2.0,2.0,4.0,3.0,1.0,2.0,4.0,2.0,1.0,1.0,1.0,4.0,2.0,3.0,1.0,3.0,3.0,1.0,2.0,3.0,2.0,1.0,4.0,2.0,2.0,2.0,2.0,5.0,1.0,1.0,2.0,2.0,3.0,1.0,2.0,4.0,1.0,4.0,3.0,1.0,3.0,1.0,3.0,2.0,3.0,2.0,4.0,1.0,4.0,1.0,3.0,4.0,1.0,3.0,3.0,2.0,2.0,2.0,2.0,4.0,2.0,2.0,3.0,1.0,3.0,4.0,2.0,2.0,1.0,3.0,1.0,2.0,1.0,2.0,2.0,1.0,2.0,3.0,3.0,1.0,1.0,2.0,3.0,4.0,1.0,3.0,2.0,3.0,1.0,1.0,2.0,3.0,1.0,1.0,3.0,2.0,1.0,1.0,2.0,2.0,1.0,2.0,1.0,2.0,1.0,1.0,3.0,2.0,2.0,3.0,2.0,1.0,1.0,3.0,1.0,3.0,6.0,3.0,3.0,2.0,3.0,2.0,3.0,3.0,3.0,1.0,1.0,3.0,2.0,2.0,3.0,2.0,3.0,1.0,2.0,2.0,2.0,4.0,1.0,1.0,2.0,2.0,2.0,3.0,2.0,2.0,1.0,2.0,1.0,3.0,1.0,1.0,1.0,2.0,2.0,1.0,1.0,3.0,3.0,2.0,1.0,1.0,1.0,1.0,1.0,4.0,2.0,1.0,1.0,2.0,1.0,1.0,1.0,2.0,1.0,1.0,1.0,1.0,1.0,2.0,2.0,1.0,2.0,1.0,1.0,3.0,1.0,3.0,1.0,2.0,3.0,2.0,1.0,3.0,1.0,3.0,3.0,2.0,1.0,1.0,2.0,1.0,1.0,1.0,1.0,2.0,1.0,3.0,1.0,1.0,1.0,1.0,1.0,1.0,1.0,1.0,1.0,1.0,1.0,1.0,1.0,1.0,1.0,2.0,2.0,1.0,2.0,1.0,1.0,1.0,1.0,1.0,2.0,1.0,1.0,1.0,2.0,1.0,1.0,1.0,1.0,2.0,1.0],\n",
       "\"word\":[\"ozrsg\",\"hvqki\",\"dvyjg\",\"xobal\",\"ocykd\",\"kscga\",\"mljtq\",\"pmcgu\",\"qfrsr\",\"amwna\",\"ljumk\",\"sskrs\",\"kpxih\",\"ycpvz\",\"nzbhu\",\"fjmef\",\"kbpok\",\"ymvvz\",\"vxuwj\",\"oznho\",\"dxrkm\",\"aibwf\",\"ubzil\",\"usrpk\",\"bfipk\",\"ddxuj\",\"dfesf\",\"obdjn\",\"usqwe\",\"njvez\",\"khxgn\",\"hgbnf\",\"gkltg\",\"tvfor\",\"fydhi\",\"mbaeo\",\"kezhu\",\"dipxf\",\"yprov\",\"mlvfq\",\"uhjfx\",\"scqsm\",\"zkeyx\",\"uivfp\",\"iafgf\",\"qdbfy\",\"tipjf\",\"vilkd\",\"jjhcw\",\"hzjvi\",\"mbjhc\",\"wopgp\",\"cfqvy\",\"hmuug\",\"vgcuq\",\"oiinm\",\"yzrmp\",\"giijr\",\"kylra\",\"eerco\",\"mortf\",\"hfruv\",\"pcrgi\",\"kzvxl\",\"ubasz\",\"mtvcd\",\"juqwe\",\"glwnw\",\"tcpon\",\"pbqif\",\"yfuvj\",\"bowfa\",\"kzrld\",\"pgimk\",\"yphwn\",\"fcnxe\",\"tpggv\",\"mtanu\",\"gotfz\",\"dirar\",\"qzoec\",\"ychvf\",\"cdlpr\",\"dxaen\",\"kbbij\",\"fhxbg\",\"smjrc\",\"pyjsz\",\"ougky\",\"xiccy\",\"iemsw\",\"juugt\",\"tknsh\",\"tfith\",\"vhzus\",\"knnrp\",\"dxens\",\"oopya\",\"fohnj\",\"ipwiw\",\"xrvrl\",\"mcxjt\",\"rhuvx\",\"oojnm\",\"gvzij\",\"occbh\",\"tpwom\",\"cwpks\",\"ntfva\",\"ybhft\",\"iqpxo\",\"ogfle\",\"shkwl\",\"ravfz\",\"bwzus\",\"jhjvr\",\"oyylj\",\"emxbf\",\"hecqx\",\"vsrpt\",\"wpldb\",\"chcdc\",\"pbciu\",\"mlbch\",\"xrxfx\",\"vnzep\",\"wmqga\",\"yjbki\",\"trkxl\",\"dndnc\",\"zirjx\",\"cvrik\",\"rfpbz\",\"rojeh\",\"jfzrs\",\"ojmtd\",\"fuyxg\",\"fngxu\",\"qyfbs\",\"riujl\",\"sxwqx\",\"frpgv\",\"nltmf\",\"auxkf\",\"jpufe\",\"yvlal\",\"erxuy\",\"mloib\",\"fydii\",\"ffaud\",\"dveyp\",\"agjpc\",\"lpngj\",\"xzths\",\"pbokp\",\"uwqza\",\"gvkxv\",\"nrztw\",\"qnzih\",\"wsybo\",\"aguqu\",\"ruvfb\",\"dtqyn\",\"jubog\",\"lgqvj\",\"wvgrb\",\"jneue\",\"mnwvv\",\"tvapv\",\"lwxnb\",\"oqwgc\",\"huozi\",\"yqbpx\",\"ipiau\",\"oebqp\",\"ckwqp\",\"nrddi\",\"zewjv\",\"toipx\",\"irmqk\",\"ahwmc\",\"woszu\",\"lvxfs\",\"qtqol\",\"zpvyj\",\"hzmiu\",\"gtxvd\",\"hskwt\",\"szpgc\",\"mkfwv\",\"ojjfg\",\"nsjdm\",\"vhexm\",\"botsq\",\"mdkce\",\"zqnmx\",\"dclzk\",\"bqxvd\",\"ngzlm\",\"meqho\",\"zphhu\",\"otwqd\",\"jmbcu\",\"jsgqj\",\"jufbn\",\"clzmw\",\"biemw\",\"aihgg\",\"jldes\",\"sjtce\",\"whwyc\",\"kngem\",\"araon\",\"dwpbd\",\"vbgdu\",\"qikkp\",\"ciddh\",\"ebqqv\",\"ugnvi\",\"eqhyn\",\"swdky\",\"yhgks\",\"hplar\",\"kclhv\",\"tmtdx\",\"fsqdc\",\"whsmr\",\"tzxwm\",\"crkii\",\"svwud\",\"crzaq\",\"ysrbe\",\"fkeaa\",\"lfjhz\",\"rcrvt\",\"kafkw\",\"rsaog\",\"csuxm\",\"ibhrn\",\"jvscb\",\"mlayx\",\"aurmx\",\"ddgho\",\"evspj\",\"fhpkd\",\"jkhsy\",\"qkxkj\",\"lrqdw\",\"klurm\",\"whbzq\",\"wyjaf\",\"zditf\",\"ifvst\",\"jityp\",\"xgtce\",\"roevt\",\"ymnkl\",\"ggvjc\",\"vmwoc\",\"cliyv\",\"llwzz\",\"qznbn\",\"tmqyc\",\"mqakq\",\"lknrf\",\"zefyq\",\"lugmp\",\"mnkqu\",\"nrbfm\",\"nwnov\",\"micmm\",\"rikpg\",\"uqhom\",\"sfnpm\",\"ydszz\",\"cncnl\",\"atdml\",\"mtqab\",\"asvqk\",\"ndvjs\",\"jlmhd\",\"sintu\",\"bakkn\",\"dsymh\",\"yrxfo\",\"lpdln\",\"dbnkb\",\"yoqtx\",\"eajqu\",\"urwkb\",\"wvsxl\",\"lhrmh\",\"qogaz\",\"cuhfi\",\"roext\",\"kmmkg\",\"fisus\",\"bxozo\",\"rqhvu\",\"sozrd\",\"axevb\",\"ztyas\",\"asjtk\",\"bsqtn\",\"mnhfj\",\"vhqxe\",\"toask\",\"vazcm\",\"mrtpf\",\"zsgco\",\"acjph\",\"djaqc\",\"omtkr\",\"fqkgy\",\"xydsv\",\"plctm\",\"flbxk\",\"dlcji\",\"elnri\",\"pteyl\",\"ezjdz\",\"rqats\",\"vivkz\",\"avrvj\",\"ayakk\",\"btvuz\",\"unqwf\",\"klmil\",\"jjdvq\",\"baaxn\",\"hfhrd\",\"rhjxy\",\"tbhjs\",\"hapic\",\"numvp\",\"yjaci\",\"vnqso\",\"yivct\",\"jlmax\",\"nevur\",\"onfoy\",\"hixuj\",\"bexbo\",\"sfftz\",\"tmqbh\",\"qvplr\",\"aurdd\",\"srrox\",\"likit\",\"qhnjh\",\"jhvpj\",\"lyace\",\"skprz\",\"odiqm\",\"qbfrn\",\"vjaiv\",\"awwbs\",\"zewoa\",\"qpkjw\",\"kktrs\",\"lruwt\",\"kgcsb\",\"ynbeb\",\"elfwv\",\"wqooy\",\"doyym\",\"yzwhn\",\"xzohq\",\"xhsue\",\"cawtp\",\"rlomu\",\"vykxi\",\"qcmuk\",\"nsoga\",\"fmzvh\",\"kelmv\",\"vnnag\",\"tuxgp\",\"mbayr\",\"kvxvb\",\"vyvil\",\"fidag\",\"hkrco\",\"ecxza\",\"xcnty\",\"tttzw\",\"hfyon\",\"kfaxh\",\"pphbk\",\"fdihd\",\"dijso\",\"orhgw\",\"kibnl\",\"drcqb\",\"tcmhj\",\"ostbr\",\"jpvaj\",\"nwdwd\",\"zdore\",\"xnlxg\",\"ubjec\",\"fyqgb\",\"inman\",\"yqaad\",\"ptvgx\",\"aocfj\",\"ywljt\",\"dbblr\",\"daqoi\",\"rffyn\",\"woykr\",\"qwgcv\",\"yvzcx\",\"grxch\",\"uvcqs\",\"hqqfp\",\"yowjo\",\"wwhvj\",\"tkfcx\",\"hzixu\",\"cimdp\",\"jkljd\",\"wgxke\",\"csmze\",\"wexqo\",\"xjmav\",\"ykrsq\",\"ziqmt\",\"nkkgw\",\"pxsmd\",\"ztjiq\",\"tkdxo\",\"orslh\",\"lyono\",\"misku\",\"dfmwr\",\"rsger\",\"nmllw\"]\n",
       "}\n",
       "}]\n",
       "};\n",
       "           var plotContainer = document.getElementById(\"zePxXs\");\n",
       "           window.letsPlotCall(function() {{\n",
       "               LetsPlot.buildPlotFromProcessedSpecs(plotSpec, -1, -1, plotContainer);\n",
       "           }});\n",
       "       })();    \n",
       "   </script>"
      ]
     },
     "execution_count": 5,
     "metadata": {},
     "output_type": "execute_result"
    }
   ],
   "source": [
    "// Draw plot with default sampling.\n",
    "p + geomBar()"
   ]
  },
  {
   "cell_type": "code",
   "execution_count": 6,
   "metadata": {},
   "outputs": [
    {
     "data": {
      "text/html": [
       "   <div id=\"7lg5j0\"></div>\n",
       "   <script type=\"text/javascript\" data-lets-plot-script=\"plot\">\n",
       "       (function() {\n",
       "           var plotSpec={\n",
       "\"mapping\":{\n",
       "\"x\":\"word\"\n",
       "},\n",
       "\"data\":{\n",
       "},\n",
       "\"kind\":\"plot\",\n",
       "\"scales\":[],\n",
       "\"layers\":[{\n",
       "\"mapping\":{\n",
       "\"fill\":\"g\"\n",
       "},\n",
       "\"stat\":\"count\",\n",
       "\"position\":\"stack\",\n",
       "\"geom\":\"bar\",\n",
       "\"data\":{\n",
       "\"..count..\":[2.0,2.0,2.0,1.0,1.0,1.0,3.0,1.0,2.0,2.0,2.0,2.0,1.0,1.0,3.0,1.0,2.0,1.0,1.0,2.0,1.0,3.0,2.0,1.0,2.0,3.0,3.0,2.0,1.0,1.0,3.0,1.0,1.0,2.0,2.0,4.0,2.0,2.0,1.0,2.0,1.0,2.0,1.0,2.0,2.0,3.0,1.0,1.0,1.0,1.0,1.0,1.0,2.0,1.0,1.0,2.0,4.0,1.0,2.0,2.0,2.0,1.0,3.0,1.0,3.0,2.0,1.0,3.0,1.0,2.0,1.0,1.0,1.0,1.0,1.0,2.0,1.0,3.0,1.0,2.0,3.0,1.0,2.0,1.0,1.0,1.0,1.0,1.0,1.0,2.0,2.0,1.0,1.0,2.0,1.0,2.0,1.0,2.0,1.0,1.0,1.0,1.0,1.0,2.0,3.0,1.0,1.0,1.0,1.0,1.0,2.0,2.0,1.0,3.0,1.0,1.0,1.0,1.0,1.0,1.0,1.0,3.0,1.0,1.0,1.0,1.0,1.0,1.0,1.0,1.0,1.0,1.0,2.0,1.0,1.0,1.0,2.0,1.0,1.0,1.0,1.0,1.0,1.0,1.0,1.0,1.0,2.0,1.0,2.0,1.0,1.0,2.0,1.0,3.0,1.0,3.0,1.0,1.0,1.0,1.0,1.0,2.0,1.0,1.0,2.0,1.0,1.0,2.0,1.0,3.0,1.0,1.0,1.0,1.0,2.0,1.0,1.0,1.0,1.0,1.0,1.0,2.0,1.0,1.0,1.0,1.0,1.0,1.0,1.0,1.0,1.0,1.0,1.0,1.0,1.0,1.0,1.0,1.0,1.0,1.0,1.0,1.0,1.0,1.0,1.0,1.0,2.0,1.0,1.0,1.0,1.0,1.0,1.0,1.0,1.0,2.0,1.0,1.0,1.0,1.0,1.0,1.0,1.0,1.0,1.0,1.0,1.0,1.0,1.0,2.0,1.0,1.0,1.0,1.0,1.0,1.0,1.0,1.0,1.0,1.0,1.0,1.0,1.0,1.0,1.0,1.0,3.0,1.0,1.0,1.0,1.0,1.0,1.0,1.0,1.0,3.0,2.0,1.0,1.0,1.0,2.0,1.0,2.0,1.0,1.0,1.0,1.0,1.0,4.0,1.0,1.0,2.0,2.0,3.0,2.0,1.0,2.0,2.0,1.0,2.0,2.0,1.0,1.0,2.0,1.0,1.0,2.0,2.0,1.0,2.0,1.0,1.0,1.0,1.0,1.0,1.0,2.0,1.0,1.0,1.0,1.0,1.0,1.0,2.0,1.0,2.0,2.0,1.0,1.0,1.0,3.0,1.0,1.0,2.0,1.0,1.0,2.0,1.0,2.0,1.0,1.0,1.0,1.0,5.0,1.0,1.0,2.0,1.0,1.0,2.0,1.0,1.0,1.0,1.0,2.0,1.0,2.0,1.0,1.0,2.0,2.0,2.0,2.0,2.0,2.0,1.0,1.0,1.0,1.0,1.0,1.0,1.0,1.0,2.0,1.0,3.0,1.0,2.0,2.0,3.0,1.0,2.0,2.0,1.0,1.0,2.0,1.0,1.0,1.0,1.0,1.0,3.0,1.0,2.0,2.0,2.0,1.0,1.0,1.0,1.0,1.0,1.0,1.0,3.0,3.0,2.0,1.0,1.0,2.0,2.0,1.0,1.0,1.0,2.0,1.0,1.0,1.0,2.0,2.0,1.0,1.0,1.0,1.0,1.0,1.0,1.0,1.0,1.0,1.0,2.0,1.0,2.0,1.0,1.0,1.0,1.0,2.0,1.0,2.0,1.0,1.0,1.0,1.0,1.0,1.0,1.0,2.0,1.0,1.0,1.0,1.0,2.0,2.0,1.0,1.0,1.0,1.0,1.0,1.0,1.0,1.0,1.0,1.0,1.0,1.0,1.0,1.0,1.0,1.0,1.0,1.0,1.0,1.0,1.0,1.0,1.0,1.0,1.0,1.0,1.0,1.0,1.0,1.0,1.0,1.0,1.0,1.0,1.0,1.0,1.0,1.0,1.0,1.0,1.0,1.0,1.0,1.0,1.0,1.0,1.0,1.0,1.0,1.0,1.0,1.0,1.0,1.0,1.0,3.0,3.0,1.0,1.0,1.0,1.0,1.0,4.0,2.0,1.0,1.0,1.0,3.0,2.0,2.0,1.0,3.0,2.0,1.0,1.0,2.0,2.0,3.0,1.0,1.0,1.0,1.0,1.0,1.0,1.0,1.0,5.0,1.0,1.0,1.0,1.0,1.0,1.0,1.0,2.0,1.0,2.0,1.0,2.0,1.0,1.0,2.0,2.0,1.0,1.0,3.0,1.0,1.0,1.0,3.0,1.0,1.0,2.0,1.0,1.0,1.0,2.0,1.0,2.0,1.0,2.0,2.0,1.0,3.0,1.0,1.0,1.0,1.0,2.0,1.0,1.0,1.0,2.0,2.0,1.0,1.0,1.0,3.0,1.0,3.0,1.0,1.0,1.0,1.0,1.0,1.0,1.0,1.0,1.0,1.0,1.0,2.0,1.0,1.0,2.0,1.0,1.0,1.0,2.0,2.0,1.0,1.0,1.0,2.0,1.0,2.0,1.0,1.0,1.0,1.0,2.0,1.0,1.0,2.0,1.0,2.0,1.0,2.0,2.0,1.0,1.0,1.0,1.0,2.0,1.0,2.0,1.0,1.0,1.0,1.0,1.0,1.0,2.0,1.0,2.0,1.0,2.0,1.0,1.0,1.0,2.0,1.0,2.0,1.0,1.0,1.0,1.0,1.0,2.0,1.0,1.0,1.0,1.0,1.0,2.0,1.0,2.0,1.0,1.0,1.0,1.0,2.0,2.0,3.0,1.0,1.0,2.0,1.0,1.0,1.0,1.0,1.0,1.0,1.0,1.0,1.0,1.0,1.0,1.0,1.0,2.0,1.0,1.0,1.0,1.0,1.0,2.0,2.0,1.0,1.0,1.0,3.0,1.0,1.0,2.0,2.0,1.0,1.0,1.0,1.0,1.0,1.0,1.0,2.0,1.0,1.0,2.0,1.0,1.0,2.0,1.0,1.0,1.0,1.0,1.0,1.0,1.0,1.0,1.0,2.0,1.0,2.0,2.0,2.0,1.0,1.0,1.0,1.0,2.0,1.0,1.0,2.0,1.0,1.0,1.0,1.0,1.0,2.0,1.0,1.0,1.0,1.0,1.0,1.0,1.0,1.0,1.0],\n",
       "\"g\":[\"a\",\"a\",\"a\",\"a\",\"a\",\"a\",\"a\",\"a\",\"a\",\"a\",\"a\",\"a\",\"a\",\"a\",\"a\",\"a\",\"a\",\"a\",\"a\",\"a\",\"a\",\"a\",\"a\",\"a\",\"a\",\"a\",\"a\",\"a\",\"a\",\"a\",\"a\",\"a\",\"a\",\"a\",\"a\",\"a\",\"a\",\"a\",\"a\",\"a\",\"a\",\"a\",\"a\",\"a\",\"a\",\"a\",\"a\",\"a\",\"a\",\"a\",\"a\",\"a\",\"a\",\"a\",\"a\",\"a\",\"a\",\"a\",\"a\",\"a\",\"a\",\"a\",\"a\",\"a\",\"a\",\"a\",\"a\",\"a\",\"a\",\"a\",\"a\",\"a\",\"a\",\"a\",\"a\",\"a\",\"a\",\"a\",\"a\",\"a\",\"a\",\"a\",\"a\",\"a\",\"a\",\"a\",\"a\",\"a\",\"a\",\"a\",\"a\",\"a\",\"a\",\"a\",\"a\",\"a\",\"a\",\"a\",\"a\",\"a\",\"a\",\"a\",\"a\",\"a\",\"a\",\"a\",\"a\",\"a\",\"a\",\"a\",\"a\",\"a\",\"a\",\"a\",\"a\",\"a\",\"a\",\"a\",\"a\",\"a\",\"a\",\"a\",\"a\",\"a\",\"a\",\"a\",\"a\",\"a\",\"a\",\"a\",\"a\",\"a\",\"a\",\"a\",\"a\",\"a\",\"a\",\"a\",\"a\",\"a\",\"a\",\"a\",\"a\",\"a\",\"a\",\"a\",\"a\",\"a\",\"a\",\"a\",\"a\",\"a\",\"a\",\"a\",\"a\",\"a\",\"a\",\"a\",\"a\",\"a\",\"a\",\"a\",\"a\",\"a\",\"a\",\"a\",\"a\",\"a\",\"a\",\"a\",\"a\",\"a\",\"a\",\"a\",\"a\",\"a\",\"a\",\"a\",\"a\",\"a\",\"a\",\"a\",\"a\",\"a\",\"a\",\"a\",\"a\",\"a\",\"a\",\"a\",\"a\",\"a\",\"a\",\"a\",\"a\",\"a\",\"a\",\"a\",\"a\",\"a\",\"a\",\"a\",\"a\",\"a\",\"a\",\"a\",\"a\",\"a\",\"a\",\"a\",\"a\",\"a\",\"a\",\"a\",\"a\",\"a\",\"a\",\"a\",\"a\",\"a\",\"a\",\"a\",\"a\",\"a\",\"a\",\"a\",\"a\",\"a\",\"a\",\"a\",\"a\",\"a\",\"a\",\"a\",\"a\",\"a\",\"a\",\"a\",\"a\",\"a\",\"a\",\"a\",\"a\",\"a\",\"c\",\"c\",\"c\",\"c\",\"c\",\"c\",\"c\",\"c\",\"c\",\"c\",\"c\",\"c\",\"c\",\"c\",\"c\",\"c\",\"c\",\"c\",\"c\",\"c\",\"c\",\"c\",\"c\",\"c\",\"c\",\"c\",\"c\",\"c\",\"c\",\"c\",\"c\",\"c\",\"c\",\"c\",\"c\",\"c\",\"c\",\"c\",\"c\",\"c\",\"c\",\"c\",\"c\",\"c\",\"c\",\"c\",\"c\",\"c\",\"c\",\"c\",\"c\",\"c\",\"c\",\"c\",\"c\",\"c\",\"c\",\"c\",\"c\",\"c\",\"c\",\"c\",\"c\",\"c\",\"c\",\"c\",\"c\",\"c\",\"c\",\"c\",\"c\",\"c\",\"c\",\"c\",\"c\",\"c\",\"c\",\"c\",\"c\",\"c\",\"c\",\"c\",\"c\",\"c\",\"c\",\"c\",\"c\",\"c\",\"c\",\"c\",\"c\",\"c\",\"c\",\"c\",\"c\",\"c\",\"c\",\"c\",\"c\",\"c\",\"c\",\"c\",\"c\",\"c\",\"c\",\"c\",\"c\",\"c\",\"c\",\"c\",\"c\",\"c\",\"c\",\"c\",\"c\",\"c\",\"c\",\"c\",\"c\",\"c\",\"c\",\"c\",\"c\",\"c\",\"c\",\"c\",\"c\",\"c\",\"c\",\"c\",\"c\",\"c\",\"c\",\"c\",\"c\",\"c\",\"c\",\"c\",\"c\",\"c\",\"c\",\"c\",\"c\",\"c\",\"c\",\"c\",\"c\",\"c\",\"c\",\"c\",\"c\",\"c\",\"c\",\"c\",\"c\",\"c\",\"c\",\"c\",\"c\",\"c\",\"c\",\"c\",\"c\",\"c\",\"c\",\"c\",\"c\",\"c\",\"c\",\"c\",\"c\",\"c\",\"c\",\"c\",\"c\",\"c\",\"c\",\"c\",\"c\",\"c\",\"c\",\"c\",\"c\",\"c\",\"c\",\"c\",\"c\",\"c\",\"c\",\"c\",\"c\",\"c\",\"c\",\"c\",\"c\",\"c\",\"c\",\"c\",\"c\",\"c\",\"c\",\"c\",\"c\",\"c\",\"c\",\"c\",\"c\",\"c\",\"c\",\"c\",\"c\",\"c\",\"c\",\"c\",\"c\",\"c\",\"c\",\"c\",\"c\",\"c\",\"c\",\"c\",\"c\",\"c\",\"c\",\"c\",\"c\",\"c\",\"c\",\"c\",\"c\",\"c\",\"c\",\"c\",\"c\",\"c\",\"c\",\"c\",\"c\",\"c\",\"c\",\"b\",\"b\",\"b\",\"b\",\"b\",\"b\",\"b\",\"b\",\"b\",\"b\",\"b\",\"b\",\"b\",\"b\",\"b\",\"b\",\"b\",\"b\",\"b\",\"b\",\"b\",\"b\",\"b\",\"b\",\"b\",\"b\",\"b\",\"b\",\"b\",\"b\",\"b\",\"b\",\"b\",\"b\",\"b\",\"b\",\"b\",\"b\",\"b\",\"b\",\"b\",\"b\",\"b\",\"b\",\"b\",\"b\",\"b\",\"b\",\"b\",\"b\",\"b\",\"b\",\"b\",\"b\",\"b\",\"b\",\"b\",\"b\",\"b\",\"b\",\"b\",\"b\",\"b\",\"b\",\"b\",\"b\",\"b\",\"b\",\"b\",\"b\",\"b\",\"b\",\"b\",\"b\",\"b\",\"b\",\"b\",\"b\",\"b\",\"b\",\"b\",\"b\",\"b\",\"b\",\"b\",\"b\",\"b\",\"b\",\"b\",\"b\",\"b\",\"b\",\"b\",\"b\",\"b\",\"b\",\"b\",\"b\",\"b\",\"b\",\"b\",\"b\",\"b\",\"b\",\"b\",\"b\",\"b\",\"b\",\"b\",\"b\",\"b\",\"b\",\"b\",\"b\",\"b\",\"b\",\"b\",\"b\",\"b\",\"b\",\"b\",\"b\",\"b\",\"b\",\"b\",\"b\",\"b\",\"b\",\"b\",\"b\",\"b\",\"b\",\"b\",\"b\",\"b\",\"b\",\"b\",\"b\",\"b\",\"b\",\"b\",\"b\",\"b\",\"b\",\"b\",\"b\",\"b\",\"b\",\"b\",\"b\",\"b\",\"b\",\"b\",\"b\",\"b\",\"b\",\"b\",\"b\",\"b\",\"b\",\"b\",\"b\",\"b\",\"b\",\"b\",\"b\",\"b\",\"b\",\"b\",\"b\",\"b\",\"b\",\"b\",\"b\",\"b\",\"b\",\"b\",\"b\",\"b\",\"b\",\"b\",\"b\",\"b\",\"b\",\"b\",\"b\",\"b\",\"b\",\"b\",\"b\",\"b\",\"b\",\"b\",\"b\",\"b\",\"b\",\"b\",\"b\",\"b\",\"b\",\"b\",\"b\",\"b\",\"b\",\"b\",\"b\",\"b\",\"b\",\"b\",\"b\",\"b\",\"b\",\"b\",\"b\",\"b\",\"b\",\"b\",\"b\",\"b\",\"b\",\"b\",\"b\",\"b\",\"b\",\"b\",\"b\",\"b\",\"b\",\"b\",\"b\",\"b\",\"b\",\"b\",\"b\",\"b\",\"b\",\"b\",\"b\",\"b\",\"b\",\"b\",\"b\",\"b\",\"b\",\"b\",\"b\",\"b\",\"b\",\"b\",\"b\",\"b\",\"b\",\"b\",\"b\",\"b\"],\n",
       "\"word\":[\"ozrsg\",\"ocykd\",\"kscga\",\"pmcgu\",\"qfrsr\",\"amwna\",\"sskrs\",\"kpxih\",\"nzbhu\",\"fjmef\",\"dxrkm\",\"bfipk\",\"dfesf\",\"obdjn\",\"njvez\",\"khxgn\",\"mbaeo\",\"yprov\",\"mlvfq\",\"uhjfx\",\"jjhcw\",\"mljtq\",\"vgcuq\",\"kzvxl\",\"juqwe\",\"tcpon\",\"pgimk\",\"tpggv\",\"mtanu\",\"dirar\",\"kbbij\",\"iemsw\",\"knnrp\",\"oojnm\",\"cwpks\",\"iqpxo\",\"ogfle\",\"shkwl\",\"jhjvr\",\"oyylj\",\"pbciu\",\"mlbch\",\"ychvf\",\"trkxl\",\"dndnc\",\"oiinm\",\"riujl\",\"frpgv\",\"nltmf\",\"erxuy\",\"xzths\",\"ymvvz\",\"ruvfb\",\"usrpk\",\"mnwvv\",\"yqbpx\",\"ipiau\",\"oebqp\",\"nrddi\",\"zewjv\",\"glwnw\",\"woszu\",\"vxuwj\",\"zpvyj\",\"ddxuj\",\"zirjx\",\"szpgc\",\"nsjdm\",\"botsq\",\"mdkce\",\"zqnmx\",\"dclzk\",\"vsrpt\",\"wpldb\",\"ipwiw\",\"biemw\",\"sjtce\",\"whwyc\",\"kngem\",\"vbgdu\",\"fhxbg\",\"eqhyn\",\"fngxu\",\"hplar\",\"kclhv\",\"pbokp\",\"wmqga\",\"pyjsz\",\"svwud\",\"fkeaa\",\"lfjhz\",\"jldes\",\"kafkw\",\"iafgf\",\"jneue\",\"csuxm\",\"ibhrn\",\"aibwf\",\"evspj\",\"lrqdw\",\"klurm\",\"hvqki\",\"zditf\",\"ifvst\",\"nrztw\",\"jityp\",\"ggvjc\",\"cliyv\",\"lknrf\",\"zefyq\",\"nrbfm\",\"qkxkj\",\"micmm\",\"uqhom\",\"jkhsy\",\"rfpbz\",\"qznbn\",\"sfnpm\",\"ydszz\",\"mtqab\",\"ndvjs\",\"jlmhd\",\"atdml\",\"bakkn\",\"dsymh\",\"aurmx\",\"eerco\",\"mortf\",\"yoqtx\",\"eajqu\",\"wvsxl\",\"chcdc\",\"jfzrs\",\"cuhfi\",\"gotfz\",\"asvqk\",\"rqhvu\",\"sozrd\",\"ztyas\",\"asjtk\",\"lugmp\",\"yfuvj\",\"occbh\",\"rikpg\",\"acjph\",\"xydsv\",\"plctm\",\"ebqqv\",\"dlcji\",\"roevt\",\"bwzus\",\"ougky\",\"elnri\",\"djaqc\",\"ahwmc\",\"pteyl\",\"ezjdz\",\"vivkz\",\"avrvj\",\"jvscb\",\"kzrld\",\"unqwf\",\"auxkf\",\"crzaq\",\"xiccy\",\"kezhu\",\"gvkxv\",\"rhjxy\",\"numvp\",\"yjbki\",\"baaxn\",\"yhgks\",\"nevur\",\"onfoy\",\"ngzlm\",\"sfftz\",\"mnhfj\",\"likit\",\"pcrgi\",\"qikkp\",\"dvyjg\",\"skprz\",\"yzrmp\",\"lpngj\",\"tbhjs\",\"swdky\",\"omtkr\",\"yzwhn\",\"qnzih\",\"jmbcu\",\"qcmuk\",\"nsoga\",\"mrtpf\",\"vnnag\",\"whbzq\",\"mbayr\",\"kvxvb\",\"wopgp\",\"hfyon\",\"fmzvh\",\"uivfp\",\"qbfrn\",\"uwqza\",\"fyqgb\",\"jlmax\",\"klmil\",\"orhgw\",\"yqaad\",\"odiqm\",\"aocfj\",\"tknsh\",\"dbblr\",\"giijr\",\"mtvcd\",\"daqoi\",\"inman\",\"hecqx\",\"wqooy\",\"grxch\",\"uvcqs\",\"ubzil\",\"smjrc\",\"hqqfp\",\"dtqyn\",\"hzixu\",\"cimdp\",\"vhzus\",\"xcnty\",\"xjmav\",\"aguqu\",\"ykrsq\",\"fsqdc\",\"lruwt\",\"ztjiq\",\"tkdxo\",\"urwkb\",\"kibnl\",\"qyfbs\",\"yjaci\",\"ymnkl\",\"ziqmt\",\"ojmtd\",\"tzxwm\",\"pbqif\",\"hvqki\",\"ljumk\",\"oznho\",\"aibwf\",\"ubzil\",\"usqwe\",\"hgbnf\",\"gkltg\",\"kezhu\",\"dipxf\",\"iafgf\",\"qdbfy\",\"vilkd\",\"mbjhc\",\"wopgp\",\"giijr\",\"eerco\",\"hfruv\",\"ycpvz\",\"glwnw\",\"pbqif\",\"bowfa\",\"sskrs\",\"gotfz\",\"qzoec\",\"ychvf\",\"cdlpr\",\"pyjsz\",\"ougky\",\"juugt\",\"tfith\",\"vhzus\",\"fohnj\",\"ipwiw\",\"xrvrl\",\"tipjf\",\"occbh\",\"yfuvj\",\"hmuug\",\"vsrpt\",\"xrxfx\",\"wmqga\",\"yjbki\",\"zirjx\",\"usrpk\",\"jfzrs\",\"fngxu\",\"qyfbs\",\"auxkf\",\"fydii\",\"ffaud\",\"emxbf\",\"pbokp\",\"nrztw\",\"qnzih\",\"wsybo\",\"bfipk\",\"jubog\",\"wvgrb\",\"jneue\",\"tvapv\",\"oqwgc\",\"huozi\",\"toipx\",\"irmqk\",\"lvxfs\",\"hzmiu\",\"gtxvd\",\"hskwt\",\"pmcgu\",\"kylra\",\"ngzlm\",\"ymvvz\",\"zphhu\",\"rhuvx\",\"nsjdm\",\"jmbcu\",\"jufbn\",\"aihgg\",\"yvlal\",\"qikkp\",\"ciddh\",\"ebqqv\",\"ugnvi\",\"tmtdx\",\"whsmr\",\"crkii\",\"rcrvt\",\"nltmf\",\"rsaog\",\"lwxnb\",\"ddxuj\",\"mdkce\",\"iqpxo\",\"fhpkd\",\"erxuy\",\"crzaq\",\"whbzq\",\"wyjaf\",\"yphwn\",\"xgtce\",\"jvscb\",\"qznbn\",\"mqakq\",\"lugmp\",\"mnkqu\",\"mljtq\",\"yqbpx\",\"dveyp\",\"rfpbz\",\"knnrp\",\"dfesf\",\"ravfz\",\"lpdln\",\"tcpon\",\"dbnkb\",\"dndnc\",\"dtqyn\",\"asvqk\",\"otwqd\",\"oiinm\",\"hecqx\",\"roext\",\"kmmkg\",\"bxozo\",\"ojmtd\",\"ibhrn\",\"kzrld\",\"tmqyc\",\"llwzz\",\"aguqu\",\"mnhfj\",\"dxrkm\",\"ggvjc\",\"toask\",\"oebqp\",\"mrtpf\",\"zsgco\",\"acjph\",\"evspj\",\"djaqc\",\"omtkr\",\"aurmx\",\"lknrf\",\"btvuz\",\"fydhi\",\"urwkb\",\"bqxvd\",\"baaxn\",\"yprov\",\"yjaci\",\"vnqso\",\"elnri\",\"jlmax\",\"kpxih\",\"hixuj\",\"ckwqp\",\"tknsh\",\"qvplr\",\"sfnpm\",\"pgimk\",\"aurdd\",\"srrox\",\"tmqbh\",\"cuhfi\",\"hplar\",\"jhvpj\",\"ztyas\",\"qbfrn\",\"mlvfq\",\"kngem\",\"kktrs\",\"lruwt\",\"ynbeb\",\"tvfor\",\"wqooy\",\"doyym\",\"jjhcw\",\"kafkw\",\"klmil\",\"rlomu\",\"cliyv\",\"kelmv\",\"qhnjh\",\"odiqm\",\"fqkgy\",\"ruvfb\",\"vivkz\",\"hkrco\",\"svwud\",\"fdihd\",\"orhgw\",\"obdjn\",\"tcmhj\",\"vyvil\",\"jpvaj\",\"nwdwd\",\"pphbk\",\"plctm\",\"ptvgx\",\"avrvj\",\"ywljt\",\"kbpok\",\"likit\",\"woykr\",\"khxgn\",\"eqhyn\",\"dlcji\",\"tbhjs\",\"tpwom\",\"bexbo\",\"nevur\",\"xiccy\",\"chcdc\",\"jldes\",\"wwhvj\",\"vnzep\",\"zditf\",\"dijso\",\"wgxke\",\"wexqo\",\"hfhrd\",\"jhjvr\",\"fjmef\",\"dwpbd\",\"nkkgw\",\"pxsmd\",\"hfyon\",\"lyono\",\"wpldb\",\"tkdxo\",\"botsq\",\"wvsxl\",\"misku\",\"vgcuq\",\"frpgv\",\"kgcsb\",\"gvkxv\",\"jkhsy\",\"juqwe\",\"sintu\",\"dvyjg\",\"xobal\",\"mljtq\",\"ycpvz\",\"kbpok\",\"ymvvz\",\"vxuwj\",\"hvqki\",\"usrpk\",\"ddxuj\",\"tvfor\",\"fydhi\",\"scqsm\",\"zkeyx\",\"uivfp\",\"tipjf\",\"hzjvi\",\"cfqvy\",\"hmuug\",\"oiinm\",\"yzrmp\",\"kylra\",\"mortf\",\"pcrgi\",\"ubasz\",\"mtvcd\",\"yfuvj\",\"ubzil\",\"kzrld\",\"yphwn\",\"fcnxe\",\"tpggv\",\"dxaen\",\"fhxbg\",\"smjrc\",\"xiccy\",\"tknsh\",\"dxens\",\"oopya\",\"mcxjt\",\"rhuvx\",\"gotfz\",\"qzoec\",\"gvzij\",\"tpwom\",\"ntfva\",\"ybhft\",\"ravfz\",\"bwzus\",\"kzvxl\",\"emxbf\",\"hecqx\",\"wpldb\",\"chcdc\",\"vnzep\",\"cvrik\",\"rfpbz\",\"rojeh\",\"ojmtd\",\"fuyxg\",\"sxwqx\",\"jpufe\",\"yvlal\",\"mloib\",\"vsrpt\",\"dveyp\",\"agjpc\",\"lpngj\",\"uwqza\",\"gvkxv\",\"mbaeo\",\"aguqu\",\"dtqyn\",\"lgqvj\",\"lwxnb\",\"hgbnf\",\"cdlpr\",\"ckwqp\",\"nrztw\",\"ahwmc\",\"qtqol\",\"mkfwv\",\"ojjfg\",\"vhexm\",\"vhzus\",\"bqxvd\",\"meqho\",\"otwqd\",\"jsgqj\",\"clzmw\",\"jldes\",\"araon\",\"dwpbd\",\"vbgdu\",\"oznho\",\"zqnmx\",\"fohnj\",\"pbciu\",\"swdky\",\"hfruv\",\"yhgks\",\"fsqdc\",\"tzxwm\",\"crzaq\",\"ysrbe\",\"jvscb\",\"mlayx\",\"aurmx\",\"ddgho\",\"woszu\",\"jkhsy\",\"qkxkj\",\"fjmef\",\"dfesf\",\"roevt\",\"ymnkl\",\"vmwoc\",\"lfjhz\",\"llwzz\",\"tmqyc\",\"amwna\",\"fkeaa\",\"jfzrs\",\"nwnov\",\"rikpg\",\"yjbki\",\"hplar\",\"iafgf\",\"cncnl\",\"atdml\",\"asvqk\",\"cwpks\",\"sintu\",\"wmqga\",\"huozi\",\"yrxfo\",\"urwkb\",\"jityp\",\"lhrmh\",\"qogaz\",\"fisus\",\"axevb\",\"bsqtn\",\"xrvrl\",\"vhqxe\",\"iemsw\",\"juqwe\",\"vazcm\",\"fqkgy\",\"yprov\",\"flbxk\",\"ugnvi\",\"dirar\",\"giijr\",\"rqats\",\"riujl\",\"ayakk\",\"klmil\",\"xzths\",\"jjdvq\",\"sfnpm\",\"hfhrd\",\"klurm\",\"kngem\",\"tbhjs\",\"dipxf\",\"acjph\",\"hapic\",\"dclzk\",\"yivct\",\"mtqab\",\"dxrkm\",\"ebqqv\",\"bexbo\",\"tmqbh\",\"vnqso\",\"pbokp\",\"qhnjh\",\"lyace\",\"odiqm\",\"vjaiv\",\"awwbs\",\"zewoa\",\"qpkjw\",\"kgcsb\",\"elfwv\",\"onfoy\",\"xzohq\",\"xhsue\",\"cawtp\",\"elnri\",\"vykxi\",\"eerco\",\"fmzvh\",\"tuxgp\",\"vyvil\",\"fidag\",\"ecxza\",\"xcnty\",\"tttzw\",\"mrtpf\",\"kfaxh\",\"pphbk\",\"dijso\",\"xydsv\",\"kibnl\",\"asjtk\",\"aihgg\",\"drcqb\",\"ozrsg\",\"btvuz\",\"ostbr\",\"zdore\",\"xnlxg\",\"ubjec\",\"inman\",\"rffyn\",\"bakkn\",\"qwgcv\",\"glwnw\",\"zphhu\",\"toipx\",\"xrxfx\",\"yvzcx\",\"skprz\",\"yowjo\",\"tvapv\",\"tkfcx\",\"lknrf\",\"biemw\",\"ipiau\",\"jkljd\",\"csmze\",\"roext\",\"ziqmt\",\"lruwt\",\"gkltg\",\"hkrco\",\"hzixu\",\"xgtce\",\"orslh\",\"cliyv\",\"mtanu\",\"sskrs\",\"dfmwr\",\"rsger\",\"nrddi\",\"csuxm\",\"kafkw\",\"fngxu\",\"ggvjc\",\"jneue\",\"nmllw\",\"tfith\",\"oqwgc\"]\n",
       "}\n",
       "}]\n",
       "};\n",
       "           var plotContainer = document.getElementById(\"7lg5j0\");\n",
       "           window.letsPlotCall(function() {{\n",
       "               LetsPlot.buildPlotFromProcessedSpecs(plotSpec, -1, -1, plotContainer);\n",
       "           }});\n",
       "       })();    \n",
       "   </script>"
      ]
     },
     "execution_count": 6,
     "metadata": {},
     "output_type": "execute_result"
    }
   ],
   "source": [
    "// 'pick' sampling preserves groups on bar chart.\n",
    "p + geomBar { fill=\"g\" }"
   ]
  },
  {
   "cell_type": "code",
   "execution_count": 7,
   "metadata": {},
   "outputs": [
    {
     "data": {
      "text/html": [
       "   <div id=\"mrFD6P\"></div>\n",
       "   <script type=\"text/javascript\" data-lets-plot-script=\"plot\">\n",
       "       (function() {\n",
       "           var plotSpec={\n",
       "\"mapping\":{\n",
       "\"x\":\"word\"\n",
       "},\n",
       "\"data\":{\n",
       "},\n",
       "\"kind\":\"plot\",\n",
       "\"scales\":[],\n",
       "\"layers\":[{\n",
       "\"mapping\":{\n",
       "\"x\":\"word\",\n",
       "\"fill\":\"g\"\n",
       "},\n",
       "\"stat\":\"count\",\n",
       "\"position\":\"stack\",\n",
       "\"geom\":\"bar\",\n",
       "\"data_meta\":{\n",
       "\"mapping_annotations\":[{\n",
       "\"aes\":\"x\",\n",
       "\"annotation\":\"as_discrete\",\n",
       "\"parameters\":{\n",
       "\"label\":\"word\",\n",
       "\"order_by\":\"..count..\"\n",
       "}\n",
       "}]\n",
       "},\n",
       "\"data\":{\n",
       "\"..count..\":[2.0,2.0,2.0,1.0,1.0,1.0,3.0,1.0,2.0,2.0,2.0,2.0,1.0,1.0,3.0,1.0,2.0,1.0,1.0,2.0,1.0,3.0,2.0,1.0,2.0,3.0,3.0,2.0,1.0,1.0,3.0,1.0,1.0,2.0,2.0,4.0,2.0,2.0,1.0,2.0,1.0,2.0,1.0,2.0,2.0,3.0,1.0,1.0,1.0,1.0,1.0,1.0,2.0,1.0,1.0,2.0,4.0,1.0,2.0,2.0,2.0,1.0,3.0,1.0,3.0,2.0,1.0,3.0,1.0,2.0,1.0,1.0,1.0,1.0,1.0,2.0,1.0,3.0,1.0,2.0,3.0,1.0,2.0,1.0,1.0,1.0,1.0,1.0,1.0,2.0,2.0,1.0,1.0,2.0,1.0,2.0,1.0,2.0,1.0,1.0,1.0,1.0,1.0,2.0,3.0,1.0,1.0,1.0,1.0,1.0,2.0,2.0,1.0,3.0,1.0,1.0,1.0,1.0,1.0,1.0,1.0,3.0,1.0,1.0,1.0,1.0,1.0,1.0,1.0,1.0,1.0,1.0,2.0,1.0,1.0,1.0,2.0,1.0,1.0,1.0,1.0,1.0,1.0,1.0,1.0,1.0,2.0,1.0,2.0,1.0,1.0,2.0,1.0,3.0,1.0,3.0,1.0,1.0,1.0,1.0,1.0,2.0,1.0,1.0,2.0,1.0,1.0,2.0,1.0,3.0,1.0,1.0,1.0,1.0,2.0,1.0,1.0,1.0,1.0,1.0,1.0,2.0,1.0,1.0,1.0,1.0,1.0,1.0,1.0,1.0,1.0,1.0,1.0,1.0,1.0,1.0,1.0,1.0,1.0,1.0,1.0,1.0,1.0,1.0,1.0,1.0,2.0,1.0,1.0,1.0,1.0,1.0,1.0,1.0,1.0,2.0,1.0,1.0,1.0,1.0,1.0,1.0,1.0,1.0,1.0,1.0,1.0,1.0,1.0,2.0,1.0,1.0,1.0,1.0,1.0,1.0,1.0,1.0,1.0,1.0,1.0,1.0,1.0,1.0,1.0,1.0,3.0,1.0,1.0,1.0,1.0,1.0,1.0,1.0,1.0,3.0,2.0,1.0,1.0,1.0,2.0,1.0,2.0,1.0,1.0,1.0,1.0,1.0,4.0,1.0,1.0,2.0,2.0,3.0,2.0,1.0,2.0,2.0,1.0,2.0,2.0,1.0,1.0,2.0,1.0,1.0,2.0,2.0,1.0,2.0,1.0,1.0,1.0,1.0,1.0,1.0,2.0,1.0,1.0,1.0,1.0,1.0,1.0,2.0,1.0,2.0,2.0,1.0,1.0,1.0,3.0,1.0,1.0,2.0,1.0,1.0,2.0,1.0,2.0,1.0,1.0,1.0,1.0,5.0,1.0,1.0,2.0,1.0,1.0,2.0,1.0,1.0,1.0,1.0,2.0,1.0,2.0,1.0,1.0,2.0,2.0,2.0,2.0,2.0,2.0,1.0,1.0,1.0,1.0,1.0,1.0,1.0,1.0,2.0,1.0,3.0,1.0,2.0,2.0,3.0,1.0,2.0,2.0,1.0,1.0,2.0,1.0,1.0,1.0,1.0,1.0,3.0,1.0,2.0,2.0,2.0,1.0,1.0,1.0,1.0,1.0,1.0,1.0,3.0,3.0,2.0,1.0,1.0,2.0,2.0,1.0,1.0,1.0,2.0,1.0,1.0,1.0,2.0,2.0,1.0,1.0,1.0,1.0,1.0,1.0,1.0,1.0,1.0,1.0,2.0,1.0,2.0,1.0,1.0,1.0,1.0,2.0,1.0,2.0,1.0,1.0,1.0,1.0,1.0,1.0,1.0,2.0,1.0,1.0,1.0,1.0,2.0,2.0,1.0,1.0,1.0,1.0,1.0,1.0,1.0,1.0,1.0,1.0,1.0,1.0,1.0,1.0,1.0,1.0,1.0,1.0,1.0,1.0,1.0,1.0,1.0,1.0,1.0,1.0,1.0,1.0,1.0,1.0,1.0,1.0,1.0,1.0,1.0,1.0,1.0,1.0,1.0,1.0,1.0,1.0,1.0,1.0,1.0,1.0,1.0,1.0,1.0,1.0,1.0,1.0,1.0,1.0,1.0,3.0,3.0,1.0,1.0,1.0,1.0,1.0,4.0,2.0,1.0,1.0,1.0,3.0,2.0,2.0,1.0,3.0,2.0,1.0,1.0,2.0,2.0,3.0,1.0,1.0,1.0,1.0,1.0,1.0,1.0,1.0,5.0,1.0,1.0,1.0,1.0,1.0,1.0,1.0,2.0,1.0,2.0,1.0,2.0,1.0,1.0,2.0,2.0,1.0,1.0,3.0,1.0,1.0,1.0,3.0,1.0,1.0,2.0,1.0,1.0,1.0,2.0,1.0,2.0,1.0,2.0,2.0,1.0,3.0,1.0,1.0,1.0,1.0,2.0,1.0,1.0,1.0,2.0,2.0,1.0,1.0,1.0,3.0,1.0,3.0,1.0,1.0,1.0,1.0,1.0,1.0,1.0,1.0,1.0,1.0,1.0,2.0,1.0,1.0,2.0,1.0,1.0,1.0,2.0,2.0,1.0,1.0,1.0,2.0,1.0,2.0,1.0,1.0,1.0,1.0,2.0,1.0,1.0,2.0,1.0,2.0,1.0,2.0,2.0,1.0,1.0,1.0,1.0,2.0,1.0,2.0,1.0,1.0,1.0,1.0,1.0,1.0,2.0,1.0,2.0,1.0,2.0,1.0,1.0,1.0,2.0,1.0,2.0,1.0,1.0,1.0,1.0,1.0,2.0,1.0,1.0,1.0,1.0,1.0,2.0,1.0,2.0,1.0,1.0,1.0,1.0,2.0,2.0,3.0,1.0,1.0,2.0,1.0,1.0,1.0,1.0,1.0,1.0,1.0,1.0,1.0,1.0,1.0,1.0,1.0,2.0,1.0,1.0,1.0,1.0,1.0,2.0,2.0,1.0,1.0,1.0,3.0,1.0,1.0,2.0,2.0,1.0,1.0,1.0,1.0,1.0,1.0,1.0,2.0,1.0,1.0,2.0,1.0,1.0,2.0,1.0,1.0,1.0,1.0,1.0,1.0,1.0,1.0,1.0,2.0,1.0,2.0,2.0,2.0,1.0,1.0,1.0,1.0,2.0,1.0,1.0,2.0,1.0,1.0,1.0,1.0,1.0,2.0,1.0,1.0,1.0,1.0,1.0,1.0,1.0,1.0,1.0],\n",
       "\"g\":[\"a\",\"a\",\"a\",\"a\",\"a\",\"a\",\"a\",\"a\",\"a\",\"a\",\"a\",\"a\",\"a\",\"a\",\"a\",\"a\",\"a\",\"a\",\"a\",\"a\",\"a\",\"a\",\"a\",\"a\",\"a\",\"a\",\"a\",\"a\",\"a\",\"a\",\"a\",\"a\",\"a\",\"a\",\"a\",\"a\",\"a\",\"a\",\"a\",\"a\",\"a\",\"a\",\"a\",\"a\",\"a\",\"a\",\"a\",\"a\",\"a\",\"a\",\"a\",\"a\",\"a\",\"a\",\"a\",\"a\",\"a\",\"a\",\"a\",\"a\",\"a\",\"a\",\"a\",\"a\",\"a\",\"a\",\"a\",\"a\",\"a\",\"a\",\"a\",\"a\",\"a\",\"a\",\"a\",\"a\",\"a\",\"a\",\"a\",\"a\",\"a\",\"a\",\"a\",\"a\",\"a\",\"a\",\"a\",\"a\",\"a\",\"a\",\"a\",\"a\",\"a\",\"a\",\"a\",\"a\",\"a\",\"a\",\"a\",\"a\",\"a\",\"a\",\"a\",\"a\",\"a\",\"a\",\"a\",\"a\",\"a\",\"a\",\"a\",\"a\",\"a\",\"a\",\"a\",\"a\",\"a\",\"a\",\"a\",\"a\",\"a\",\"a\",\"a\",\"a\",\"a\",\"a\",\"a\",\"a\",\"a\",\"a\",\"a\",\"a\",\"a\",\"a\",\"a\",\"a\",\"a\",\"a\",\"a\",\"a\",\"a\",\"a\",\"a\",\"a\",\"a\",\"a\",\"a\",\"a\",\"a\",\"a\",\"a\",\"a\",\"a\",\"a\",\"a\",\"a\",\"a\",\"a\",\"a\",\"a\",\"a\",\"a\",\"a\",\"a\",\"a\",\"a\",\"a\",\"a\",\"a\",\"a\",\"a\",\"a\",\"a\",\"a\",\"a\",\"a\",\"a\",\"a\",\"a\",\"a\",\"a\",\"a\",\"a\",\"a\",\"a\",\"a\",\"a\",\"a\",\"a\",\"a\",\"a\",\"a\",\"a\",\"a\",\"a\",\"a\",\"a\",\"a\",\"a\",\"a\",\"a\",\"a\",\"a\",\"a\",\"a\",\"a\",\"a\",\"a\",\"a\",\"a\",\"a\",\"a\",\"a\",\"a\",\"a\",\"a\",\"a\",\"a\",\"a\",\"a\",\"a\",\"a\",\"a\",\"a\",\"a\",\"a\",\"a\",\"a\",\"a\",\"a\",\"a\",\"a\",\"a\",\"a\",\"a\",\"a\",\"a\",\"a\",\"a\",\"a\",\"a\",\"a\",\"a\",\"a\",\"c\",\"c\",\"c\",\"c\",\"c\",\"c\",\"c\",\"c\",\"c\",\"c\",\"c\",\"c\",\"c\",\"c\",\"c\",\"c\",\"c\",\"c\",\"c\",\"c\",\"c\",\"c\",\"c\",\"c\",\"c\",\"c\",\"c\",\"c\",\"c\",\"c\",\"c\",\"c\",\"c\",\"c\",\"c\",\"c\",\"c\",\"c\",\"c\",\"c\",\"c\",\"c\",\"c\",\"c\",\"c\",\"c\",\"c\",\"c\",\"c\",\"c\",\"c\",\"c\",\"c\",\"c\",\"c\",\"c\",\"c\",\"c\",\"c\",\"c\",\"c\",\"c\",\"c\",\"c\",\"c\",\"c\",\"c\",\"c\",\"c\",\"c\",\"c\",\"c\",\"c\",\"c\",\"c\",\"c\",\"c\",\"c\",\"c\",\"c\",\"c\",\"c\",\"c\",\"c\",\"c\",\"c\",\"c\",\"c\",\"c\",\"c\",\"c\",\"c\",\"c\",\"c\",\"c\",\"c\",\"c\",\"c\",\"c\",\"c\",\"c\",\"c\",\"c\",\"c\",\"c\",\"c\",\"c\",\"c\",\"c\",\"c\",\"c\",\"c\",\"c\",\"c\",\"c\",\"c\",\"c\",\"c\",\"c\",\"c\",\"c\",\"c\",\"c\",\"c\",\"c\",\"c\",\"c\",\"c\",\"c\",\"c\",\"c\",\"c\",\"c\",\"c\",\"c\",\"c\",\"c\",\"c\",\"c\",\"c\",\"c\",\"c\",\"c\",\"c\",\"c\",\"c\",\"c\",\"c\",\"c\",\"c\",\"c\",\"c\",\"c\",\"c\",\"c\",\"c\",\"c\",\"c\",\"c\",\"c\",\"c\",\"c\",\"c\",\"c\",\"c\",\"c\",\"c\",\"c\",\"c\",\"c\",\"c\",\"c\",\"c\",\"c\",\"c\",\"c\",\"c\",\"c\",\"c\",\"c\",\"c\",\"c\",\"c\",\"c\",\"c\",\"c\",\"c\",\"c\",\"c\",\"c\",\"c\",\"c\",\"c\",\"c\",\"c\",\"c\",\"c\",\"c\",\"c\",\"c\",\"c\",\"c\",\"c\",\"c\",\"c\",\"c\",\"c\",\"c\",\"c\",\"c\",\"c\",\"c\",\"c\",\"c\",\"c\",\"c\",\"c\",\"c\",\"c\",\"c\",\"c\",\"c\",\"c\",\"c\",\"c\",\"c\",\"c\",\"c\",\"c\",\"c\",\"c\",\"c\",\"c\",\"c\",\"c\",\"c\",\"c\",\"c\",\"c\",\"c\",\"c\",\"b\",\"b\",\"b\",\"b\",\"b\",\"b\",\"b\",\"b\",\"b\",\"b\",\"b\",\"b\",\"b\",\"b\",\"b\",\"b\",\"b\",\"b\",\"b\",\"b\",\"b\",\"b\",\"b\",\"b\",\"b\",\"b\",\"b\",\"b\",\"b\",\"b\",\"b\",\"b\",\"b\",\"b\",\"b\",\"b\",\"b\",\"b\",\"b\",\"b\",\"b\",\"b\",\"b\",\"b\",\"b\",\"b\",\"b\",\"b\",\"b\",\"b\",\"b\",\"b\",\"b\",\"b\",\"b\",\"b\",\"b\",\"b\",\"b\",\"b\",\"b\",\"b\",\"b\",\"b\",\"b\",\"b\",\"b\",\"b\",\"b\",\"b\",\"b\",\"b\",\"b\",\"b\",\"b\",\"b\",\"b\",\"b\",\"b\",\"b\",\"b\",\"b\",\"b\",\"b\",\"b\",\"b\",\"b\",\"b\",\"b\",\"b\",\"b\",\"b\",\"b\",\"b\",\"b\",\"b\",\"b\",\"b\",\"b\",\"b\",\"b\",\"b\",\"b\",\"b\",\"b\",\"b\",\"b\",\"b\",\"b\",\"b\",\"b\",\"b\",\"b\",\"b\",\"b\",\"b\",\"b\",\"b\",\"b\",\"b\",\"b\",\"b\",\"b\",\"b\",\"b\",\"b\",\"b\",\"b\",\"b\",\"b\",\"b\",\"b\",\"b\",\"b\",\"b\",\"b\",\"b\",\"b\",\"b\",\"b\",\"b\",\"b\",\"b\",\"b\",\"b\",\"b\",\"b\",\"b\",\"b\",\"b\",\"b\",\"b\",\"b\",\"b\",\"b\",\"b\",\"b\",\"b\",\"b\",\"b\",\"b\",\"b\",\"b\",\"b\",\"b\",\"b\",\"b\",\"b\",\"b\",\"b\",\"b\",\"b\",\"b\",\"b\",\"b\",\"b\",\"b\",\"b\",\"b\",\"b\",\"b\",\"b\",\"b\",\"b\",\"b\",\"b\",\"b\",\"b\",\"b\",\"b\",\"b\",\"b\",\"b\",\"b\",\"b\",\"b\",\"b\",\"b\",\"b\",\"b\",\"b\",\"b\",\"b\",\"b\",\"b\",\"b\",\"b\",\"b\",\"b\",\"b\",\"b\",\"b\",\"b\",\"b\",\"b\",\"b\",\"b\",\"b\",\"b\",\"b\",\"b\",\"b\",\"b\",\"b\",\"b\",\"b\",\"b\",\"b\",\"b\",\"b\",\"b\",\"b\",\"b\",\"b\",\"b\",\"b\",\"b\",\"b\",\"b\",\"b\",\"b\",\"b\",\"b\",\"b\",\"b\",\"b\",\"b\",\"b\",\"b\",\"b\",\"b\",\"b\",\"b\",\"b\",\"b\"],\n",
       "\"word\":[\"ozrsg\",\"ocykd\",\"kscga\",\"pmcgu\",\"qfrsr\",\"amwna\",\"sskrs\",\"kpxih\",\"nzbhu\",\"fjmef\",\"dxrkm\",\"bfipk\",\"dfesf\",\"obdjn\",\"njvez\",\"khxgn\",\"mbaeo\",\"yprov\",\"mlvfq\",\"uhjfx\",\"jjhcw\",\"mljtq\",\"vgcuq\",\"kzvxl\",\"juqwe\",\"tcpon\",\"pgimk\",\"tpggv\",\"mtanu\",\"dirar\",\"kbbij\",\"iemsw\",\"knnrp\",\"oojnm\",\"cwpks\",\"iqpxo\",\"ogfle\",\"shkwl\",\"jhjvr\",\"oyylj\",\"pbciu\",\"mlbch\",\"ychvf\",\"trkxl\",\"dndnc\",\"oiinm\",\"riujl\",\"frpgv\",\"nltmf\",\"erxuy\",\"xzths\",\"ymvvz\",\"ruvfb\",\"usrpk\",\"mnwvv\",\"yqbpx\",\"ipiau\",\"oebqp\",\"nrddi\",\"zewjv\",\"glwnw\",\"woszu\",\"vxuwj\",\"zpvyj\",\"ddxuj\",\"zirjx\",\"szpgc\",\"nsjdm\",\"botsq\",\"mdkce\",\"zqnmx\",\"dclzk\",\"vsrpt\",\"wpldb\",\"ipwiw\",\"biemw\",\"sjtce\",\"whwyc\",\"kngem\",\"vbgdu\",\"fhxbg\",\"eqhyn\",\"fngxu\",\"hplar\",\"kclhv\",\"pbokp\",\"wmqga\",\"pyjsz\",\"svwud\",\"fkeaa\",\"lfjhz\",\"jldes\",\"kafkw\",\"iafgf\",\"jneue\",\"csuxm\",\"ibhrn\",\"aibwf\",\"evspj\",\"lrqdw\",\"klurm\",\"hvqki\",\"zditf\",\"ifvst\",\"nrztw\",\"jityp\",\"ggvjc\",\"cliyv\",\"lknrf\",\"zefyq\",\"nrbfm\",\"qkxkj\",\"micmm\",\"uqhom\",\"jkhsy\",\"rfpbz\",\"qznbn\",\"sfnpm\",\"ydszz\",\"mtqab\",\"ndvjs\",\"jlmhd\",\"atdml\",\"bakkn\",\"dsymh\",\"aurmx\",\"eerco\",\"mortf\",\"yoqtx\",\"eajqu\",\"wvsxl\",\"chcdc\",\"jfzrs\",\"cuhfi\",\"gotfz\",\"asvqk\",\"rqhvu\",\"sozrd\",\"ztyas\",\"asjtk\",\"lugmp\",\"yfuvj\",\"occbh\",\"rikpg\",\"acjph\",\"xydsv\",\"plctm\",\"ebqqv\",\"dlcji\",\"roevt\",\"bwzus\",\"ougky\",\"elnri\",\"djaqc\",\"ahwmc\",\"pteyl\",\"ezjdz\",\"vivkz\",\"avrvj\",\"jvscb\",\"kzrld\",\"unqwf\",\"auxkf\",\"crzaq\",\"xiccy\",\"kezhu\",\"gvkxv\",\"rhjxy\",\"numvp\",\"yjbki\",\"baaxn\",\"yhgks\",\"nevur\",\"onfoy\",\"ngzlm\",\"sfftz\",\"mnhfj\",\"likit\",\"pcrgi\",\"qikkp\",\"dvyjg\",\"skprz\",\"yzrmp\",\"lpngj\",\"tbhjs\",\"swdky\",\"omtkr\",\"yzwhn\",\"qnzih\",\"jmbcu\",\"qcmuk\",\"nsoga\",\"mrtpf\",\"vnnag\",\"whbzq\",\"mbayr\",\"kvxvb\",\"wopgp\",\"hfyon\",\"fmzvh\",\"uivfp\",\"qbfrn\",\"uwqza\",\"fyqgb\",\"jlmax\",\"klmil\",\"orhgw\",\"yqaad\",\"odiqm\",\"aocfj\",\"tknsh\",\"dbblr\",\"giijr\",\"mtvcd\",\"daqoi\",\"inman\",\"hecqx\",\"wqooy\",\"grxch\",\"uvcqs\",\"ubzil\",\"smjrc\",\"hqqfp\",\"dtqyn\",\"hzixu\",\"cimdp\",\"vhzus\",\"xcnty\",\"xjmav\",\"aguqu\",\"ykrsq\",\"fsqdc\",\"lruwt\",\"ztjiq\",\"tkdxo\",\"urwkb\",\"kibnl\",\"qyfbs\",\"yjaci\",\"ymnkl\",\"ziqmt\",\"ojmtd\",\"tzxwm\",\"pbqif\",\"hvqki\",\"ljumk\",\"oznho\",\"aibwf\",\"ubzil\",\"usqwe\",\"hgbnf\",\"gkltg\",\"kezhu\",\"dipxf\",\"iafgf\",\"qdbfy\",\"vilkd\",\"mbjhc\",\"wopgp\",\"giijr\",\"eerco\",\"hfruv\",\"ycpvz\",\"glwnw\",\"pbqif\",\"bowfa\",\"sskrs\",\"gotfz\",\"qzoec\",\"ychvf\",\"cdlpr\",\"pyjsz\",\"ougky\",\"juugt\",\"tfith\",\"vhzus\",\"fohnj\",\"ipwiw\",\"xrvrl\",\"tipjf\",\"occbh\",\"yfuvj\",\"hmuug\",\"vsrpt\",\"xrxfx\",\"wmqga\",\"yjbki\",\"zirjx\",\"usrpk\",\"jfzrs\",\"fngxu\",\"qyfbs\",\"auxkf\",\"fydii\",\"ffaud\",\"emxbf\",\"pbokp\",\"nrztw\",\"qnzih\",\"wsybo\",\"bfipk\",\"jubog\",\"wvgrb\",\"jneue\",\"tvapv\",\"oqwgc\",\"huozi\",\"toipx\",\"irmqk\",\"lvxfs\",\"hzmiu\",\"gtxvd\",\"hskwt\",\"pmcgu\",\"kylra\",\"ngzlm\",\"ymvvz\",\"zphhu\",\"rhuvx\",\"nsjdm\",\"jmbcu\",\"jufbn\",\"aihgg\",\"yvlal\",\"qikkp\",\"ciddh\",\"ebqqv\",\"ugnvi\",\"tmtdx\",\"whsmr\",\"crkii\",\"rcrvt\",\"nltmf\",\"rsaog\",\"lwxnb\",\"ddxuj\",\"mdkce\",\"iqpxo\",\"fhpkd\",\"erxuy\",\"crzaq\",\"whbzq\",\"wyjaf\",\"yphwn\",\"xgtce\",\"jvscb\",\"qznbn\",\"mqakq\",\"lugmp\",\"mnkqu\",\"mljtq\",\"yqbpx\",\"dveyp\",\"rfpbz\",\"knnrp\",\"dfesf\",\"ravfz\",\"lpdln\",\"tcpon\",\"dbnkb\",\"dndnc\",\"dtqyn\",\"asvqk\",\"otwqd\",\"oiinm\",\"hecqx\",\"roext\",\"kmmkg\",\"bxozo\",\"ojmtd\",\"ibhrn\",\"kzrld\",\"tmqyc\",\"llwzz\",\"aguqu\",\"mnhfj\",\"dxrkm\",\"ggvjc\",\"toask\",\"oebqp\",\"mrtpf\",\"zsgco\",\"acjph\",\"evspj\",\"djaqc\",\"omtkr\",\"aurmx\",\"lknrf\",\"btvuz\",\"fydhi\",\"urwkb\",\"bqxvd\",\"baaxn\",\"yprov\",\"yjaci\",\"vnqso\",\"elnri\",\"jlmax\",\"kpxih\",\"hixuj\",\"ckwqp\",\"tknsh\",\"qvplr\",\"sfnpm\",\"pgimk\",\"aurdd\",\"srrox\",\"tmqbh\",\"cuhfi\",\"hplar\",\"jhvpj\",\"ztyas\",\"qbfrn\",\"mlvfq\",\"kngem\",\"kktrs\",\"lruwt\",\"ynbeb\",\"tvfor\",\"wqooy\",\"doyym\",\"jjhcw\",\"kafkw\",\"klmil\",\"rlomu\",\"cliyv\",\"kelmv\",\"qhnjh\",\"odiqm\",\"fqkgy\",\"ruvfb\",\"vivkz\",\"hkrco\",\"svwud\",\"fdihd\",\"orhgw\",\"obdjn\",\"tcmhj\",\"vyvil\",\"jpvaj\",\"nwdwd\",\"pphbk\",\"plctm\",\"ptvgx\",\"avrvj\",\"ywljt\",\"kbpok\",\"likit\",\"woykr\",\"khxgn\",\"eqhyn\",\"dlcji\",\"tbhjs\",\"tpwom\",\"bexbo\",\"nevur\",\"xiccy\",\"chcdc\",\"jldes\",\"wwhvj\",\"vnzep\",\"zditf\",\"dijso\",\"wgxke\",\"wexqo\",\"hfhrd\",\"jhjvr\",\"fjmef\",\"dwpbd\",\"nkkgw\",\"pxsmd\",\"hfyon\",\"lyono\",\"wpldb\",\"tkdxo\",\"botsq\",\"wvsxl\",\"misku\",\"vgcuq\",\"frpgv\",\"kgcsb\",\"gvkxv\",\"jkhsy\",\"juqwe\",\"sintu\",\"dvyjg\",\"xobal\",\"mljtq\",\"ycpvz\",\"kbpok\",\"ymvvz\",\"vxuwj\",\"hvqki\",\"usrpk\",\"ddxuj\",\"tvfor\",\"fydhi\",\"scqsm\",\"zkeyx\",\"uivfp\",\"tipjf\",\"hzjvi\",\"cfqvy\",\"hmuug\",\"oiinm\",\"yzrmp\",\"kylra\",\"mortf\",\"pcrgi\",\"ubasz\",\"mtvcd\",\"yfuvj\",\"ubzil\",\"kzrld\",\"yphwn\",\"fcnxe\",\"tpggv\",\"dxaen\",\"fhxbg\",\"smjrc\",\"xiccy\",\"tknsh\",\"dxens\",\"oopya\",\"mcxjt\",\"rhuvx\",\"gotfz\",\"qzoec\",\"gvzij\",\"tpwom\",\"ntfva\",\"ybhft\",\"ravfz\",\"bwzus\",\"kzvxl\",\"emxbf\",\"hecqx\",\"wpldb\",\"chcdc\",\"vnzep\",\"cvrik\",\"rfpbz\",\"rojeh\",\"ojmtd\",\"fuyxg\",\"sxwqx\",\"jpufe\",\"yvlal\",\"mloib\",\"vsrpt\",\"dveyp\",\"agjpc\",\"lpngj\",\"uwqza\",\"gvkxv\",\"mbaeo\",\"aguqu\",\"dtqyn\",\"lgqvj\",\"lwxnb\",\"hgbnf\",\"cdlpr\",\"ckwqp\",\"nrztw\",\"ahwmc\",\"qtqol\",\"mkfwv\",\"ojjfg\",\"vhexm\",\"vhzus\",\"bqxvd\",\"meqho\",\"otwqd\",\"jsgqj\",\"clzmw\",\"jldes\",\"araon\",\"dwpbd\",\"vbgdu\",\"oznho\",\"zqnmx\",\"fohnj\",\"pbciu\",\"swdky\",\"hfruv\",\"yhgks\",\"fsqdc\",\"tzxwm\",\"crzaq\",\"ysrbe\",\"jvscb\",\"mlayx\",\"aurmx\",\"ddgho\",\"woszu\",\"jkhsy\",\"qkxkj\",\"fjmef\",\"dfesf\",\"roevt\",\"ymnkl\",\"vmwoc\",\"lfjhz\",\"llwzz\",\"tmqyc\",\"amwna\",\"fkeaa\",\"jfzrs\",\"nwnov\",\"rikpg\",\"yjbki\",\"hplar\",\"iafgf\",\"cncnl\",\"atdml\",\"asvqk\",\"cwpks\",\"sintu\",\"wmqga\",\"huozi\",\"yrxfo\",\"urwkb\",\"jityp\",\"lhrmh\",\"qogaz\",\"fisus\",\"axevb\",\"bsqtn\",\"xrvrl\",\"vhqxe\",\"iemsw\",\"juqwe\",\"vazcm\",\"fqkgy\",\"yprov\",\"flbxk\",\"ugnvi\",\"dirar\",\"giijr\",\"rqats\",\"riujl\",\"ayakk\",\"klmil\",\"xzths\",\"jjdvq\",\"sfnpm\",\"hfhrd\",\"klurm\",\"kngem\",\"tbhjs\",\"dipxf\",\"acjph\",\"hapic\",\"dclzk\",\"yivct\",\"mtqab\",\"dxrkm\",\"ebqqv\",\"bexbo\",\"tmqbh\",\"vnqso\",\"pbokp\",\"qhnjh\",\"lyace\",\"odiqm\",\"vjaiv\",\"awwbs\",\"zewoa\",\"qpkjw\",\"kgcsb\",\"elfwv\",\"onfoy\",\"xzohq\",\"xhsue\",\"cawtp\",\"elnri\",\"vykxi\",\"eerco\",\"fmzvh\",\"tuxgp\",\"vyvil\",\"fidag\",\"ecxza\",\"xcnty\",\"tttzw\",\"mrtpf\",\"kfaxh\",\"pphbk\",\"dijso\",\"xydsv\",\"kibnl\",\"asjtk\",\"aihgg\",\"drcqb\",\"ozrsg\",\"btvuz\",\"ostbr\",\"zdore\",\"xnlxg\",\"ubjec\",\"inman\",\"rffyn\",\"bakkn\",\"qwgcv\",\"glwnw\",\"zphhu\",\"toipx\",\"xrxfx\",\"yvzcx\",\"skprz\",\"yowjo\",\"tvapv\",\"tkfcx\",\"lknrf\",\"biemw\",\"ipiau\",\"jkljd\",\"csmze\",\"roext\",\"ziqmt\",\"lruwt\",\"gkltg\",\"hkrco\",\"hzixu\",\"xgtce\",\"orslh\",\"cliyv\",\"mtanu\",\"sskrs\",\"dfmwr\",\"rsger\",\"nrddi\",\"csuxm\",\"kafkw\",\"fngxu\",\"ggvjc\",\"jneue\",\"nmllw\",\"tfith\",\"oqwgc\"]\n",
       "}\n",
       "}]\n",
       "};\n",
       "           var plotContainer = document.getElementById(\"mrFD6P\");\n",
       "           window.letsPlotCall(function() {{\n",
       "               LetsPlot.buildPlotFromProcessedSpecs(plotSpec, -1, -1, plotContainer);\n",
       "           }});\n",
       "       })();    \n",
       "   </script>"
      ]
     },
     "execution_count": 7,
     "metadata": {},
     "output_type": "execute_result"
    }
   ],
   "source": [
    "// Orgering words by `count` might be a good idea.\n",
    "p + geomBar {\n",
    "    fill = \"g\"\n",
    "    x = asDiscrete(\"word\", orderBy = \"..count..\")\n",
    "}"
   ]
  }
 ],
 "metadata": {
  "kernelspec": {
   "display_name": "Kotlin",
   "language": "kotlin",
   "name": "kotlin"
  },
  "language_info": {
   "codemirror_mode": "text/x-kotlin",
   "file_extension": ".kt",
   "mimetype": "text/x-kotlin",
   "name": "kotlin",
   "nbconvert_exporter": "",
   "pygments_lexer": "kotlin",
   "version": "1.8.20"
  }
 },
 "nbformat": 4,
 "nbformat_minor": 4
}
