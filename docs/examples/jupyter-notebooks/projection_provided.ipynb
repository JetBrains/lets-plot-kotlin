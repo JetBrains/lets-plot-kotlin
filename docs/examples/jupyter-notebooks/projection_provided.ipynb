{
 "cells": [
  {
   "cell_type": "code",
   "execution_count": 1,
   "id": "26fa2a07",
   "metadata": {},
   "outputs": [
    {
     "data": {
      "text/html": [
       "   <div id=\"tyTXTr\"></div>\n",
       "   <script type=\"text/javascript\" data-lets-plot-script=\"library\">\n",
       "       if(!window.letsPlotCallQueue) {\n",
       "           window.letsPlotCallQueue = [];\n",
       "       }; \n",
       "       window.letsPlotCall = function(f) {\n",
       "           window.letsPlotCallQueue.push(f);\n",
       "       };\n",
       "       (function() {\n",
       "           var script = document.createElement(\"script\");\n",
       "           script.type = \"text/javascript\";\n",
       "           script.src = \"https://cdn.jsdelivr.net/gh/JetBrains/lets-plot@v3.0.0/js-package/distr/lets-plot.min.js\";\n",
       "           script.onload = function() {\n",
       "               window.letsPlotCall = function(f) {f();};\n",
       "               window.letsPlotCallQueue.forEach(function(f) {f();});\n",
       "               window.letsPlotCallQueue = [];\n",
       "               \n",
       "               \n",
       "           };\n",
       "           script.onerror = function(event) {\n",
       "               window.letsPlotCall = function(f) {};\n",
       "               window.letsPlotCallQueue = [];\n",
       "               var div = document.createElement(\"div\");\n",
       "               div.style.color = 'darkred';\n",
       "               div.textContent = 'Error loading Lets-Plot JS';\n",
       "               document.getElementById(\"tyTXTr\").appendChild(div);\n",
       "           };\n",
       "           var e = document.getElementById(\"tyTXTr\");\n",
       "           e.appendChild(script);\n",
       "       })();\n",
       "   </script>"
      ]
     },
     "metadata": {},
     "output_type": "display_data"
    }
   ],
   "source": [
    "%useLatestDescriptors\n",
    "%use lets-plot"
   ]
  },
  {
   "cell_type": "code",
   "execution_count": 2,
   "id": "91b2a753",
   "metadata": {},
   "outputs": [
    {
     "data": {
      "text/plain": [
       "Lets-Plot Kotlin API v.4.1.2-alpha1. Frontend: Notebook with dynamically loaded JS. Lets-Plot JS v.3.0.0."
      ]
     },
     "execution_count": 2,
     "metadata": {},
     "output_type": "execute_result"
    }
   ],
   "source": [
    "LetsPlot.getInfo()"
   ]
  },
  {
   "cell_type": "code",
   "execution_count": 3,
   "id": "8455d0b1",
   "metadata": {},
   "outputs": [],
   "source": [
    "// Initialize Lets-Plot GeoTools extension. \n",
    "%use lets-plot-gt(gt=\"[23,)\")"
   ]
  },
  {
   "cell_type": "code",
   "execution_count": 4,
   "id": "5981e41e",
   "metadata": {},
   "outputs": [],
   "source": [
    "@file:DependsOn(\"org.geotools:gt-shapefile:[23,)\")\n",
    "@file:DependsOn(\"org.geotools:gt-cql:[23,)\")\n",
    "@file:DependsOn(\"org.geotools:gt-epsg-hsql:[23,)\")"
   ]
  },
  {
   "cell_type": "markdown",
   "id": "7225ff5e",
   "metadata": {},
   "source": [
    "\n"
   ]
  },
  {
   "cell_type": "code",
   "execution_count": 5,
   "id": "f5c69eb3",
   "metadata": {},
   "outputs": [],
   "source": [
    "import org.geotools.feature.DefaultFeatureCollection\n",
    "import org.geotools.feature.simple.SimpleFeatureBuilder\n",
    "import org.geotools.feature.simple.SimpleFeatureTypeBuilder\n",
    "import org.geotools.geometry.jts.JTS\n",
    "import org.geotools.referencing.CRS\n",
    "\n",
    "import org.locationtech.jts.geom.Coordinate\n",
    "import org.locationtech.jts.geom.GeometryFactory\n",
    "import org.locationtech.jts.geom.Polygon"
   ]
  },
  {
   "cell_type": "code",
   "execution_count": 6,
   "id": "191380db",
   "metadata": {},
   "outputs": [],
   "source": [
    "val geomFactory = GeometryFactory()\n",
    "\n",
    "val lon = -124.736342 to -66.945392\n",
    "val lat = 24.521208 to 49.382808\n",
    "\n",
    "val points = listOf(\n",
    "    geomFactory.createPoint(Coordinate(lon.first, lat.first)),\n",
    "    geomFactory.createPoint(Coordinate(lon.first, lat.second)),\n",
    "    geomFactory.createPoint(Coordinate(lon.second, lat.second)),\n",
    "    geomFactory.createPoint(Coordinate(lon.second, lat.first)),\n",
    "    geomFactory.createPoint(Coordinate(lon.first, lat.first)),\n",
    ")"
   ]
  },
  {
   "cell_type": "code",
   "execution_count": 7,
   "id": "b7297fca",
   "metadata": {},
   "outputs": [],
   "source": [
    "val epsg4326 = CRS.decode(\"EPSG:4326\", true)\n",
    "val epsg5070 = CRS.decode(\"EPSG:5070\", true)\n",
    "\n",
    "val transform = CRS.findMathTransform(epsg4326, epsg5070)"
   ]
  },
  {
   "cell_type": "code",
   "execution_count": 8,
   "id": "9f054d4d",
   "metadata": {},
   "outputs": [],
   "source": [
    "fun getFeatureCollection(applyTransform: Boolean): DefaultFeatureCollection {\n",
    "  \n",
    "    val coordList: List<Coordinate> = points.map { point ->\n",
    "        if (applyTransform) JTS.transform(point, transform).coordinate else point.coordinate \n",
    "    }\n",
    "    val pg = geomFactory.createPolygon(coordList.toTypedArray())\n",
    "\n",
    "    val builder = SimpleFeatureTypeBuilder()\n",
    "    builder.name = \"BBox\"\n",
    "    builder.crs = if (applyTransform) epsg5070 else epsg4326\n",
    "    builder.add(\"geom\", Polygon::class.java)\n",
    "\n",
    "    val featureType = builder.buildFeatureType()\n",
    "    val featureBuilder = SimpleFeatureBuilder(featureType)\n",
    "    featureBuilder.add(pg)\n",
    "\n",
    "    val featureCollection = DefaultFeatureCollection()\n",
    "    featureCollection.add(featureBuilder.buildFeature(null))\n",
    "    return featureCollection\n",
    "}"
   ]
  },
  {
   "cell_type": "code",
   "execution_count": 9,
   "id": "73fd40fe",
   "metadata": {},
   "outputs": [
    {
     "data": {
      "text/html": [
       "   <div id=\"QRbbSW\"></div>\n",
       "   <script type=\"text/javascript\" data-lets-plot-script=\"plot\">\n",
       "       (function() {\n",
       "           var plotSpec={\n",
       "\"mapping\":{\n",
       "},\n",
       "\"kind\":\"plot\",\n",
       "\"scales\":[],\n",
       "\"layers\":[{\n",
       "\"mapping\":{\n",
       "},\n",
       "\"stat\":\"identity\",\n",
       "\"size\":0.7,\n",
       "\"position\":\"identity\",\n",
       "\"map_data_meta\":{\n",
       "\"geodataframe\":{\n",
       "\"geometry\":\"geometry\"\n",
       "}\n",
       "},\n",
       "\"geom\":\"map\",\n",
       "\"map\":{\n",
       "\"geometry\":[\"{\\\"type\\\":\\\"Polygon\\\",\\\"coordinates\\\":[[[-124.736342,24.521208],[-124.736342,49.382808],[-66.945392,49.382808],[-66.945392,24.521208],[-124.736342,24.521208]]]}\"]\n",
       "},\n",
       "\"data\":{\n",
       "}\n",
       "}]\n",
       "};\n",
       "           var plotContainer = document.getElementById(\"QRbbSW\");\n",
       "           window.letsPlotCall(function() {{\n",
       "               LetsPlot.buildPlotFromProcessedSpecs(plotSpec, -1, -1, plotContainer);\n",
       "           }});\n",
       "       })();    \n",
       "   </script>"
      ]
     },
     "execution_count": 9,
     "metadata": {},
     "output_type": "execute_result"
    }
   ],
   "source": [
    "// WGS84\n",
    "val sd1 = getFeatureCollection(applyTransform = false).toSpatialDataset()\n",
    "\n",
    "letsPlot() + geomMap(map = sd1, size = 0.7)"
   ]
  },
  {
   "cell_type": "code",
   "execution_count": 10,
   "id": "72c9bc02",
   "metadata": {},
   "outputs": [
    {
     "name": "stderr",
     "output_type": "stream",
     "text": [
      "The problem is found in one of the loaded libraries: check library renderers\n",
      "org.jetbrains.kotlinx.jupyter.exceptions.ReplEvalRuntimeException: Geometry must use WGS84 coordinate reference system but was: NAD83 / Conus Albers.\n",
      "org.jetbrains.kotlinx.jupyter.exceptions.ReplLibraryException: The problem is found in one of the loaded libraries: check library renderers\n",
      "\tat org.jetbrains.kotlinx.jupyter.exceptions.ReplLibraryExceptionKt.rethrowAsLibraryException(ReplLibraryException.kt:30)\n",
      "\tat org.jetbrains.kotlinx.jupyter.codegen.RenderersProcessorImpl.renderResult(RenderersProcessorImpl.kt:23)\n",
      "\tat org.jetbrains.kotlinx.jupyter.ReplForJupyterImpl$evalEx$1$rendered$1$1.invoke(repl.kt:464)\n",
      "\tat org.jetbrains.kotlinx.jupyter.config.LoggingKt.catchAll(logging.kt:41)\n",
      "\tat org.jetbrains.kotlinx.jupyter.config.LoggingKt.catchAll$default(logging.kt:40)\n",
      "\tat org.jetbrains.kotlinx.jupyter.ReplForJupyterImpl$evalEx$1.invoke(repl.kt:463)\n",
      "\tat org.jetbrains.kotlinx.jupyter.ReplForJupyterImpl$evalEx$1.invoke(repl.kt:440)\n",
      "\tat org.jetbrains.kotlinx.jupyter.ReplForJupyterImpl.withEvalContext(repl.kt:404)\n",
      "\tat org.jetbrains.kotlinx.jupyter.ReplForJupyterImpl.evalEx(repl.kt:440)\n",
      "\tat org.jetbrains.kotlinx.jupyter.ReplForJupyterImpl.eval(repl.kt:492)\n",
      "\tat org.jetbrains.kotlinx.jupyter.messaging.ProtocolKt$shellMessagesHandler$2$res$1.invoke(protocol.kt:321)\n",
      "\tat org.jetbrains.kotlinx.jupyter.messaging.ProtocolKt$shellMessagesHandler$2$res$1.invoke(protocol.kt:320)\n",
      "\tat org.jetbrains.kotlinx.jupyter.JupyterExecutorImpl$runExecution$execThread$1.invoke(execution.kt:33)\n",
      "\tat org.jetbrains.kotlinx.jupyter.JupyterExecutorImpl$runExecution$execThread$1.invoke(execution.kt:31)\n",
      "\tat kotlin.concurrent.ThreadsKt$thread$thread$1.run(Thread.kt:30)\n",
      "Caused by: org.jetbrains.kotlinx.jupyter.exceptions.ReplEvalRuntimeException: Geometry must use WGS84 coordinate reference system but was: NAD83 / Conus Albers.\n",
      "\tat org.jetbrains.kotlinx.jupyter.repl.impl.InternalEvaluatorImpl.eval(InternalEvaluatorImpl.kt:110)\n",
      "\tat org.jetbrains.kotlinx.jupyter.repl.impl.CellExecutorImpl$execute$1$result$1.invoke(CellExecutorImpl.kt:71)\n",
      "\tat org.jetbrains.kotlinx.jupyter.repl.impl.CellExecutorImpl$execute$1$result$1.invoke(CellExecutorImpl.kt:69)\n",
      "\tat org.jetbrains.kotlinx.jupyter.ReplForJupyterImpl.withHost(repl.kt:642)\n",
      "\tat org.jetbrains.kotlinx.jupyter.repl.impl.CellExecutorImpl.execute(CellExecutorImpl.kt:69)\n",
      "\tat org.jetbrains.kotlinx.jupyter.repl.CellExecutor$DefaultImpls.execute$default(CellExecutor.kt:15)\n",
      "\tat org.jetbrains.kotlinx.jupyter.repl.impl.CellExecutorImpl$ExecutionContext.execute(CellExecutorImpl.kt:211)\n",
      "\tat org.jetbrains.kotlinx.jupyter.api.ResultHandlerCodeExecution$execute$1.invoke(renderersHandling.kt:41)\n",
      "\tat org.jetbrains.kotlinx.jupyter.api.ResultHandlerCodeExecution$execute$1.invoke(renderersHandling.kt:26)\n",
      "\tat org.jetbrains.kotlinx.jupyter.repl.impl.CellExecutorImpl.execute(CellExecutorImpl.kt:125)\n",
      "\tat org.jetbrains.kotlinx.jupyter.api.ResultHandlerCodeExecution.execute(renderersHandling.kt:40)\n",
      "\tat org.jetbrains.kotlinx.jupyter.codegen.RenderersProcessorImpl$renderResult$newField$1.invoke(RenderersProcessorImpl.kt:24)\n",
      "\tat org.jetbrains.kotlinx.jupyter.codegen.RenderersProcessorImpl$renderResult$newField$1.invoke(RenderersProcessorImpl.kt:23)\n",
      "\tat org.jetbrains.kotlinx.jupyter.exceptions.ReplLibraryExceptionKt.rethrowAsLibraryException(ReplLibraryException.kt:28)\n",
      "\t... 14 more\n",
      "Caused by: java.lang.IllegalArgumentException: Geometry must use WGS84 coordinate reference system but was: NAD83 / Conus Albers.\n",
      "\tat org.jetbrains.letsPlot.spatial.CRSCode.checkCRS(CRSCode.kt:15)\n",
      "\tat org.jetbrains.letsPlot.intern.ToSpecConvertersKt.toSpec(ToSpecConverters.kt:147)\n",
      "\tat org.jetbrains.letsPlot.intern.ToSpecConvertersKt.toSpec(ToSpecConverters.kt:64)\n",
      "\tat org.jetbrains.letsPlot.frontend.NotebookFrontendContext.getHtml(NotebookFrontendContext.kt:41)\n",
      "\tat Line_20.<init>(Line_20.jupyter-kts:1)\n",
      "\tat java.base/jdk.internal.reflect.NativeConstructorAccessorImpl.newInstance0(Native Method)\n",
      "\tat java.base/jdk.internal.reflect.NativeConstructorAccessorImpl.newInstance(NativeConstructorAccessorImpl.java:62)\n",
      "\tat java.base/jdk.internal.reflect.DelegatingConstructorAccessorImpl.newInstance(DelegatingConstructorAccessorImpl.java:45)\n",
      "\tat java.base/java.lang.reflect.Constructor.newInstance(Constructor.java:490)\n",
      "\tat kotlin.script.experimental.jvm.BasicJvmScriptEvaluator.evalWithConfigAndOtherScriptsResults(BasicJvmScriptEvaluator.kt:105)\n",
      "\tat kotlin.script.experimental.jvm.BasicJvmScriptEvaluator.invoke$suspendImpl(BasicJvmScriptEvaluator.kt:47)\n",
      "\tat kotlin.script.experimental.jvm.BasicJvmScriptEvaluator.invoke(BasicJvmScriptEvaluator.kt)\n",
      "\tat kotlin.script.experimental.jvm.BasicJvmReplEvaluator.eval(BasicJvmReplEvaluator.kt:49)\n",
      "\tat org.jetbrains.kotlinx.jupyter.repl.impl.InternalEvaluatorImpl$eval$resultWithDiagnostics$1.invokeSuspend(InternalEvaluatorImpl.kt:103)\n",
      "\tat kotlin.coroutines.jvm.internal.BaseContinuationImpl.resumeWith(ContinuationImpl.kt:33)\n",
      "\tat kotlinx.coroutines.DispatchedTask.run(DispatchedTask.kt:106)\n",
      "\tat kotlinx.coroutines.EventLoopImplBase.processNextEvent(EventLoop.common.kt:284)\n",
      "\tat kotlinx.coroutines.BlockingCoroutine.joinBlocking(Builders.kt:85)\n",
      "\tat kotlinx.coroutines.BuildersKt__BuildersKt.runBlocking(Builders.kt:59)\n",
      "\tat kotlinx.coroutines.BuildersKt.runBlocking(Unknown Source)\n",
      "\tat kotlinx.coroutines.BuildersKt__BuildersKt.runBlocking$default(Builders.kt:38)\n",
      "\tat kotlinx.coroutines.BuildersKt.runBlocking$default(Unknown Source)\n",
      "\tat org.jetbrains.kotlinx.jupyter.repl.impl.InternalEvaluatorImpl.eval(InternalEvaluatorImpl.kt:103)\n",
      "\t... 27 more\n",
      "\n",
      "\n"
     ]
    },
    {
     "data": {
      "text/plain": [
       "null"
      ]
     },
     "execution_count": 10,
     "metadata": {},
     "output_type": "execute_result"
    }
   ],
   "source": [
    "// Transform geometry with EPSG:5070 projection\n",
    "val sd2 = getFeatureCollection(applyTransform = true).toSpatialDataset()\n",
    "\n",
    "letsPlot() + geomMap(map = sd2, size = 0.7)"
   ]
  },
  {
   "cell_type": "code",
   "execution_count": 11,
   "id": "009bc009",
   "metadata": {},
   "outputs": [
    {
     "data": {
      "text/html": [
       "   <div id=\"wk5I08\"></div>\n",
       "   <script type=\"text/javascript\" data-lets-plot-script=\"plot\">\n",
       "       (function() {\n",
       "           var plotSpec={\n",
       "\"mapping\":{\n",
       "},\n",
       "\"kind\":\"plot\",\n",
       "\"scales\":[],\n",
       "\"layers\":[{\n",
       "\"mapping\":{\n",
       "},\n",
       "\"stat\":\"identity\",\n",
       "\"size\":0.7,\n",
       "\"position\":\"identity\",\n",
       "\"map_data_meta\":{\n",
       "\"geodataframe\":{\n",
       "\"geometry\":\"geometry\"\n",
       "}\n",
       "},\n",
       "\"geom\":\"map\",\n",
       "\"map\":{\n",
       "\"geometry\":[\"{\\\"type\\\":\\\"Polygon\\\",\\\"coordinates\\\":[[[-2907424.9010758796,608721.8100661098],[-2084179.6468193373,3247766.0462289434],[2106543.1455204897,3254783.4139750055],[2938621.920535376,618511.0188591438],[-2907424.9010758796,608721.8100661098]]]}\"]\n",
       "},\n",
       "\"use_crs\":\"provided\",\n",
       "\"data\":{\n",
       "}\n",
       "}]\n",
       "};\n",
       "           var plotContainer = document.getElementById(\"wk5I08\");\n",
       "           window.letsPlotCall(function() {{\n",
       "               LetsPlot.buildPlotFromProcessedSpecs(plotSpec, -1, -1, plotContainer);\n",
       "           }});\n",
       "       })();    \n",
       "   </script>"
      ]
     },
     "execution_count": 11,
     "metadata": {},
     "output_type": "execute_result"
    }
   ],
   "source": [
    "// Specify \"provided\" to keep the original CRS\n",
    "\n",
    "letsPlot() + geomMap(map = sd2, size = 0.7, useCRS = \"provided\")"
   ]
  }
 ],
 "metadata": {
  "kernelspec": {
   "display_name": "Kotlin",
   "language": "kotlin",
   "name": "kotlin"
  },
  "language_info": {
   "codemirror_mode": "text/x-kotlin",
   "file_extension": ".kt",
   "mimetype": "text/x-kotlin",
   "name": "kotlin",
   "nbconvert_exporter": "",
   "pygments_lexer": "kotlin",
   "version": "1.8.0-dev-3517"
  }
 },
 "nbformat": 4,
 "nbformat_minor": 5
}
