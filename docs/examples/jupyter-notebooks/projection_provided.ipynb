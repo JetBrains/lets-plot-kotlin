{
 "cells": [
  {
   "cell_type": "code",
   "execution_count": 1,
   "id": "26fa2a07",
   "metadata": {},
   "outputs": [
    {
     "data": {
      "text/html": [
       "   <div id=\"Y0esPi\"></div>\n",
       "   <script type=\"text/javascript\" data-lets-plot-script=\"library\">\n",
       "       if(!window.letsPlotCallQueue) {\n",
       "           window.letsPlotCallQueue = [];\n",
       "       }; \n",
       "       window.letsPlotCall = function(f) {\n",
       "           window.letsPlotCallQueue.push(f);\n",
       "       };\n",
       "       (function() {\n",
       "           var script = document.createElement(\"script\");\n",
       "           script.type = \"text/javascript\";\n",
       "           script.src = \"https://cdn.jsdelivr.net/gh/JetBrains/lets-plot@v3.0.0/js-package/distr/lets-plot.min.js\";\n",
       "           script.onload = function() {\n",
       "               window.letsPlotCall = function(f) {f();};\n",
       "               window.letsPlotCallQueue.forEach(function(f) {f();});\n",
       "               window.letsPlotCallQueue = [];\n",
       "               \n",
       "               \n",
       "           };\n",
       "           script.onerror = function(event) {\n",
       "               window.letsPlotCall = function(f) {};\n",
       "               window.letsPlotCallQueue = [];\n",
       "               var div = document.createElement(\"div\");\n",
       "               div.style.color = 'darkred';\n",
       "               div.textContent = 'Error loading Lets-Plot JS';\n",
       "               document.getElementById(\"Y0esPi\").appendChild(div);\n",
       "           };\n",
       "           var e = document.getElementById(\"Y0esPi\");\n",
       "           e.appendChild(script);\n",
       "       })();\n",
       "   </script>"
      ]
     },
     "metadata": {},
     "output_type": "display_data"
    }
   ],
   "source": [
    "%useLatestDescriptors\n",
    "%use lets-plot\n",
    "//%use @/Users/olarionova/Projects/lets-plot-kotlin/lets-plot.json"
   ]
  },
  {
   "cell_type": "code",
   "execution_count": 2,
   "id": "91b2a753",
   "metadata": {},
   "outputs": [
    {
     "data": {
      "text/plain": [
       "Lets-Plot Kotlin API v.4.1.2-alpha1. Frontend: Notebook with dynamically loaded JS. Lets-Plot JS v.3.0.0."
      ]
     },
     "execution_count": 2,
     "metadata": {},
     "output_type": "execute_result"
    }
   ],
   "source": [
    "LetsPlot.getInfo()"
   ]
  },
  {
   "cell_type": "code",
   "execution_count": 3,
   "id": "8455d0b1",
   "metadata": {},
   "outputs": [],
   "source": [
    "// Initialize Lets-Plot GeoTools extension. \n",
    "%use lets-plot-gt(gt=\"[23,)\")"
   ]
  },
  {
   "cell_type": "code",
   "execution_count": 4,
   "id": "5981e41e",
   "metadata": {},
   "outputs": [],
   "source": [
    "@file:DependsOn(\"org.geotools:gt-shapefile:[23,)\")\n",
    "@file:DependsOn(\"org.geotools:gt-cql:[23,)\")\n",
    "@file:DependsOn(\"org.geotools:gt-epsg-hsql:[23,)\")"
   ]
  },
  {
   "cell_type": "markdown",
   "id": "7225ff5e",
   "metadata": {},
   "source": [
    "\n"
   ]
  },
  {
   "cell_type": "code",
   "execution_count": 5,
   "id": "f5c69eb3",
   "metadata": {},
   "outputs": [],
   "source": [
    "import org.geotools.referencing.CRS\n",
    "import org.geotools.feature.DefaultFeatureCollection\n",
    "import org.geotools.feature.simple.SimpleFeatureBuilder\n",
    "import org.geotools.feature.simple.SimpleFeatureTypeBuilder\n",
    "import org.geotools.geometry.jts.JTS\n",
    "import org.locationtech.jts.geom.Polygon\n",
    "import org.locationtech.jts.geom.Coordinate\n",
    "import org.locationtech.jts.geom.GeometryFactory"
   ]
  },
  {
   "cell_type": "code",
   "execution_count": 6,
   "id": "b7297fca",
   "metadata": {},
   "outputs": [],
   "source": [
    "val srcCRS = CRS.decode(\"EPSG:4326\", true)\n",
    "val newCRS = CRS.decode(\"EPSG:3857\", true)\n",
    "val transform = CRS.findMathTransform(srcCRS, newCRS)"
   ]
  },
  {
   "cell_type": "code",
   "execution_count": 7,
   "id": "191380db",
   "metadata": {},
   "outputs": [],
   "source": [
    "val geomFactory = GeometryFactory()\n",
    "\n",
    "val lon = -124.736342 to -66.945392\n",
    "val lat = 24.521208 to 49.382808\n",
    "\n",
    "val points = listOf(\n",
    "    geomFactory.createPoint(Coordinate(lon.first, lat.first)),\n",
    "    geomFactory.createPoint(Coordinate(lon.first, lat.second)),\n",
    "    geomFactory.createPoint(Coordinate(lon.second, lat.second)),\n",
    "    geomFactory.createPoint(Coordinate(lon.second, lat.first)),\n",
    "    geomFactory.createPoint(Coordinate(lon.first, lat.first)),\n",
    ")"
   ]
  },
  {
   "cell_type": "code",
   "execution_count": 8,
   "id": "9f054d4d",
   "metadata": {},
   "outputs": [],
   "source": [
    "fun getFeatureCollection(useNewCRS: Boolean): DefaultFeatureCollection {\n",
    "  \n",
    "    val coordList: List<Coordinate> = points.map { point ->\n",
    "        if (useNewCRS) JTS.transform(point, transform).coordinate else point.coordinate \n",
    "    }\n",
    "    val pg = geomFactory.createPolygon(coordList.toTypedArray())\n",
    "\n",
    "    val builder = SimpleFeatureTypeBuilder()\n",
    "    builder.name = \"Location\"\n",
    "    builder.crs = if (useNewCRS) newCRS else srcCRS\n",
    "    builder.add(\"the_geom\", Polygon::class.java)\n",
    "\n",
    "    val featureType = builder.buildFeatureType()\n",
    "    val featureBuilder = SimpleFeatureBuilder(featureType)\n",
    "    featureBuilder.add(pg)\n",
    "\n",
    "    val featureCollection = DefaultFeatureCollection()\n",
    "    featureCollection.add(featureBuilder.buildFeature(\"pg\"))\n",
    "    return featureCollection\n",
    "}"
   ]
  },
  {
   "cell_type": "code",
   "execution_count": 9,
   "id": "73fd40fe",
   "metadata": {},
   "outputs": [
    {
     "data": {
      "text/html": [
       "   <div id=\"sOm6xH\"></div>\n",
       "   <script type=\"text/javascript\" data-lets-plot-script=\"plot\">\n",
       "       (function() {\n",
       "           var plotSpec={\n",
       "\"mapping\":{\n",
       "},\n",
       "\"kind\":\"plot\",\n",
       "\"scales\":[],\n",
       "\"layers\":[{\n",
       "\"mapping\":{\n",
       "},\n",
       "\"stat\":\"identity\",\n",
       "\"color\":\"black\",\n",
       "\"position\":\"identity\",\n",
       "\"map_data_meta\":{\n",
       "\"geodataframe\":{\n",
       "\"geometry\":\"geometry\"\n",
       "}\n",
       "},\n",
       "\"geom\":\"map\",\n",
       "\"map\":{\n",
       "\"geometry\":[\"{\\\"type\\\":\\\"Polygon\\\",\\\"coordinates\\\":[[[-124.736342,24.521208],[-124.736342,49.382808],[-66.945392,49.382808],[-66.945392,24.521208],[-124.736342,24.521208]]]}\"]\n",
       "},\n",
       "\"data\":{\n",
       "}\n",
       "}]\n",
       "};\n",
       "           var plotContainer = document.getElementById(\"sOm6xH\");\n",
       "           window.letsPlotCall(function() {{\n",
       "               LetsPlot.buildPlotFromProcessedSpecs(plotSpec, -1, -1, plotContainer);\n",
       "           }});\n",
       "       })();    \n",
       "   </script>"
      ]
     },
     "execution_count": 9,
     "metadata": {},
     "output_type": "execute_result"
    }
   ],
   "source": [
    "// WGS84\n",
    "val sd1 = getFeatureCollection(useNewCRS = false).toSpatialDataset()\n",
    "letsPlot() + geomMap(map = sd1, color = \"black\")"
   ]
  },
  {
   "cell_type": "code",
   "execution_count": 10,
   "id": "72c9bc02",
   "metadata": {},
   "outputs": [
    {
     "data": {
      "text/html": [
       "   <div id=\"K9FyCx\"></div>\n",
       "   <script type=\"text/javascript\" data-lets-plot-script=\"plot\">\n",
       "       (function() {\n",
       "           var plotSpec={\n",
       "\"mapping\":{\n",
       "},\n",
       "\"kind\":\"plot\",\n",
       "\"scales\":[],\n",
       "\"layers\":[{\n",
       "\"mapping\":{\n",
       "},\n",
       "\"stat\":\"identity\",\n",
       "\"color\":\"black\",\n",
       "\"position\":\"identity\",\n",
       "\"map_data_meta\":{\n",
       "\"geodataframe\":{\n",
       "\"geometry\":\"geometry\"\n",
       "}\n",
       "},\n",
       "\"geom\":\"map\",\n",
       "\"map\":{\n",
       "\"geometry\":[\"{\\\"type\\\":\\\"Polygon\\\",\\\"coordinates\\\":[[[-1.3885586074855622E7,2817049.4174199156],[-1.3885586074855622E7,6340067.293938431],[-7452326.9483960895,6340067.293938431],[-7452326.9483960895,2817049.4174199156],[-1.3885586074855622E7,2817049.4174199156]]]}\"]\n",
       "},\n",
       "\"data\":{\n",
       "}\n",
       "}]\n",
       "};\n",
       "           var plotContainer = document.getElementById(\"K9FyCx\");\n",
       "           window.letsPlotCall(function() {{\n",
       "               LetsPlot.buildPlotFromProcessedSpecs(plotSpec, -1, -1, plotContainer);\n",
       "           }});\n",
       "       })();    \n",
       "   </script>"
      ]
     },
     "execution_count": 10,
     "metadata": {},
     "output_type": "execute_result"
    }
   ],
   "source": [
    "// Take geometry in another projection \n",
    "val sd2 = getFeatureCollection(useNewCRS = true).toSpatialDataset()\n",
    "\n",
    "letsPlot() + geomMap(map = sd2, color = \"black\")"
   ]
  },
  {
   "cell_type": "code",
   "execution_count": 11,
   "id": "009bc009",
   "metadata": {},
   "outputs": [
    {
     "data": {
      "text/html": [
       "   <div id=\"eutYe0\"></div>\n",
       "   <script type=\"text/javascript\" data-lets-plot-script=\"plot\">\n",
       "       (function() {\n",
       "           var plotSpec={\n",
       "\"mapping\":{\n",
       "},\n",
       "\"kind\":\"plot\",\n",
       "\"scales\":[],\n",
       "\"layers\":[{\n",
       "\"mapping\":{\n",
       "},\n",
       "\"stat\":\"identity\",\n",
       "\"color\":\"black\",\n",
       "\"position\":\"identity\",\n",
       "\"map_data_meta\":{\n",
       "\"geodataframe\":{\n",
       "\"geometry\":\"geometry\"\n",
       "}\n",
       "},\n",
       "\"geom\":\"map\",\n",
       "\"map\":{\n",
       "\"geometry\":[\"{\\\"type\\\":\\\"Polygon\\\",\\\"coordinates\\\":[[[-1.3885586074855622E7,2817049.4174199156],[-1.3885586074855622E7,6340067.293938431],[-7452326.9483960895,6340067.293938431],[-7452326.9483960895,2817049.4174199156],[-1.3885586074855622E7,2817049.4174199156]]]}\"]\n",
       "},\n",
       "\"use_crs\":\"provided\",\n",
       "\"data\":{\n",
       "}\n",
       "}]\n",
       "};\n",
       "           var plotContainer = document.getElementById(\"eutYe0\");\n",
       "           window.letsPlotCall(function() {{\n",
       "               LetsPlot.buildPlotFromProcessedSpecs(plotSpec, -1, -1, plotContainer);\n",
       "           }});\n",
       "       })();    \n",
       "   </script>"
      ]
     },
     "execution_count": 11,
     "metadata": {},
     "output_type": "execute_result"
    }
   ],
   "source": [
    "// Specify \"provided\" to keep the original CRS\n",
    "\n",
    "letsPlot() + geomMap(map = sd2,  color = \"black\", useCRS = \"provided\")"
   ]
  }
 ],
 "metadata": {
  "kernelspec": {
   "display_name": "Kotlin",
   "language": "kotlin",
   "name": "kotlin"
  },
  "language_info": {
   "codemirror_mode": "text/x-kotlin",
   "file_extension": ".kt",
   "mimetype": "text/x-kotlin",
   "name": "kotlin",
   "nbconvert_exporter": "",
   "pygments_lexer": "kotlin",
   "version": "1.8.0-dev-3517"
  }
 },
 "nbformat": 4,
 "nbformat_minor": 5
}
