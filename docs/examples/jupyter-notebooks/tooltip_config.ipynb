{
 "cells": [
  {
   "cell_type": "markdown",
   "metadata": {},
   "source": [
    "<em><sub>This page is available as an executable or viewable <strong>Jupyter Notebook</strong>:</sub></em>\n",
    "<br/><br/>\n",
    "<a href=\"https://mybinder.org/v2/gh/JetBrains/lets-plot-kotlin/v1.2.0demos2?filepath=docs%2Fexamples%2Fjupyter-notebooks%2Ftooltip_config.ipynb\"\n",
    "   target=\"_parent\">\n",
    "   <img align=\"left\"\n",
    "        src=\"https://mybinder.org/badge_logo.svg\">\n",
    "</a>\n",
    "<a href=\"https://nbviewer.jupyter.org/github/JetBrains/lets-plot-kotlin/blob/master/docs/examples/jupyter-notebooks/tooltip_config.ipynb\"\n",
    "   target=\"_parent\">\n",
    "   <img align=\"right\"\n",
    "        src=\"https://raw.githubusercontent.com/jupyter/design/master/logos/Badges/nbviewer_badge.png\"\n",
    "        width=\"109\" height=\"20\">\n",
    "</a>\n",
    "<br/>\n",
    "<br/>"
   ]
  },
  {
   "cell_type": "markdown",
   "metadata": {},
   "source": [
    "## Tooltip Customization"
   ]
  },
  {
   "cell_type": "code",
   "execution_count": null,
   "metadata": {},
   "outputs": [],
   "source": [
    "%useLatestDescriptors\n",
    "%use lets-plot\n",
    "%use krangl"
   ]
  },
  {
   "cell_type": "code",
   "execution_count": null,
   "metadata": {},
   "outputs": [],
   "source": [
    "val mpg_df = DataFrame.readCSV(\"https://jetbrains.bintray.com/lets-plot/mpg.csv\")\n",
    "mpg_df.head()"
   ]
  },
  {
   "cell_type": "code",
   "execution_count": null,
   "metadata": {},
   "outputs": [],
   "source": [
    "val mpg_dat = mpg_df.toMap()"
   ]
  },
  {
   "cell_type": "code",
   "execution_count": null,
   "metadata": {},
   "outputs": [],
   "source": [
    "val p = lets_plot(mpg_dat) {x=\"displ\"; y=\"cty\"} + \n",
    "    scale_size(range = 5 to 15, breaks = listOf(15, 40)) + ggsize(600, 350)"
   ]
  },
  {
   "cell_type": "code",
   "execution_count": null,
   "metadata": {},
   "outputs": [],
   "source": [
    "// Default tooltips.\n",
    "p + geom_point(shape=21, color=\"white\") {fill=\"drv\"; size=\"hwy\"}"
   ]
  },
  {
   "cell_type": "code",
   "execution_count": null,
   "metadata": {},
   "outputs": [],
   "source": [
    "// No tooltips.\n",
    "p + geom_point(shape=21, color=\"white\", tooltips=tooltips_none) {fill=\"drv\"; size=\"hwy\"}"
   ]
  },
  {
   "cell_type": "code",
   "execution_count": null,
   "metadata": {},
   "outputs": [],
   "source": [
    "// Change format for the \"size\" aesthetic which is already shown in the tooltip by default.\n",
    "p + geom_point(shape=21,\n",
    "               color=\"white\",\n",
    "               tooltips=layer_tooltips().format(\"^size\", \"{.0f} mpg\")) {fill=\"drv\"; size=\"hwy\"}"
   ]
  },
  {
   "cell_type": "code",
   "execution_count": null,
   "metadata": {},
   "outputs": [],
   "source": [
    "// Show the vehicle \"class\" value in the tooltip (instead of the value of the \"size\" aesthetic).\n",
    "p + geom_point(shape=21, \n",
    "               color=\"white\", \n",
    "               tooltips=layer_tooltips().line(\"@class\")) {fill=\"drv\"; size=\"hwy\"}"
   ]
  },
  {
   "cell_type": "code",
   "execution_count": null,
   "metadata": {},
   "outputs": [],
   "source": [
    "// Configure a multiline tooltip.\n",
    "p + geom_point(shape=21, \n",
    "               color=\"white\",\n",
    "               tooltips=layer_tooltips()\n",
    "                          .format(\"cty\", \".0f\")\n",
    "                          .format(\"hwy\", \".0f\")\n",
    "                          .format(\"drv\", \"{}wd\")\n",
    "                          .line(\"@manufacturer @model\")\n",
    "                          .line(\"cty/hwy [mpg]|@cty/@hwy\")\n",
    "                          .line(\"@|@class\")\n",
    "                          .line(\"drive train|@drv\")\n",
    "                          .line(\"@|@year\")) {fill=\"drv\"; size=\"hwy\"}"
   ]
  },
  {
   "cell_type": "code",
   "execution_count": null,
   "metadata": {},
   "outputs": [],
   "source": [
    "// Anchor the tooltip in the top-right corner of the plot.\n",
    "p + geom_point(shape=21,\n",
    "               color=\"white\",\n",
    "               tooltips=layer_tooltips()\n",
    "                          .anchor(\"top_right\")\n",
    "                          .minWidth(180)\n",
    "                          .format(\"cty\", \".0f\")\n",
    "                          .format(\"hwy\", \".0f\")\n",
    "                          .format(\"drv\", \"{}wd\")\n",
    "                          .line(\"@manufacturer @model\")\n",
    "                          .line(\"cty/hwy [mpg]|@cty/@hwy\")\n",
    "                          .line(\"@|@class\")\n",
    "                          .line(\"drive train|@drv\")\n",
    "                          .line(\"@|@year\")) {fill=\"drv\"; size=\"hwy\"}"
   ]
  },
  {
   "cell_type": "markdown",
   "metadata": {},
   "source": [
    "### \"Outlier\" tooltips."
   ]
  },
  {
   "cell_type": "code",
   "execution_count": null,
   "metadata": {},
   "outputs": [],
   "source": [
    "val p2 = lets_plot(mpg_dat) {x=\"class\"; y=\"hwy\"} + theme().legendPosition_none() + ggsize(600, 350)\n",
    "\n",
    "// Default tooltips\n",
    "p2 + geom_boxplot()"
   ]
  },
  {
   "cell_type": "code",
   "execution_count": null,
   "metadata": {},
   "outputs": [],
   "source": [
    "// Configure text in outlier tootips using the 'format()' function.\n",
    "p2 + geom_boxplot(tooltips=layer_tooltips()\n",
    "                    .format(\"^Y\", \"{.0f}\")       // all Y-positionals (note: no 'labels')\n",
    "                    .format(\"^middle\", \".2f\")    // different precision for 'middle' (note: default 'label')\n",
    "                    .format(\"^ymin\", \"min: {}\")  // ymin/ymax aesthetics:\n",
    "                    .format(\"^ymax\", \"max: {}\")) //  - add custom 'label'"
   ]
  },
  {
   "cell_type": "code",
   "execution_count": null,
   "metadata": {},
   "outputs": [],
   "source": [
    "// Replace \"outlier\" tooltips with anchored (top_center) \"general\" tooltip.\n",
    "// The 'line()' function assigns aesthetic or 'variable' to a general multiline tooltip.\n",
    "p2 + geom_boxplot(tooltips=layer_tooltips()\n",
    "                    .anchor(\"top_center\")\n",
    "                    .color(\"cyan\")\n",
    "                    .format(\"^Y\", \".0f\")\n",
    "                    .format(\"^middle\", \".2f\")\n",
    "                    .line(\"min/max|^ymin/^ymax\")\n",
    "                    .line(\"lower/upper|^lower/^upper\")\n",
    "                    .line(\"@|^middle\"))"
   ]
  },
  {
   "cell_type": "markdown",
   "metadata": {},
   "source": [
    "### Showing constants in tooltip."
   ]
  },
  {
   "cell_type": "code",
   "execution_count": null,
   "metadata": {},
   "outputs": [],
   "source": [
    "// By default tooltip never shows values defined via layer parameters (constants).\n",
    "// Still, these values can be added to a layer tooltip using the 'layer_tooltips()' function.\n",
    "val rand = java.util.Random()\n",
    "val n = 100\n",
    "val dat = mapOf<String, Any>(\n",
    "    \"x\" to List(n) { rand.nextGaussian() },\n",
    "    \"y\" to List(n) { rand.nextGaussian() }\n",
    ")\n",
    "\n",
    "lets_plot(dat) {x=\"x\"; y=\"y\"} + \n",
    "    geom_point() +\n",
    "    geom_vline(xintercept=(dat[\"x\"] as List<Double>).average(), color=\"red\", linetype=\"dashed\", size=1,\n",
    "               tooltips=layer_tooltips().format(\"^xintercept\", \".4f\").line(\"mean = ^xintercept\"))"
   ]
  },
  {
   "cell_type": "markdown",
   "metadata": {},
   "source": [
    "### Some other examples."
   ]
  },
  {
   "cell_type": "code",
   "execution_count": null,
   "metadata": {},
   "outputs": [],
   "source": [
    "val iris_df = DataFrame.readCSV(\"https://jetbrains.bintray.com/lets-plot/iris.csv\")\n",
    "iris_df.head()"
   ]
  },
  {
   "cell_type": "code",
   "execution_count": null,
   "metadata": {},
   "outputs": [],
   "source": [
    "val iris_dat = iris_df.toMap()"
   ]
  },
  {
   "cell_type": "code",
   "execution_count": null,
   "metadata": {},
   "outputs": [],
   "source": [
    "// Default density plot.\n",
    "lets_plot(iris_dat) + ggsize(650, 300) + \n",
    "    geom_area(stat=Stat.density(), color=\"white\") {x=\"sepal_length\"; fill=\"species\"}"
   ]
  },
  {
   "cell_type": "code",
   "execution_count": null,
   "metadata": {},
   "outputs": [],
   "source": [
    "// Change the tooltip content.\n",
    "lets_plot(iris_dat) + ggsize(650, 300) +\n",
    "    geom_area(stat=Stat.density(),\n",
    "              color=\"white\",\n",
    "              tooltips=layer_tooltips()\n",
    "                .anchor(\"top_right\")\n",
    "                .line(\"^fill\")\n",
    "                .line(\"length|^x\")\n",
    "                .line(\"density|^y\")) {x=\"sepal_length\"; fill=\"species\"}"
   ]
  },
  {
   "cell_type": "code",
   "execution_count": null,
   "metadata": {},
   "outputs": [],
   "source": [
    "// Use '..density..' variable in the tooltip\n",
    "lets_plot(iris_dat) + ggsize(650, 300) +\n",
    "    geom_area(stat=Stat.density(), \n",
    "              color=\"white\",\n",
    "              tooltips=layer_tooltips()\n",
    "                .anchor(\"top_right\")\n",
    "                .format(\"..density..\", \".4f\")\n",
    "                .line(\"density|@..density..\")) {x=\"sepal_length\"; fill=\"species\"}"
   ]
  }
 ],
 "metadata": {
  "kernelspec": {
   "display_name": "Kotlin",
   "language": "kotlin",
   "name": "kotlin"
  },
  "language_info": {
   "codemirror_mode": "text/x-kotlin",
   "file_extension": ".kt",
   "mimetype": "text/x-kotlin",
   "name": "kotlin",
   "pygments_lexer": "kotlin",
   "version": "1.4.20-dev-1121"
  }
 },
 "nbformat": 4,
 "nbformat_minor": 4
}
