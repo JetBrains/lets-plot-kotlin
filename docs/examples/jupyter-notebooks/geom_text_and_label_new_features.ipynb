{
 "cells": [
  {
   "cell_type": "code",
   "execution_count": null,
   "id": "golden-lover",
   "metadata": {},
   "outputs": [],
   "source": [
    "%useLatestDescriptors\n",
    "%use lets-plot"
   ]
  },
  {
   "cell_type": "code",
   "execution_count": null,
   "id": "increasing-garage",
   "metadata": {},
   "outputs": [],
   "source": [
    "LetsPlot.getInfo()"
   ]
  },
  {
   "cell_type": "code",
   "execution_count": null,
   "id": "isolated-assault",
   "metadata": {},
   "outputs": [],
   "source": [
    "%use krangl"
   ]
  },
  {
   "cell_type": "code",
   "execution_count": null,
   "id": "happy-source",
   "metadata": {},
   "outputs": [],
   "source": [
    "// Support of multiple lines\n",
    "\n",
    "\n",
    "val justifications = listOf(0, 0.5, 1)\n",
    "val angles = listOf(0, 30)\n",
    "\n",
    "val values = justifications.flatMap { hjust ->\n",
    "    justifications.flatMap { vjust ->\n",
    "        angles.map { angle ->\n",
    "            Triple(hjust, vjust, angle)\n",
    "        }\n",
    "    }\n",
    "}\n",
    "\n",
    "val data = mapOf(\n",
    "    \"hjust\" to values.map { it.first },\n",
    "    \"vjust\" to values.map { it.second },\n",
    "    \"angle\" to values.map { it.third },\n",
    "    \"label\" to values.map { \"first line\\nsecond line\" },\n",
    ")\n",
    "\n",
    "\n",
    "val p = letsPlot(data) { x = \"hjust\"; y = \"vjust\" } +\n",
    "        geomPoint(size = 3) +\n",
    "        themeLight() + theme(panelGrid=elementBlank())\n",
    "\n",
    "val pf = (p + scaleXContinuous(breaks = listOf(0, 0.5, 1)) +\n",
    "    scaleYContinuous(breaks = listOf(0, 0.5, 1), expand = listOf(0.4)) +\n",
    "    facetGrid(x = \"angle\", xFormat = \"{d}°\"))"
   ]
  },
  {
   "cell_type": "code",
   "execution_count": null,
   "id": "ceramic-understanding",
   "metadata": {},
   "outputs": [],
   "source": [
    "pf + geomText(size = 9) { label = \"label\"; hjust = \"hjust\"; vjust = \"vjust\"; angle = \"angle\" }"
   ]
  },
  {
   "cell_type": "code",
   "execution_count": null,
   "id": "crude-immigration",
   "metadata": {},
   "outputs": [],
   "source": [
    "pf + geomLabel(size = 9, alpha = 0.5) { label = \"label\"; hjust = \"hjust\"; vjust = \"vjust\"; angle = \"angle\" }"
   ]
  },
  {
   "cell_type": "code",
   "execution_count": null,
   "id": "funky-dubai",
   "metadata": {},
   "outputs": [],
   "source": [
    "// Change lineheight\n",
    "\n",
    "// lineheight = 0.7\n",
    "\n",
    "p + geomText(size = 9, lineheight = 0.7) { label = \"label\"; hjust = \"hjust\"; vjust = \"vjust\" }"
   ]
  },
  {
   "cell_type": "code",
   "execution_count": null,
   "id": "frozen-broadcasting",
   "metadata": {},
   "outputs": [],
   "source": [
    "p + geomLabel(size = 9, alpha = 0.5, lineheight = 0.7) { label = \"label\"; hjust = \"hjust\"; vjust = \"vjust\" }"
   ]
  },
  {
   "cell_type": "code",
   "execution_count": null,
   "id": "eight-turtle",
   "metadata": {},
   "outputs": [],
   "source": [
    "// lineheight = 2.0\n",
    "\n",
    "p + geomText(size = 9, lineheight = 2) { label = \"label\"; hjust = \"hjust\"; vjust = \"vjust\" }"
   ]
  },
  {
   "cell_type": "code",
   "execution_count": null,
   "id": "meaningful-darkness",
   "metadata": {},
   "outputs": [],
   "source": [
    "p + geomLabel(size = 9, alpha = 0.5, lineheight = 2) { label = \"label\"; hjust = \"hjust\"; vjust = \"vjust\" }"
   ]
  },
  {
   "cell_type": "code",
   "execution_count": null,
   "id": "renewable-lying",
   "metadata": {},
   "outputs": [],
   "source": []
  },
  {
   "cell_type": "code",
   "execution_count": null,
   "id": "composite-charleston",
   "metadata": {},
   "outputs": [],
   "source": [
    "// Adjust position by nudging a given offset\n",
    "\n",
    "val p2 = letsPlot(\n",
    "    data = mapOf(\n",
    "        \"x\" to listOf('a', 'b', 'c'), \"y\" to listOf(1.2, 3.4, 2.5)\n",
    "    )\n",
    ") {\n",
    "    x = \"x\"\n",
    "    y = \"y\"\n",
    "} + geomPoint(size = 4) + ggsize(500, 300)\n",
    "\n",
    "p2 + geomText() { label = \"y\" }\n"
   ]
  },
  {
   "cell_type": "code",
   "execution_count": null,
   "id": "applied-collins",
   "metadata": {},
   "outputs": [],
   "source": [
    "// Move text - use 'positionNudge()'\n",
    "\n",
    "p2 + geomText(position = positionNudge(y = 0.2)) { label = \"y\" } "
   ]
  },
  {
   "cell_type": "code",
   "execution_count": null,
   "id": "incorrect-electric",
   "metadata": {},
   "outputs": [],
   "source": [
    "// Same with 'nudgeY'\n",
    "\n",
    "p2 + geomText(nudgeY = 0.2) { label = \"y\" }"
   ]
  },
  {
   "cell_type": "code",
   "execution_count": null,
   "id": "experienced-american",
   "metadata": {},
   "outputs": [],
   "source": []
  },
  {
   "cell_type": "code",
   "execution_count": null,
   "id": "likely-joyce",
   "metadata": {},
   "outputs": [],
   "source": [
    "// Justification: 'inward' and 'outward'\n",
    "\n",
    "val data2 = mapOf(\n",
    "   \"x\" to listOf(1, 1, 2, 2, 1.5),\n",
    "   \"y\" to listOf(1, 2, 1, 2, 1.5),\n",
    "   \"text\" to listOf(\"bottom-left\", \"top-left\", \"bottom-right\", \"top-right\", \"center\")\n",
    ")\n",
    "\n",
    "val p3 = letsPlot(data2) { x = \"x\"; y = \"y\" } + geomPoint(size = 4) + ggsize(500, 300)\n",
    "\n",
    "p3 + geomText(size = 8) { label = \"text\" }"
   ]
  },
  {
   "cell_type": "code",
   "execution_count": null,
   "id": "traditional-brush",
   "metadata": {},
   "outputs": [],
   "source": [
    "p3 + geomText(size = 8, hjust = \"inward\", vjust = \"inward\") { label = \"text\" }"
   ]
  },
  {
   "cell_type": "code",
   "execution_count": null,
   "id": "alike-membership",
   "metadata": {},
   "outputs": [],
   "source": [
    "p3 + geomText(size = 8, hjust = \"outward\", vjust = \"outward\") { label = \"text\" }"
   ]
  }
 ],
 "metadata": {
  "kernelspec": {
   "display_name": "Kotlin",
   "language": "kotlin",
   "name": "kotlin"
  },
  "language_info": {
   "codemirror_mode": "kotlin",
   "file_extension": ".kt",
   "mimetype": "text/x-kotlin",
   "name": "kotlin",
   "nbconvert_exporter": "",
   "pygments_lexer": "kotlin",
   "version": "1.6.0-dev-1733"
  }
 },
 "nbformat": 4,
 "nbformat_minor": 5
}
