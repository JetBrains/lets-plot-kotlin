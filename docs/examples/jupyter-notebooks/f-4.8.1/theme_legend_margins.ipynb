{
 "cells": [
  {
   "cell_type": "markdown",
   "id": "6dba04d1-a2dd-44a3-8615-5f77e9b26d20",
   "metadata": {},
   "source": [
    "# Legend Spacing and Margins\n",
    "New parameters in theme() to customize the legend spacing and margins:\n",
    "\n",
    "\n",
    "- `legendBoxSpacing` - spacing between plotting area and legend box;\n",
    "\n",
    "- `legendMargin` - margin around each legend;\n",
    "\n",
    "- `legendSpacing` - spacing between legends, `legendSpacingX/legendSpacingY` - spacing between legends in the horizontal/vertical direction.\n",
    "\n",
    "Arrangement of multiple legends:\n",
    "- `fun legendBoxHorizontal()`\n",
    "- `fun legendBoxVertical()`\n",
    "\n",
    "Justification of each legend within the overall bounding box:\n",
    "\n",
    "- `fun legendBoxJustificationLeft()`\n",
    "- `fun legendBoxJustificationRight()`\n",
    "- `fun legendBoxJustificationTop()`\n",
    "- `fun legendBoxJustificationBottom()`\n",
    "- `fun legendBoxJustificationCenter()`"
   ]
  },
  {
   "cell_type": "code",
   "execution_count": null,
   "id": "7b1c280b-8d5c-4829-840e-9e51d7418348",
   "metadata": {},
   "outputs": [],
   "source": [
    "%useLatestDescriptors\n",
    "%use lets-plot\n",
    "\n",
    "%use dataframe"
   ]
  },
  {
   "cell_type": "code",
   "execution_count": null,
   "id": "ff612f73-1d06-4008-9fe3-200f70a42bf1",
   "metadata": {},
   "outputs": [],
   "source": [
    "LetsPlot.getInfo()"
   ]
  },
  {
   "cell_type": "code",
   "execution_count": null,
   "id": "31c54759-634a-45c2-8616-c9aa655433ce",
   "metadata": {},
   "outputs": [],
   "source": [
    "val mpg = DataFrame.readCSV(\"https://raw.githubusercontent.com/JetBrains/lets-plot-docs/master/data/mpg.csv\")\n",
    "mpg.head(3)"
   ]
  },
  {
   "cell_type": "code",
   "execution_count": null,
   "id": "baceae21-9cb1-4eec-9248-d891f2a7e2c6",
   "metadata": {},
   "outputs": [],
   "source": [
    "val p = letsPlot(mpg.toMap()) { x = \"displ\"; y = \"cty\" } +\n",
    "    geomPoint(shape = 21) { fill = \"drv\"; size = \"hwy\" } +\n",
    "    scaleSize(range = 1 to 10, breaks = listOf(15, 30, 40)) +\n",
    "    theme(legendBackground = elementRect(size = 1)).legendPositionBottom()\n",
    "\n",
    "p"
   ]
  },
  {
   "cell_type": "markdown",
   "id": "2296f1cc-9d6a-443a-9565-b62364a202e1",
   "metadata": {},
   "source": [
    "#### `legendMargin`"
   ]
  },
  {
   "cell_type": "code",
   "execution_count": null,
   "id": "57e085ba-b05a-4775-81d2-488a7b8021f7",
   "metadata": {},
   "outputs": [],
   "source": [
    "p + theme(legendMargin = listOf(10, 20))"
   ]
  },
  {
   "cell_type": "markdown",
   "id": "1d657039",
   "metadata": {},
   "source": [
    "#### Arrangement in Legend Box"
   ]
  },
  {
   "cell_type": "code",
   "execution_count": null,
   "id": "ad6f7ad3",
   "metadata": {},
   "outputs": [],
   "source": [
    "p + theme().legendBoxHorizontal()"
   ]
  },
  {
   "cell_type": "markdown",
   "id": "f8794528",
   "metadata": {},
   "source": [
    "#### Legend Justification within Overall Bounding Box"
   ]
  },
  {
   "cell_type": "code",
   "execution_count": null,
   "id": "1994ada1",
   "metadata": {},
   "outputs": [],
   "source": [
    "p + theme().legendBoxJustificationCenter()"
   ]
  },
  {
   "cell_type": "markdown",
   "id": "d973239e",
   "metadata": {},
   "source": [
    "#### `legendBoxSpacing`"
   ]
  },
  {
   "cell_type": "code",
   "execution_count": null,
   "id": "471c192f",
   "metadata": {},
   "outputs": [],
   "source": [
    "p + theme(legendBoxSpacing = 50).legendBoxHorizontal()"
   ]
  }
 ],
 "metadata": {
  "kernelspec": {
   "display_name": "Kotlin",
   "language": "kotlin",
   "name": "kotlin"
  },
  "language_info": {
   "codemirror_mode": "text/x-kotlin",
   "file_extension": ".kt",
   "mimetype": "text/x-kotlin",
   "name": "kotlin",
   "nbconvert_exporter": "",
   "pygments_lexer": "kotlin",
   "version": "1.9.23"
  }
 },
 "nbformat": 4,
 "nbformat_minor": 5
}
