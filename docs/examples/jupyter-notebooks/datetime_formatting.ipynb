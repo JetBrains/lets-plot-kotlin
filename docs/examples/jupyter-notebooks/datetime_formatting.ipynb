{
 "cells": [
  {
   "cell_type": "code",
   "execution_count": null,
   "id": "proved-broadcast",
   "metadata": {},
   "outputs": [],
   "source": [
    "%useLatestDescriptors\n",
    "%use lets-plot\n",
    "%use krangl"
   ]
  },
  {
   "cell_type": "code",
   "execution_count": null,
   "id": "geographic-table",
   "metadata": {},
   "outputs": [],
   "source": [
    "var economics = DataFrame.readCSV(\"https://vincentarelbundock.github.io/Rdatasets/csv/ggplot2/economics.csv\")"
   ]
  },
  {
   "cell_type": "code",
   "execution_count": null,
   "id": "inappropriate-flush",
   "metadata": {},
   "outputs": [],
   "source": [
    "import java.text.SimpleDateFormat\n",
    "val yyyyMmDd = SimpleDateFormat(\"yyyy-MM-dd\")\n",
    "economics = economics.addColumn(\"date\") { it[\"date\"].map<String> {yyyyMmDd.parse(it)}}\n",
    "economics.head(3)"
   ]
  },
  {
   "cell_type": "code",
   "execution_count": null,
   "id": "agricultural-great",
   "metadata": {},
   "outputs": [],
   "source": [
    "import java.util.Date\n",
    "val startDate = yyyyMmDd.parse(\"2000-01-01\")\n",
    "economics = economics.filterByRow { (it[\"date\"] as Date).compareTo(startDate) >= 0 }"
   ]
  },
  {
   "cell_type": "code",
   "execution_count": null,
   "id": "scenic-officer",
   "metadata": {},
   "outputs": [],
   "source": [
    "val p = letsPlot(economics.toMap()){x=\"date\"; y=\"uempmed\"} +\n",
    "     geomLine() + \n",
    "     ylab(\"unemployment rate\")"
   ]
  },
  {
   "cell_type": "code",
   "execution_count": null,
   "id": "reserved-server",
   "metadata": {},
   "outputs": [],
   "source": [
    "// Default.\n",
    "p + scaleXDateTime()"
   ]
  },
  {
   "cell_type": "code",
   "execution_count": null,
   "id": "economic-station",
   "metadata": {},
   "outputs": [],
   "source": [
    "// Format axis labels.\n",
    "\n",
    "p + scaleXDateTime(format=\"%b %Y\") + scaleYContinuous(format=\"{} %\")\n"
   ]
  },
  {
   "cell_type": "code",
   "execution_count": null,
   "id": "sitting-reserve",
   "metadata": {},
   "outputs": [],
   "source": [
    "// Format axis labels for breaks specified manually.\n",
    "val breaks = listOf(\n",
    "    yyyyMmDd.parse(\"2001-01-01\"), \n",
    "    yyyyMmDd.parse(\"2016-01-01\")\n",
    ")\n",
    "\n",
    "p + scaleXDateTime(format=\"%b %Y\", breaks=breaks) + scaleYContinuous(format=\"{} %\")"
   ]
  },
  {
   "cell_type": "code",
   "execution_count": null,
   "id": "formed-hello",
   "metadata": {},
   "outputs": [],
   "source": [
    "// Format value shown in tooltip.\n",
    "letsPlot(economics.toMap()){x=\"date\"; y=\"uempmed\"} + \n",
    " ylab(\"unemployment rate\") +\n",
    " scaleXDateTime() +\n",
    " scaleYContinuous() +\n",
    " geomLine(tooltips=layerTooltips()\n",
    "               .line(\"@uempmed % in @date\")\n",
    "               .format(\"date\", \"%B %Y\")\n",
    "               .color(\"black\")\n",
    "               .anchor(\"top_left\")\n",
    "               .minWidth(170))\n"
   ]
  }
 ],
 "metadata": {
  "kernelspec": {
   "display_name": "Kotlin",
   "language": "kotlin",
   "name": "kotlin"
  },
  "language_info": {
   "codemirror_mode": "kotlin",
   "file_extension": ".kt",
   "mimetype": "text/x-kotlin",
   "name": "kotlin",
   "nbconvert_exporter": "",
   "pygments_lexer": "kotlin",
   "version": "1.6.0-dev-1733"
  }
 },
 "nbformat": 4,
 "nbformat_minor": 5
}