{
 "cells": [
  {
   "cell_type": "markdown",
   "metadata": {
    "pycharm": {
     "name": "#%% md\n"
    }
   },
   "source": [
    "# Lets-Plot Usage Guide\n",
    "\n",
    "<a href=\"https://opensource.org/licenses/MIT\">\n",
    "<img src=\"https://img.shields.io/badge/License-MIT-yellow.svg\" alt=\"Couldn't load MIT license svg\"/>\n",
    "</a>\n",
    "\n",
    "[![Binder](https://mybinder.org/badge_logo.svg)](https://mybinder.org/v2/gh/JetBrains/lets-plot-kotlin/add_docs_ggtitle_sampling?filepath=docs%2Fkotlin-lets-plot-documentation.ipynb)\n",
    "\n",
    "- [System requirements](#sys)\n",
    "- [Installation](#install)\n",
    "- [Understanding architecture](#implementation)\n",
    "- [Learning API](#api)\n",
    "- [Getting started](#gsg)\n",
    "\n",
    "\n",
    "**Lets-Plot** is an open-source plotting library for statistical data. It is implemented using the \n",
    "[Kotlin programming language](https://kotlinlang.org/) that has a multi-platform nature.\n",
    "That's why Lets-Plot provides the plotting functionality that \n",
    "is packaged as a JavaScript library, a JVM library, and a native Python extension.\n",
    "\n",
    "The design of the Lets-Plot library is heavily influenced by Leland Wilkinson's work \n",
    "[The Grammar of Graphics](https://www.goodreads.com/book/show/2549408.The_Grammar_of_Graphics) that describes the features \n",
    "that underlie all statistical graphics.\n",
    "\n",
    "<a name=\"SystemRequirementa\" id=\"sys\"></a>\n",
    "## System requirements\n",
    "When installing the Lets-Plot library, consider the following requirements.\n",
    "\n",
    "Supported operating systems:\n",
    "- macOS\n",
    "- Linux\n",
    "\n",
    "<a name=\"Installation\" id=\"install\"></a>\n",
    "## Installation\n",
    "\n",
    "Library is distributed on Bintray in form of jar-archives.\n",
    "\n",
    "<a name=\"Implementation\" id=\"implementation\"></a>\n",
    "## Understanding Lets-Plot architecture\n",
    "In `lets-plot`, the **plot** is represented at least by one\n",
    "**layer**. It can be built based on the default dataset with the aesthetics mappings, set of scales, or additional \n",
    "features applied.\n",
    "\n",
    "The **Layer** is responsible for creating the objects painted on the ‘canvas’ and it contains the following elements:\n",
    "- **Data** - the set of data specified either once for all layers or on a per layer basis.\n",
    "One plot can combine multiple different datasets (one per layer).\n",
    "- **Aesthetic mapping** - describes how variables in the dataset are mapped to the visual properties of the layer, such as color, shape, size, or position.\n",
    "- **Geometric object** - a geometric object that represents a particular type of charts.\n",
    "- **Statistical transformation** - computes some kind of statistical summary on the raw input data. \n",
    "For example, `bin` statistics is used for histograms and `smooth` is used for regression lines. \n",
    "Most stats take additional parameters to specify details of the statistical transformation of data.\n",
    "- **Position adjustment** - a method used to compute the final coordinates of geometry. \n",
    "Used to build variants of the same `geom` object or to avoid overplotting.\n",
    "\n",
    "![layer diagram](layer-small.png)\n",
    "\n",
    "<a name=\"API\" id=\"api\"></a>\n",
    "## Learning API\n",
    "The typical code fragment that plots a Lets-Plot chart looks as follows:\n",
    "\n",
    "```\n",
    "from lets_plot import *\n",
    "p = ggplot(<dataframe>) \n",
    "p + geom_<chart_type>(stat=<stat>, position=<adjustment>)\n",
    "```\n",
    "\n",
    "### Geometric objects `geom`\n",
    "\n",
    "You can add a new geometric object by specifying an argument in `layer(geom='<type of chart>')`, for example, `layer(geom='point')`.\n",
    "Alternatively, you can add the `geom_xxx` object to `ggplot`:\n",
    "\n",
    "```\n",
    "p = ggplot(data=df)\n",
    "p + geom_point()\n",
    "```\n",
    "\n",
    "The following charts are supported:\n",
    "\n",
    "- Area chart: [`geom_area()`](https://github.com/JetBrains/lets-plot/blob/master/docs/ref/python/geoms.md#geom_area-geom_ribbon)\n",
    "- Bar chart: [`geom_bar()`](https://github.com/JetBrains/lets-plot/blob/master/docs/ref/python/geoms.md#geom_bar--bar-chart)\n",
    "- Boxplot chart: [`geom_boxplot()`](https://github.com/JetBrains/lets-plot/blob/master/docs/ref/python/geoms.md#geom_boxplot)\n",
    "- Contour chart: [`geom_contour(), geom_contourf()`](https://github.com/JetBrains/lets-plot/blob/master/docs/ref/python/geoms.md#geom_contour-geom_contourf)\n",
    "- Density chart: [`geom_density()`](https://github.com/JetBrains/lets-plot/blob/master/docs/ref/python/geoms.md#geom_density)\n",
    "  and [`geom_density2d()`](https://github.com/JetBrains/lets-plot/blob/master/docs/ref/python/geoms.md#geom_density2d-geom_density2df)\n",
    "- Error bar chart: [`geom_errorbar()`](https://github.com/JetBrains/lets-plot/blob/master/docs/ref/python/geoms.md#geom_errorbar)\n",
    "- Historgam: [`geom_histogram()`](https://github.com/JetBrains/lets-plot/blob/master/docs/ref/python/geoms.md#geom_freqpoly-geom_histogram)\n",
    "- Line chart: [`geom_line()`](https://github.com/JetBrains/lets-plot/blob/master/docs/ref/python/geoms.md#geom_path-geom_line-geom_step)\n",
    "- Scatter chart: [`geom_point()`](https://github.com/JetBrains/lets-plot/blob/master/docs/ref/python/geoms.md#geom_point)\n",
    "- Polygon chart:  [`geom_polygon`](https://github.com/JetBrains/lets-plot/blob/master/docs/ref/python/geoms.md#geom_polygon)\n",
    "- Rectangle chart, Tile chart: [`geom_rect()`, `geom_tile()`](https://github.com/JetBrains/lets-plot/blob/master/docs/ref/python/geoms.md#geom_raster-geom_tile-geom_rect)\n",
    "- Image plot: [`geom_image()`](https://github.com/JetBrains/lets-plot/blob/master/docs/ref/python/geoms.md#geom_image)\n",
    "\n",
    "See the [geom reference](https://github.com/JetBrains/lets-plot/blob/master/docs/ref/python/geoms.md) for more information about the supported\n",
    "geometric methods, their arguments, and default values.\n",
    "\n",
    "### Stat `stat`\n",
    "\n",
    "Add `stat` as an argument to `layer` or `geom` methods to define data transformations:\n",
    "\n",
    "`layer(start=\"count\")`\n",
    "\n",
    "Supported transformations:\n",
    "\n",
    "- `identity`:  leaves the data unchanged\n",
    "- `count`:  calculates the number of points with same x-axis coordinate\n",
    "- `bin`:  calculates the number of points with x-axis coordinate in the same level\n",
    "- `smooth`:  performs smoothing\n",
    "- `contour`: calculates contours of 3D data\n",
    "\n",
    "### Aesthetic mappings `mapping`\n",
    "With mappings, you can define how variables in dataset are mapped to the visual elements of the chart.\n",
    "Add the `aes(x, y, other)` method to `layer` or `geom`, where\n",
    "- `x`: the dataframe column to map to the x axis. \n",
    "- `y`: the dataframe column to map to the y axis.\n",
    "- `other`: other visual properties of the chart, such as color, shape, size, or position.\n",
    "\n",
    "`geom_bar(x=\"cty\", y=\"hwy\", color=\"cyl\")`\n",
    "you can use a simplified form:\n",
    "`geom_bar(\"cty\", \"hwy\", color=\"cyl\")`\n",
    "\n",
    "### Position `position`\n",
    "\n",
    "All layers have a position adjustment that resolves overlapping geoms. \n",
    "Override the default settings by using the `position` argument in the `geom` methods:\n",
    "\n",
    "`geom_bar(position='dodge')`\n",
    "\n",
    "Available adjustments:\n",
    "- `dodge` (`position(PosKind.DODGE)`)\n",
    "- `jitter` (`position(PosKind.JITTER)`)\n",
    "- `jitterdodge` (`position(PosKind.JITTER_DODGE)`)\n",
    "- `nudge` (`position(PosKind.NUDGE)`)\n",
    "\n",
    "See the [position reference](https://github.com/JetBrains/lets-plot/blob/master/docs/ref/python/positions.md) for more information about position adjustments.\n",
    "\n",
    "### Features affecting the entire plot\n",
    "\n",
    "#### Scales\n",
    "\n",
    "Scales enable tailored adjustment of data values to visual properties and aesthetics. Override default scales to tweak \n",
    "details like the axis labels or legend keys, or to use a completely different translation from data to aesthetic.\n",
    "For example, to override the fill color on the histogram:\n",
    "\n",
    "`p + geom_histogram() + scale_color_continuous(\"red\", \"green\")`\n",
    "\n",
    "See the list of the available `scale` methods in the [scale reference](https://github.com/JetBrains/lets-plot/blob/master/docs/ref/python/scales.md)\n",
    "\n",
    "#### Legend\n",
    "The axes and legends help users interpret plots.\n",
    "Use the `guide` methods or the `guide` argument of the `scale` method to customize the legend.\n",
    "For example, to define the number of columns in the legend:\n",
    "\n",
    "`p + scale_color_discrete(guide=guide_legend(ncol=2))`\n",
    "\n",
    "See more information in the [guide reference](https://github.com/JetBrains/lets-plot/blob/master/docs/ref/python/guide.md)\n",
    "\n",
    "#### Sampling\n",
    "\n",
    "Sampling is a special technique of data transformation built into Lets-Plot and it is applied after stat transformation.\n",
    "Sampling helps prevents UI freezes and out-pf-memory crashes when attempting to plot an excessively large number of geometries.\n",
    "By default, the technique applies automatically when the data volume exceeds a certain threshold.\n",
    "The `none` value disables any sampling for the given layer. The sampling methods can be chained together using the + operator.\n",
    "\n",
    "Available methods:\n",
    "- `sampling_random_stratified`: randomly selects points from each group proportionally to the group size but also ensures \n",
    "that each group is represented by at least a specified minimum number of points.\n",
    "- `sampling_random`: selects data points at randomly chosen indices without replacement.\n",
    "- `sampling_pick`: analyses X-values and selects all points which X-values get in the set of first `n` X-values found in the population.\n",
    "- `sampling_systematic`: selects data points at evenly distributed indices.\n",
    "- `sampling_vertex_dp`, `sampling_vertex_vw`: simplifies plotting of polygons. \n",
    "There is a choice of two implementation algorithms: Douglas-Peucker (`_dp`) and \n",
    "Visvalingam-Whyatt (`_vw`).\n",
    "\n",
    "For more details, see the [sampling reference](https://github.com/JetBrains/lets-plot/blob/master/docs/sampling_python.md)."
   ]
  },
  {
   "cell_type": "markdown",
   "metadata": {
    "pycharm": {
     "name": "#%% md\n"
    }
   },
   "source": [
    "<a name=\"GSG\" id=\"gsg\"></a>\n",
    "### Getting started\n",
    "\n",
    "Let's plot a point chart built using the mpg dataset.\n",
    "\n",
    "Create the `DataFrame` object and retrieve the data."
   ]
  },
  {
   "cell_type": "code",
   "execution_count": 1,
   "metadata": {
    "jupyter": {
     "outputs_hidden": false
    },
    "pycharm": {
     "is_executing": false,
     "name": "#%%\n"
    }
   },
   "outputs": [
    {
     "name": "stdout",
     "output_type": "stream",
     "text": [
      "+---+------------+-----+-----+----+---+----------+---+---+---+---+-------+\n",
      "|_c0|manufacturer|model|displ|year|cyl|     trans|drv|cty|hwy| fl|  class|\n",
      "+---+------------+-----+-----+----+---+----------+---+---+---+---+-------+\n",
      "|  1|        audi|   a4|  1.8|1999|  4|  auto(l5)|  f| 18| 29|  p|compact|\n",
      "|  2|        audi|   a4|  1.8|1999|  4|manual(m5)|  f| 21| 29|  p|compact|\n",
      "|  3|        audi|   a4|    2|2008|  4|manual(m6)|  f| 20| 31|  p|compact|\n",
      "|  4|        audi|   a4|    2|2008|  4|  auto(av)|  f| 21| 30|  p|compact|\n",
      "|  5|        audi|   a4|  2.8|1999|  6|  auto(l5)|  f| 16| 26|  p|compact|\n",
      "+---+------------+-----+-----+----+---+----------+---+---+---+---+-------+\n",
      "only showing top 5 rows\n",
      "\n"
     ]
    },
    {
     "data": {
      "text/html": [
       "   <div id=\"TZAWc1\"></div>\n",
       "   <script type=\"text/javascript\">\n",
       "       if(!window.letsPlotCallQueue) {\n",
       "           window.letsPlotCallQueue = [];\n",
       "       }; \n",
       "       window.letsPlotCall = function(f) {\n",
       "           window.letsPlotCallQueue.push(f);\n",
       "       };\n",
       "       (function() {\n",
       "           var script = document.createElement(\"script\");\n",
       "           script.type = \"text/javascript\";\n",
       "           script.src = \"https://dl.bintray.com/jetbrains/lets-plot/lets-plot-1.0.0.min.js\";\n",
       "           script.onload = function() {\n",
       "               window.letsPlotCall = function(f) {f();};\n",
       "               window.letsPlotCallQueue.forEach(function(f) {f();});\n",
       "               window.letsPlotCallQueue = [];\n",
       "               \n",
       "               \n",
       "           };\n",
       "           script.onerror = function(event) {\n",
       "               window.letsPlotCall = function(f) {};\n",
       "               window.letsPlotCallQueue = [];\n",
       "               var div = document.createElement(\"div\");\n",
       "               div.style.color = 'darkred';\n",
       "               div.textContent = 'Error loading Lets-Plot JS';\n",
       "               document.getElementById(\"TZAWc1\").appendChild(div);\n",
       "           };\n",
       "           var e = document.getElementById(\"TZAWc1\");\n",
       "           e.appendChild(script);\n",
       "       })();\n",
       "   </script>"
      ]
     },
     "metadata": {},
     "output_type": "display_data"
    }
   ],
   "source": [
    "%use lets-plot,spark\n",
    "\n",
    "val mpg = spark\n",
    "            .read()\n",
    "            .option(\"header\", \"true\")\n",
    "            .csv(\"mpg.csv\")\n",
    "\n",
    "mpg.show(5, true)"
   ]
  },
  {
   "cell_type": "markdown",
   "metadata": {},
   "source": [
    "Plot the basic point chart."
   ]
  },
  {
   "cell_type": "code",
   "execution_count": 2,
   "metadata": {
    "jupyter": {
     "outputs_hidden": false
    },
    "pycharm": {
     "is_executing": false,
     "name": "#%%\n"
    }
   },
   "outputs": [
    {
     "data": {
      "text/plain": []
     },
     "execution_count": 2,
     "metadata": {},
     "output_type": "execute_result"
    },
    {
     "data": {
      "text/html": [
       "   <div id=\"kb9a0v\"></div>\n",
       "   <script type=\"text/javascript\">\n",
       "       (function() {\n",
       "           var plotSpec={\n",
       "'mapping':{\n",
       "'x':\"number\",\n",
       "'y':\"usage\"\n",
       "},\n",
       "'data':{\n",
       "'number':[1.0,2.0,3.0,4.0,5.0,6.0,7.0,8.0,9.0,10.0,11.0,12.0,13.0,14.0,15.0,16.0,17.0,18.0,19.0,20.0,21.0,22.0,23.0,24.0,25.0,26.0,27.0,28.0,29.0,30.0,31.0,32.0,33.0,34.0,35.0,36.0,37.0,38.0,39.0,40.0,41.0,42.0,43.0,44.0,45.0,46.0,47.0,48.0,49.0,50.0,51.0,52.0,53.0,54.0,55.0,56.0,57.0,58.0,59.0,60.0,61.0,62.0,63.0,64.0,65.0,66.0,67.0,68.0,69.0,70.0,71.0,72.0,73.0,74.0,75.0,76.0,77.0,78.0,79.0,80.0,81.0,82.0,83.0,84.0,85.0,86.0,87.0,88.0,89.0,90.0,91.0,92.0,93.0,94.0,95.0,96.0,97.0,98.0,99.0,100.0,101.0,102.0,103.0,104.0,105.0,106.0,107.0,108.0,109.0,110.0,111.0,112.0,113.0,114.0,115.0,116.0,117.0,118.0,119.0,120.0,121.0,122.0,123.0,124.0,125.0,126.0,127.0,128.0,129.0,130.0,131.0,132.0,133.0,134.0,135.0,136.0,137.0,138.0,139.0,140.0,141.0,142.0,143.0,144.0,145.0,146.0,147.0,148.0,149.0,150.0,151.0,152.0,153.0,154.0,155.0,156.0,157.0,158.0,159.0,160.0,161.0,162.0,163.0,164.0,165.0,166.0,167.0,168.0,169.0,170.0,171.0,172.0,173.0,174.0,175.0,176.0,177.0,178.0,179.0,180.0,181.0,182.0,183.0,184.0,185.0,186.0,187.0,188.0,189.0,190.0,191.0,192.0,193.0,194.0,195.0,196.0,197.0,198.0,199.0,200.0,201.0,202.0,203.0,204.0,205.0,206.0,207.0,208.0,209.0,210.0,211.0,212.0,213.0,214.0,215.0,216.0,217.0,218.0,219.0,220.0,221.0,222.0,223.0,224.0,225.0,226.0,227.0,228.0,229.0,230.0,231.0,232.0,233.0,234.0],\n",
       "'usage':[18.0,21.0,20.0,21.0,16.0,18.0,18.0,18.0,16.0,20.0,19.0,15.0,17.0,17.0,15.0,15.0,17.0,16.0,14.0,11.0,14.0,13.0,12.0,16.0,15.0,16.0,15.0,15.0,14.0,11.0,11.0,14.0,19.0,22.0,18.0,18.0,17.0,18.0,17.0,16.0,16.0,17.0,17.0,11.0,15.0,15.0,16.0,16.0,15.0,14.0,13.0,14.0,14.0,14.0,9.0,11.0,11.0,13.0,13.0,9.0,13.0,11.0,13.0,11.0,12.0,9.0,13.0,13.0,12.0,9.0,11.0,11.0,13.0,11.0,11.0,11.0,12.0,14.0,15.0,14.0,13.0,13.0,13.0,14.0,14.0,13.0,13.0,13.0,11.0,13.0,18.0,18.0,17.0,16.0,15.0,15.0,15.0,15.0,14.0,28.0,24.0,25.0,23.0,24.0,26.0,25.0,24.0,21.0,18.0,18.0,21.0,21.0,18.0,18.0,19.0,19.0,19.0,20.0,20.0,17.0,16.0,17.0,17.0,15.0,15.0,14.0,9.0,14.0,13.0,11.0,11.0,12.0,12.0,11.0,11.0,11.0,12.0,14.0,13.0,13.0,13.0,21.0,19.0,23.0,23.0,19.0,19.0,18.0,19.0,19.0,14.0,15.0,14.0,12.0,18.0,16.0,17.0,18.0,16.0,18.0,18.0,20.0,19.0,20.0,18.0,21.0,19.0,19.0,19.0,20.0,20.0,19.0,20.0,15.0,16.0,15.0,15.0,16.0,14.0,21.0,21.0,21.0,21.0,18.0,18.0,19.0,21.0,21.0,21.0,22.0,18.0,18.0,18.0,24.0,24.0,26.0,28.0,26.0,11.0,13.0,15.0,16.0,17.0,15.0,15.0,15.0,16.0,21.0,19.0,21.0,22.0,17.0,33.0,21.0,19.0,22.0,21.0,21.0,21.0,16.0,17.0,35.0,29.0,21.0,19.0,20.0,20.0,21.0,18.0,19.0,21.0,16.0,18.0,17.0]\n",
       "},\n",
       "'kind':\"plot\",\n",
       "'scales':[],\n",
       "'layers':[{\n",
       "'stat':\"identity\",\n",
       "'mapping':{\n",
       "},\n",
       "'data':{\n",
       "},\n",
       "'position':\"identity\",\n",
       "'geom':\"point\"\n",
       "}]\n",
       "};\n",
       "           var plotContainer = document.getElementById(\"kb9a0v\");\n",
       "           window.letsPlotCall(function() {{\n",
       "               LetsPlot.buildPlotFromProcessedSpecs(plotSpec, -1, -1, plotContainer);\n",
       "           }});\n",
       "       })();    \n",
       "   </script>"
      ]
     },
     "metadata": {},
     "output_type": "display_data"
    }
   ],
   "source": [
    "fun colAsInt(col: String): List<Int> {\n",
    "    return mpg.select(col).collectAsList().map{(it[0] as String).toInt()}\n",
    "}\n",
    "\n",
    "fun colAsDouble(col: String): List<Double> {\n",
    "    return mpg.select(col).collectAsList().map{(it[0] as String).toDouble()}\n",
    "}\n",
    "\n",
    "fun colAsString(col: String): List<String> {\n",
    "    return mpg.select(col).collectAsList().map{it[0] as String}\n",
    "}\n",
    "\n",
    "val df = mapOf(\n",
    "    \"displ\" to colAsDouble(\"displ\"),\n",
    "    \"hwy\" to colAsInt(\"hwy\"),\n",
    "    \"cyl\" to colAsInt(\"cyl\"),\n",
    "    \"number\" to colAsInt(\"_c0\"),\n",
    "    \"usage\" to colAsInt(\"cty\"),\n",
    "    \"drv\" to colAsString(\"drv\"),\n",
    "    \"year\" to colAsInt(\"year\")\n",
    ")\n",
    "\n",
    "val p = lets_plot(df) {x = \"number\"; y = \"usage\"}\n",
    "p + geom_point()"
   ]
  },
  {
   "cell_type": "markdown",
   "metadata": {},
   "source": [
    "Perform the following aesthetic mappings:\n",
    " - `x` = displ (the **displ** column of the dataframe)\n",
    " - `y` = hwy  (the **hwy** column of the dataframe)\n",
    " - `color` = cyl (the **cyl** column of the dataframe)"
   ]
  },
  {
   "cell_type": "code",
   "execution_count": 3,
   "metadata": {
    "jupyter": {
     "outputs_hidden": false
    },
    "pycharm": {
     "is_executing": false,
     "name": "#%%\n"
    }
   },
   "outputs": [
    {
     "data": {
      "text/plain": []
     },
     "execution_count": 3,
     "metadata": {},
     "output_type": "execute_result"
    },
    {
     "data": {
      "text/html": [
       "   <div id=\"XMRUq8\"></div>\n",
       "   <script type=\"text/javascript\">\n",
       "       (function() {\n",
       "           var plotSpec={\n",
       "'mapping':{\n",
       "'color':\"cyl\",\n",
       "'x':\"displ\",\n",
       "'y':\"hwy\"\n",
       "},\n",
       "'data':{\n",
       "},\n",
       "'kind':\"plot\",\n",
       "'scales':[],\n",
       "'layers':[{\n",
       "'stat':\"identity\",\n",
       "'mapping':{\n",
       "},\n",
       "'data':{\n",
       "'cyl':[4.0,4.0,4.0,4.0,6.0,6.0,6.0,4.0,4.0,4.0,4.0,6.0,6.0,6.0,6.0,6.0,6.0,8.0,8.0,8.0,8.0,8.0,8.0,8.0,8.0,8.0,8.0,8.0,8.0,8.0,8.0,8.0,4.0,4.0,6.0,6.0,6.0,4.0,6.0,6.0,6.0,6.0,6.0,6.0,6.0,6.0,6.0,6.0,6.0,6.0,6.0,6.0,8.0,8.0,8.0,8.0,8.0,6.0,8.0,8.0,8.0,8.0,8.0,8.0,8.0,8.0,8.0,8.0,8.0,8.0,8.0,8.0,8.0,8.0,8.0,8.0,8.0,6.0,6.0,6.0,6.0,8.0,8.0,6.0,6.0,8.0,8.0,8.0,8.0,8.0,6.0,6.0,6.0,6.0,8.0,8.0,8.0,8.0,8.0,4.0,4.0,4.0,4.0,4.0,4.0,4.0,4.0,4.0,4.0,4.0,4.0,4.0,6.0,6.0,6.0,4.0,4.0,4.0,4.0,6.0,6.0,6.0,6.0,6.0,6.0,8.0,8.0,8.0,8.0,8.0,8.0,8.0,8.0,8.0,8.0,8.0,8.0,6.0,6.0,8.0,8.0,4.0,4.0,4.0,4.0,6.0,6.0,6.0,6.0,6.0,6.0,6.0,6.0,8.0,6.0,6.0,6.0,6.0,8.0,4.0,4.0,4.0,4.0,4.0,4.0,4.0,4.0,4.0,4.0,4.0,4.0,4.0,4.0,4.0,4.0,6.0,6.0,6.0,8.0,4.0,4.0,4.0,4.0,6.0,6.0,6.0,4.0,4.0,4.0,4.0,6.0,6.0,6.0,4.0,4.0,4.0,4.0,4.0,8.0,8.0,4.0,4.0,4.0,6.0,6.0,6.0,6.0,4.0,4.0,4.0,4.0,6.0,4.0,4.0,4.0,4.0,4.0,5.0,5.0,6.0,6.0,4.0,4.0,4.0,4.0,5.0,5.0,4.0,4.0,4.0,4.0,6.0,6.0,6.0],\n",
       "'displ':[1.8,1.8,2.0,2.0,2.8,2.8,3.1,1.8,1.8,2.0,2.0,2.8,2.8,3.1,3.1,2.8,3.1,4.2,5.3,5.3,5.3,5.7,6.0,5.7,5.7,6.2,6.2,7.0,5.3,5.3,5.7,6.5,2.4,2.4,3.1,3.5,3.6,2.4,3.0,3.3,3.3,3.3,3.3,3.3,3.8,3.8,3.8,4.0,3.7,3.7,3.9,3.9,4.7,4.7,4.7,5.2,5.2,3.9,4.7,4.7,4.7,5.2,5.7,5.9,4.7,4.7,4.7,4.7,4.7,4.7,5.2,5.2,5.7,5.9,4.6,5.4,5.4,4.0,4.0,4.0,4.0,4.6,5.0,4.2,4.2,4.6,4.6,4.6,5.4,5.4,3.8,3.8,4.0,4.0,4.6,4.6,4.6,4.6,5.4,1.6,1.6,1.6,1.6,1.6,1.8,1.8,1.8,2.0,2.4,2.4,2.4,2.4,2.5,2.5,3.3,2.0,2.0,2.0,2.0,2.7,2.7,2.7,3.0,3.7,4.0,4.7,4.7,4.7,5.7,6.1,4.0,4.2,4.4,4.6,5.4,5.4,5.4,4.0,4.0,4.6,5.0,2.4,2.4,2.5,2.5,3.5,3.5,3.0,3.0,3.5,3.3,3.3,4.0,5.6,3.1,3.8,3.8,3.8,5.3,2.5,2.5,2.5,2.5,2.5,2.5,2.2,2.2,2.5,2.5,2.5,2.5,2.5,2.5,2.7,2.7,3.4,3.4,4.0,4.7,2.2,2.2,2.4,2.4,3.0,3.0,3.5,2.2,2.2,2.4,2.4,3.0,3.0,3.3,1.8,1.8,1.8,1.8,1.8,4.7,5.7,2.7,2.7,2.7,3.4,3.4,4.0,4.0,2.0,2.0,2.0,2.0,2.8,1.9,2.0,2.0,2.0,2.0,2.5,2.5,2.8,2.8,1.9,1.9,2.0,2.0,2.5,2.5,1.8,1.8,2.0,2.0,2.8,2.8,3.6],\n",
       "'hwy':[29.0,29.0,31.0,30.0,26.0,26.0,27.0,26.0,25.0,28.0,27.0,25.0,25.0,25.0,25.0,24.0,25.0,23.0,20.0,15.0,20.0,17.0,17.0,26.0,23.0,26.0,25.0,24.0,19.0,14.0,15.0,17.0,27.0,30.0,26.0,29.0,26.0,24.0,24.0,22.0,22.0,24.0,24.0,17.0,22.0,21.0,23.0,23.0,19.0,18.0,17.0,17.0,19.0,19.0,12.0,17.0,15.0,17.0,17.0,12.0,17.0,16.0,18.0,15.0,16.0,12.0,17.0,17.0,16.0,12.0,15.0,16.0,17.0,15.0,17.0,17.0,18.0,17.0,19.0,17.0,19.0,19.0,17.0,17.0,17.0,16.0,16.0,17.0,15.0,17.0,26.0,25.0,26.0,24.0,21.0,22.0,23.0,22.0,20.0,33.0,32.0,32.0,29.0,32.0,34.0,36.0,36.0,29.0,26.0,27.0,30.0,31.0,26.0,26.0,28.0,26.0,29.0,28.0,27.0,24.0,24.0,24.0,22.0,19.0,20.0,17.0,12.0,19.0,18.0,14.0,15.0,18.0,18.0,15.0,17.0,16.0,18.0,17.0,19.0,19.0,17.0,29.0,27.0,31.0,32.0,27.0,26.0,26.0,25.0,25.0,17.0,17.0,20.0,18.0,26.0,26.0,27.0,28.0,25.0,25.0,24.0,27.0,25.0,26.0,23.0,26.0,26.0,26.0,26.0,25.0,27.0,25.0,27.0,20.0,20.0,19.0,17.0,20.0,17.0,29.0,27.0,31.0,31.0,26.0,26.0,28.0,27.0,29.0,31.0,31.0,26.0,26.0,27.0,30.0,33.0,35.0,37.0,35.0,15.0,18.0,20.0,20.0,22.0,17.0,19.0,18.0,20.0,29.0,26.0,29.0,29.0,24.0,44.0,29.0,26.0,29.0,29.0,29.0,29.0,23.0,24.0,44.0,41.0,29.0,26.0,28.0,29.0,29.0,29.0,28.0,29.0,26.0,26.0,26.0]\n",
       "},\n",
       "'position':\"identity\",\n",
       "'geom':\"point\"\n",
       "}]\n",
       "};\n",
       "           var plotContainer = document.getElementById(\"XMRUq8\");\n",
       "           window.letsPlotCall(function() {{\n",
       "               LetsPlot.buildPlotFromProcessedSpecs(plotSpec, -1, -1, plotContainer);\n",
       "           }});\n",
       "       })();    \n",
       "   </script>"
      ]
     },
     "metadata": {},
     "output_type": "display_data"
    }
   ],
   "source": [
    "// Mapping\n",
    "lets_plot(df) {x = \"displ\"; y = \"hwy\"; color = \"cyl\"} + geom_point(df)"
   ]
  },
  {
   "cell_type": "markdown",
   "metadata": {},
   "source": [
    "Apply statistical data transformation to count the number of cases at each x position."
   ]
  },
  {
   "cell_type": "code",
   "execution_count": 4,
   "metadata": {
    "jupyter": {
     "outputs_hidden": false
    },
    "pycharm": {
     "is_executing": false,
     "name": "#%%\n"
    }
   },
   "outputs": [
    {
     "data": {
      "text/plain": []
     },
     "execution_count": 4,
     "metadata": {},
     "output_type": "execute_result"
    },
    {
     "data": {
      "text/html": [
       "   <div id=\"RNOYDT\"></div>\n",
       "   <script type=\"text/javascript\">\n",
       "       (function() {\n",
       "           var plotSpec={\n",
       "'mapping':{\n",
       "'color':\"cyl\",\n",
       "'x':\"displ\",\n",
       "'y':\"hwy\"\n",
       "},\n",
       "'data':{\n",
       "},\n",
       "'kind':\"plot\",\n",
       "'scales':[],\n",
       "'layers':[{\n",
       "'stat':\"count\",\n",
       "'mapping':{\n",
       "},\n",
       "'data':{\n",
       "'cyl':[5.88888888888889,5.88888888888889,5.88888888888889,5.88888888888889,5.88888888888889,5.88888888888889,5.88888888888889,5.88888888888889,5.88888888888889,5.88888888888889,5.88888888888889,5.88888888888889,5.88888888888889,5.88888888888889,5.88888888888889,5.88888888888889,5.88888888888889,5.88888888888889,5.88888888888889,5.88888888888889,5.88888888888889,5.88888888888889,5.88888888888889,5.88888888888889,5.88888888888889,5.88888888888889,5.88888888888889,5.88888888888889,5.88888888888889,5.88888888888889,5.88888888888889,5.88888888888889,5.88888888888889,5.88888888888889,5.88888888888889],\n",
       "'displ':[1.8,2.0,2.8,3.1,4.2,5.3,5.7,6.0,6.2,7.0,6.5,2.4,3.5,3.6,3.0,3.3,3.8,4.0,3.7,3.9,4.7,5.2,5.9,4.6,5.4,5.0,1.6,2.5,2.7,6.1,4.4,5.6,2.2,3.4,1.9],\n",
       "'hwy':[14.0,21.0,10.0,6.0,4.0,6.0,8.0,1.0,2.0,1.0,1.0,13.0,5.0,2.0,8.0,9.0,8.0,15.0,3.0,3.0,17.0,5.0,2.0,11.0,8.0,2.0,5.0,20.0,8.0,1.0,1.0,1.0,6.0,4.0,3.0]\n",
       "},\n",
       "'position':\"identity\",\n",
       "'geom':\"point\"\n",
       "}]\n",
       "};\n",
       "           var plotContainer = document.getElementById(\"RNOYDT\");\n",
       "           window.letsPlotCall(function() {{\n",
       "               LetsPlot.buildPlotFromProcessedSpecs(plotSpec, -1, -1, plotContainer);\n",
       "           }});\n",
       "       })();    \n",
       "   </script>"
      ]
     },
     "metadata": {},
     "output_type": "display_data"
    }
   ],
   "source": [
    "val p = lets_plot(df) {x = \"displ\"; y = \"hwy\"; color = \"cyl\"}\n",
    "p + geom_point(df, stat = Stat.count())"
   ]
  },
  {
   "cell_type": "markdown",
   "metadata": {},
   "source": [
    "Change the pallete and the legend, add the title. "
   ]
  },
  {
   "cell_type": "code",
   "execution_count": 5,
   "metadata": {
    "jupyter": {
     "outputs_hidden": false
    },
    "pycharm": {
     "is_executing": false,
     "name": "#%%\n"
    }
   },
   "outputs": [
    {
     "data": {
      "text/plain": []
     },
     "execution_count": 5,
     "metadata": {},
     "output_type": "execute_result"
    },
    {
     "data": {
      "text/html": [
       "   <div id=\"zsKWxS\"></div>\n",
       "   <script type=\"text/javascript\">\n",
       "       (function() {\n",
       "           var plotSpec={\n",
       "'ggtitle':{\n",
       "'text':\"Displacement by horsepower\"\n",
       "},\n",
       "'mapping':{\n",
       "'color':\"cyl\",\n",
       "'x':\"displ\",\n",
       "'y':\"hwy\"\n",
       "},\n",
       "'data':{\n",
       "},\n",
       "'kind':\"plot\",\n",
       "'scales':[{\n",
       "'aesthetic':\"color\",\n",
       "'scale_mapper_kind':\"color_gradient\",\n",
       "'high':\"green\",\n",
       "'low':\"red\",\n",
       "'guide':{\n",
       "'ncol':2\n",
       "}\n",
       "}],\n",
       "'layers':[{\n",
       "'stat':\"identity\",\n",
       "'mapping':{\n",
       "},\n",
       "'data':{\n",
       "'cyl':[4.0,4.0,4.0,4.0,6.0,6.0,6.0,4.0,4.0,4.0,4.0,6.0,6.0,6.0,6.0,6.0,6.0,8.0,8.0,8.0,8.0,8.0,8.0,8.0,8.0,8.0,8.0,8.0,8.0,8.0,8.0,8.0,4.0,4.0,6.0,6.0,6.0,4.0,6.0,6.0,6.0,6.0,6.0,6.0,6.0,6.0,6.0,6.0,6.0,6.0,6.0,6.0,8.0,8.0,8.0,8.0,8.0,6.0,8.0,8.0,8.0,8.0,8.0,8.0,8.0,8.0,8.0,8.0,8.0,8.0,8.0,8.0,8.0,8.0,8.0,8.0,8.0,6.0,6.0,6.0,6.0,8.0,8.0,6.0,6.0,8.0,8.0,8.0,8.0,8.0,6.0,6.0,6.0,6.0,8.0,8.0,8.0,8.0,8.0,4.0,4.0,4.0,4.0,4.0,4.0,4.0,4.0,4.0,4.0,4.0,4.0,4.0,6.0,6.0,6.0,4.0,4.0,4.0,4.0,6.0,6.0,6.0,6.0,6.0,6.0,8.0,8.0,8.0,8.0,8.0,8.0,8.0,8.0,8.0,8.0,8.0,8.0,6.0,6.0,8.0,8.0,4.0,4.0,4.0,4.0,6.0,6.0,6.0,6.0,6.0,6.0,6.0,6.0,8.0,6.0,6.0,6.0,6.0,8.0,4.0,4.0,4.0,4.0,4.0,4.0,4.0,4.0,4.0,4.0,4.0,4.0,4.0,4.0,4.0,4.0,6.0,6.0,6.0,8.0,4.0,4.0,4.0,4.0,6.0,6.0,6.0,4.0,4.0,4.0,4.0,6.0,6.0,6.0,4.0,4.0,4.0,4.0,4.0,8.0,8.0,4.0,4.0,4.0,6.0,6.0,6.0,6.0,4.0,4.0,4.0,4.0,6.0,4.0,4.0,4.0,4.0,4.0,5.0,5.0,6.0,6.0,4.0,4.0,4.0,4.0,5.0,5.0,4.0,4.0,4.0,4.0,6.0,6.0,6.0],\n",
       "'displ':[1.8,1.8,2.0,2.0,2.8,2.8,3.1,1.8,1.8,2.0,2.0,2.8,2.8,3.1,3.1,2.8,3.1,4.2,5.3,5.3,5.3,5.7,6.0,5.7,5.7,6.2,6.2,7.0,5.3,5.3,5.7,6.5,2.4,2.4,3.1,3.5,3.6,2.4,3.0,3.3,3.3,3.3,3.3,3.3,3.8,3.8,3.8,4.0,3.7,3.7,3.9,3.9,4.7,4.7,4.7,5.2,5.2,3.9,4.7,4.7,4.7,5.2,5.7,5.9,4.7,4.7,4.7,4.7,4.7,4.7,5.2,5.2,5.7,5.9,4.6,5.4,5.4,4.0,4.0,4.0,4.0,4.6,5.0,4.2,4.2,4.6,4.6,4.6,5.4,5.4,3.8,3.8,4.0,4.0,4.6,4.6,4.6,4.6,5.4,1.6,1.6,1.6,1.6,1.6,1.8,1.8,1.8,2.0,2.4,2.4,2.4,2.4,2.5,2.5,3.3,2.0,2.0,2.0,2.0,2.7,2.7,2.7,3.0,3.7,4.0,4.7,4.7,4.7,5.7,6.1,4.0,4.2,4.4,4.6,5.4,5.4,5.4,4.0,4.0,4.6,5.0,2.4,2.4,2.5,2.5,3.5,3.5,3.0,3.0,3.5,3.3,3.3,4.0,5.6,3.1,3.8,3.8,3.8,5.3,2.5,2.5,2.5,2.5,2.5,2.5,2.2,2.2,2.5,2.5,2.5,2.5,2.5,2.5,2.7,2.7,3.4,3.4,4.0,4.7,2.2,2.2,2.4,2.4,3.0,3.0,3.5,2.2,2.2,2.4,2.4,3.0,3.0,3.3,1.8,1.8,1.8,1.8,1.8,4.7,5.7,2.7,2.7,2.7,3.4,3.4,4.0,4.0,2.0,2.0,2.0,2.0,2.8,1.9,2.0,2.0,2.0,2.0,2.5,2.5,2.8,2.8,1.9,1.9,2.0,2.0,2.5,2.5,1.8,1.8,2.0,2.0,2.8,2.8,3.6],\n",
       "'hwy':[29.0,29.0,31.0,30.0,26.0,26.0,27.0,26.0,25.0,28.0,27.0,25.0,25.0,25.0,25.0,24.0,25.0,23.0,20.0,15.0,20.0,17.0,17.0,26.0,23.0,26.0,25.0,24.0,19.0,14.0,15.0,17.0,27.0,30.0,26.0,29.0,26.0,24.0,24.0,22.0,22.0,24.0,24.0,17.0,22.0,21.0,23.0,23.0,19.0,18.0,17.0,17.0,19.0,19.0,12.0,17.0,15.0,17.0,17.0,12.0,17.0,16.0,18.0,15.0,16.0,12.0,17.0,17.0,16.0,12.0,15.0,16.0,17.0,15.0,17.0,17.0,18.0,17.0,19.0,17.0,19.0,19.0,17.0,17.0,17.0,16.0,16.0,17.0,15.0,17.0,26.0,25.0,26.0,24.0,21.0,22.0,23.0,22.0,20.0,33.0,32.0,32.0,29.0,32.0,34.0,36.0,36.0,29.0,26.0,27.0,30.0,31.0,26.0,26.0,28.0,26.0,29.0,28.0,27.0,24.0,24.0,24.0,22.0,19.0,20.0,17.0,12.0,19.0,18.0,14.0,15.0,18.0,18.0,15.0,17.0,16.0,18.0,17.0,19.0,19.0,17.0,29.0,27.0,31.0,32.0,27.0,26.0,26.0,25.0,25.0,17.0,17.0,20.0,18.0,26.0,26.0,27.0,28.0,25.0,25.0,24.0,27.0,25.0,26.0,23.0,26.0,26.0,26.0,26.0,25.0,27.0,25.0,27.0,20.0,20.0,19.0,17.0,20.0,17.0,29.0,27.0,31.0,31.0,26.0,26.0,28.0,27.0,29.0,31.0,31.0,26.0,26.0,27.0,30.0,33.0,35.0,37.0,35.0,15.0,18.0,20.0,20.0,22.0,17.0,19.0,18.0,20.0,29.0,26.0,29.0,29.0,24.0,44.0,29.0,26.0,29.0,29.0,29.0,29.0,23.0,24.0,44.0,41.0,29.0,26.0,28.0,29.0,29.0,29.0,28.0,29.0,26.0,26.0,26.0]\n",
       "},\n",
       "'position':\"nudge\",\n",
       "'geom':\"point\"\n",
       "}]\n",
       "};\n",
       "           var plotContainer = document.getElementById(\"zsKWxS\");\n",
       "           window.letsPlotCall(function() {{\n",
       "               LetsPlot.buildPlotFromProcessedSpecs(plotSpec, -1, -1, plotContainer);\n",
       "           }});\n",
       "       })();    \n",
       "   </script>"
      ]
     },
     "metadata": {},
     "output_type": "display_data"
    }
   ],
   "source": [
    "import jetbrains.letsPlot.scale.*\n",
    "\n",
    "val p = lets_plot(df) {x = \"displ\"; y = \"hwy\"; color = \"cyl\"}\n",
    "p + \n",
    "    geom_point(df, position = Pos.nudge) + \n",
    "    scale_color_continuous(\"red\", \"green\", guide = guide_legend(ncol=2)) + \n",
    "    ggtitle(\"Displacement by horsepower\")    "
   ]
  },
  {
   "cell_type": "markdown",
   "metadata": {},
   "source": [
    "Apply the randomly stratified sampling to select points from each group proportionally \n",
    "to the group size."
   ]
  },
  {
   "cell_type": "code",
   "execution_count": 7,
   "metadata": {
    "jupyter": {
     "outputs_hidden": false
    },
    "pycharm": {
     "is_executing": false,
     "name": "#%%\n"
    }
   },
   "outputs": [
    {
     "data": {
      "text/plain": []
     },
     "execution_count": 7,
     "metadata": {},
     "output_type": "execute_result"
    },
    {
     "data": {
      "text/html": [
       "   <div id=\"nqtxY4\"></div>\n",
       "   <script type=\"text/javascript\">\n",
       "       (function() {\n",
       "           var plotSpec={\n",
       "'mapping':{\n",
       "'color':\"cyl\",\n",
       "'x':\"displ\",\n",
       "'y':\"hwy\"\n",
       "},\n",
       "'data':{\n",
       "},\n",
       "'kind':\"plot\",\n",
       "'computation_messages':[\"sampling_random_stratified(n=40) was applied to [point/identity stat] layer\"],\n",
       "'scales':[{\n",
       "'aesthetic':\"color\",\n",
       "'scale_mapper_kind':\"color_gradient\",\n",
       "'high':\"pink\",\n",
       "'low':\"blue\",\n",
       "'guide':{\n",
       "'ncol':2\n",
       "}\n",
       "}],\n",
       "'layers':[{\n",
       "'stat':\"identity\",\n",
       "'mapping':{\n",
       "},\n",
       "'data':{\n",
       "'cyl':[4.0,6.0,4.0,8.0,8.0,4.0,6.0,6.0,6.0,8.0,8.0,8.0,8.0,8.0,8.0,6.0,8.0,4.0,4.0,6.0,4.0,8.0,8.0,8.0,6.0,8.0,4.0,6.0,4.0,4.0,4.0,8.0,4.0,4.0,4.0,4.0,4.0,6.0,4.0,6.0],\n",
       "'displ':[2.0,2.8,1.8,5.7,6.5,2.4,3.6,3.3,3.7,5.2,5.2,4.7,4.7,4.7,5.9,3.8,4.6,1.6,2.4,2.5,2.0,6.1,4.0,4.6,4.0,4.6,2.5,3.8,2.5,2.5,2.5,4.7,2.4,1.8,1.8,1.8,1.8,3.4,2.0,3.6],\n",
       "'hwy':[30.0,26.0,26.0,15.0,17.0,27.0,26.0,24.0,18.0,17.0,15.0,17.0,17.0,12.0,15.0,26.0,22.0,33.0,26.0,26.0,27.0,14.0,15.0,15.0,19.0,19.0,31.0,27.0,25.0,24.0,27.0,17.0,31.0,30.0,33.0,37.0,35.0,19.0,26.0,26.0]\n",
       "},\n",
       "'sampling':{\n",
       "'name':\"random_stratified\",\n",
       "'n':40\n",
       "},\n",
       "'position':\"nudge\",\n",
       "'geom':\"point\"\n",
       "}]\n",
       "};\n",
       "           var plotContainer = document.getElementById(\"nqtxY4\");\n",
       "           window.letsPlotCall(function() {{\n",
       "               LetsPlot.buildPlotFromProcessedSpecs(plotSpec, -1, -1, plotContainer);\n",
       "           }});\n",
       "       })();    \n",
       "   </script>"
      ]
     },
     "metadata": {},
     "output_type": "display_data"
    }
   ],
   "source": [
    "import jetbrains.letsPlot.scale.*\n",
    "import jetbrains.letsPlot.intern.*\n",
    "import jetbrains.letsPlot.sampling.*\n",
    "\n",
    "val p = lets_plot(df) {x = \"displ\"; y = \"hwy\"; color = \"cyl\"}\n",
    "p   + geom_point(\n",
    "      data=df, position=Pos.nudge, \n",
    "      sampling = sampling_random_stratified(40)\n",
    "  ) + scale_color_continuous(\n",
    "      \"blue\", \"pink\",\n",
    "      guide = guide_legend(ncol=2)\n",
    "  )"
   ]
  },
  {
   "cell_type": "code",
   "execution_count": null,
   "metadata": {},
   "outputs": [],
   "source": []
  }
 ],
 "metadata": {
  "kernelspec": {
   "display_name": "Kotlin",
   "language": "kotlin",
   "name": "kotlin"
  },
  "language_info": {
   "codemirror_mode": "text/x-kotlin",
   "file_extension": "kt",
   "name": "kotlin"
  },
  "pycharm": {
   "stem_cell": {
    "cell_type": "raw",
    "metadata": {
     "collapsed": false
    },
    "source": []
   }
  }
 },
 "nbformat": 4,
 "nbformat_minor": 4
}
